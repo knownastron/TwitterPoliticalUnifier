{
 "cells": [
  {
   "cell_type": "code",
   "execution_count": 45,
   "metadata": {},
   "outputs": [],
   "source": [
    "from tweepy import API\n",
    "from tweepy import OAuthHandler\n",
    " \n",
    " \n",
    "import twitter_credentials\n",
    " \n",
    "\n",
    "auth = OAuthHandler(twitter_credentials.CONSUMER_KEY, twitter_credentials.CONSUMER_SECRET)\n",
    "auth.set_access_token(twitter_credentials.ACCESS_TOKEN, twitter_credentials.ACCESS_TOKEN_SECRET)                          \n",
    "api = API(auth)\n",
    " \n",
    "favorites = api.favorites('@knownastron') # \n",
    "    \n"
   ]
  },
  {
   "cell_type": "code",
   "execution_count": 46,
   "metadata": {},
   "outputs": [],
   "source": [
    "ya1 = ya[10].__dict__"
   ]
  },
  {
   "cell_type": "code",
   "execution_count": 49,
   "metadata": {
    "scrolled": true
   },
   "outputs": [
    {
     "name": "stdout",
     "output_type": "stream",
     "text": [
      "0 https://t.co/5disYyTfl7\n",
      "1 Part two https://t.co/uwMS3coImL\n",
      "2 But adding bananas into my diet, I have no Charlie horses anymore.\n",
      "3 Clipse will always be my favorite group, coke rap at it's purest, nobody does it better\n",
      "4 I really just want to post something about kevin o'leary and Justin tredeau on Facebook and watch people fight it out in the comments! 😂\n",
      "5 Jeez this guy has no chill haha #BRIT2017 https://t.co/UHAceTl8ej\n",
      "6 We’re back in the tank in 6 minutes! #SharkTank @ABCSharkTank\n",
      "7 It's that time again...\n",
      "\n",
      "https://t.co/cJO6pcNU84\n",
      "8 @knownastron perhaps you should try harder\n",
      "9 @K_Loran12 https://t.co/pXbbKQAe4M\n",
      "10 When @K_Loran12 cuts you from the indoor ball team without even tell you so you pray to satan that he tears his ACL… https://t.co/OrKjHkiGa6\n",
      "11 The US presidential debates are so much more entertaining than Canada’s PM debates.. #trumpmywalls\n",
      "12 This is awesome. I was inspired by the way Bird played (even tho I hated to admit it back then) and have a hip repl… https://t.co/PAf6dOrdbG\n",
      "13 If I was a US citizen, I would 100% vote Donald trump. I'm not joking either. @knownastron\n",
      "14 Pour one out for the unsent messages at LB5Q.... It was a noble try #whereisbuddy https://t.co/tfXMPNDetF\n",
      "15 Not wanting to go to sleep on a Sunday because it means Monday will come faster\n",
      "16 Yeah, as if we don’t know you that you were involved in the millions of deaths and misplaced persons, yeah #Iseeyou\n",
      "17 When Hilary Clinton feels the guilt of 9/11 and is forced to leave memorial. el oh el. #IseeYou\n",
      "18 \"Did they gay you up yet?\"- my mom on my gender studies class\n",
      "19 The moment you find out your translucent powder has terrible flashback 🖕🏼 https://t.co/lNSyWDrbPP\n"
     ]
    }
   ],
   "source": [
    "for i, fav in enumerate(favorites):\n",
    "    cur_fav = fav.__dict__\n",
    "    print(i, cur_fav['text'])"
   ]
  },
  {
   "cell_type": "code",
   "execution_count": 51,
   "metadata": {},
   "outputs": [
    {
     "data": {
      "text/plain": [
       "User(_api=<tweepy.api.API object at 0x106424a90>, _json={'id': 417221940, 'id_str': '417221940', 'name': 'Faizan', 'screen_name': 'faizfayyaz', 'location': 'Canada', 'description': '', 'url': None, 'entities': {'description': {'urls': []}}, 'protected': True, 'followers_count': 201, 'friends_count': 109, 'listed_count': 0, 'created_at': 'Sun Nov 20 17:47:04 +0000 2011', 'favourites_count': 3700, 'utc_offset': None, 'time_zone': None, 'geo_enabled': True, 'verified': False, 'statuses_count': 5171, 'lang': None, 'contributors_enabled': False, 'is_translator': False, 'is_translation_enabled': False, 'profile_background_color': '6C6F70', 'profile_background_image_url': 'http://abs.twimg.com/images/themes/theme1/bg.png', 'profile_background_image_url_https': 'https://abs.twimg.com/images/themes/theme1/bg.png', 'profile_background_tile': True, 'profile_image_url': 'http://pbs.twimg.com/profile_images/808446278761844737/SDpWMVGY_normal.jpg', 'profile_image_url_https': 'https://pbs.twimg.com/profile_images/808446278761844737/SDpWMVGY_normal.jpg', 'profile_banner_url': 'https://pbs.twimg.com/profile_banners/417221940/1399875687', 'profile_link_color': '98A7AD', 'profile_sidebar_border_color': 'FFFFFF', 'profile_sidebar_fill_color': 'DDEEF6', 'profile_text_color': '333333', 'profile_use_background_image': True, 'has_extended_profile': False, 'default_profile': False, 'default_profile_image': False, 'following': True, 'follow_request_sent': False, 'notifications': False, 'translator_type': 'none'}, id=417221940, id_str='417221940', name='Faizan', screen_name='faizfayyaz', location='Canada', description='', url=None, entities={'description': {'urls': []}}, protected=True, followers_count=201, friends_count=109, listed_count=0, created_at=datetime.datetime(2011, 11, 20, 17, 47, 4), favourites_count=3700, utc_offset=None, time_zone=None, geo_enabled=True, verified=False, statuses_count=5171, lang=None, contributors_enabled=False, is_translator=False, is_translation_enabled=False, profile_background_color='6C6F70', profile_background_image_url='http://abs.twimg.com/images/themes/theme1/bg.png', profile_background_image_url_https='https://abs.twimg.com/images/themes/theme1/bg.png', profile_background_tile=True, profile_image_url='http://pbs.twimg.com/profile_images/808446278761844737/SDpWMVGY_normal.jpg', profile_image_url_https='https://pbs.twimg.com/profile_images/808446278761844737/SDpWMVGY_normal.jpg', profile_banner_url='https://pbs.twimg.com/profile_banners/417221940/1399875687', profile_link_color='98A7AD', profile_sidebar_border_color='FFFFFF', profile_sidebar_fill_color='DDEEF6', profile_text_color='333333', profile_use_background_image=True, has_extended_profile=False, default_profile=False, default_profile_image=False, following=True, follow_request_sent=False, notifications=False, translator_type='none')"
      ]
     },
     "execution_count": 51,
     "metadata": {},
     "output_type": "execute_result"
    }
   ],
   "source": [
    "favorites[13].__dict__['author']"
   ]
  },
  {
   "cell_type": "code",
   "execution_count": null,
   "metadata": {},
   "outputs": [],
   "source": []
  },
  {
   "cell_type": "code",
   "execution_count": 41,
   "metadata": {},
   "outputs": [
    {
     "data": {
      "text/plain": [
       "'When @K_Loran12 cuts you from the indoor ball team without even tell you so you pray to satan that he tears his ACL… https://t.co/OrKjHkiGa6'"
      ]
     },
     "execution_count": 41,
     "metadata": {},
     "output_type": "execute_result"
    }
   ],
   "source": [
    "ya1['text']"
   ]
  },
  {
   "cell_type": "code",
   "execution_count": 42,
   "metadata": {},
   "outputs": [],
   "source": [
    "author = ya1['author'].__dict__"
   ]
  },
  {
   "cell_type": "code",
   "execution_count": 43,
   "metadata": {},
   "outputs": [
    {
     "data": {
      "text/plain": [
       "'Harley Sinclair'"
      ]
     },
     "execution_count": 43,
     "metadata": {},
     "output_type": "execute_result"
    }
   ],
   "source": [
    "author['name']"
   ]
  },
  {
   "cell_type": "code",
   "execution_count": 52,
   "metadata": {},
   "outputs": [],
   "source": [
    "statuses = api.statuses_lookup(['1162180754371223552'])"
   ]
  },
  {
   "cell_type": "code",
   "execution_count": 55,
   "metadata": {},
   "outputs": [],
   "source": [
    "status = statuses[0].__dict__"
   ]
  },
  {
   "cell_type": "code",
   "execution_count": 57,
   "metadata": {},
   "outputs": [
    {
     "data": {
      "text/plain": [
       "dict_keys(['_api', '_json', 'created_at', 'id', 'id_str', 'text', 'truncated', 'entities', 'source', 'source_url', 'in_reply_to_status_id', 'in_reply_to_status_id_str', 'in_reply_to_user_id', 'in_reply_to_user_id_str', 'in_reply_to_screen_name', 'author', 'user', 'geo', 'coordinates', 'place', 'contributors', 'is_quote_status', 'retweet_count', 'favorite_count', 'favorited', 'retweeted', 'lang'])"
      ]
     },
     "execution_count": 57,
     "metadata": {},
     "output_type": "execute_result"
    }
   ],
   "source": [
    "status.keys()"
   ]
  },
  {
   "cell_type": "code",
   "execution_count": null,
   "metadata": {},
   "outputs": [],
   "source": []
  },
  {
   "cell_type": "code",
   "execution_count": null,
   "metadata": {},
   "outputs": [],
   "source": []
  }
 ],
 "metadata": {
  "kernelspec": {
   "display_name": "Python 3",
   "language": "python",
   "name": "python3"
  },
  "language_info": {
   "codemirror_mode": {
    "name": "ipython",
    "version": 3
   },
   "file_extension": ".py",
   "mimetype": "text/x-python",
   "name": "python",
   "nbconvert_exporter": "python",
   "pygments_lexer": "ipython3",
   "version": "3.7.3"
  }
 },
 "nbformat": 4,
 "nbformat_minor": 2
}
