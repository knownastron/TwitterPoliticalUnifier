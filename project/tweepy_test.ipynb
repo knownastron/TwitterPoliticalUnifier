{
 "cells": [
  {
   "cell_type": "code",
   "execution_count": 64,
   "metadata": {},
   "outputs": [],
   "source": [
    "from tweepy import API\n",
    "from tweepy import OAuthHandler\n",
    " \n",
    " \n",
    "import twitter_credentials\n",
    " \n",
    "\n",
    "auth = OAuthHandler(twitter_credentials.CONSUMER_KEY, twitter_credentials.CONSUMER_SECRET)\n",
    "auth.set_access_token(twitter_credentials.ACCESS_TOKEN, twitter_credentials.ACCESS_TOKEN_SECRET)                          \n",
    "api = API(auth)\n",
    " \n",
    "favorites = api.favorites('@knownastron') # \n",
    "    \n"
   ]
  },
  {
   "cell_type": "code",
   "execution_count": 65,
   "metadata": {},
   "outputs": [],
   "source": [
    "ya1 = ya[10].__dict__"
   ]
  },
  {
   "cell_type": "code",
   "execution_count": 66,
   "metadata": {
    "scrolled": true
   },
   "outputs": [
    {
     "name": "stdout",
     "output_type": "stream",
     "text": [
      "0 why would anyone sensible want bernie sanders as president? the man doesn’t understand so many things???\n",
      "1 https://t.co/5disYyTfl7\n",
      "2 Part two https://t.co/uwMS3coImL\n",
      "3 But adding bananas into my diet, I have no Charlie horses anymore.\n",
      "4 Clipse will always be my favorite group, coke rap at it's purest, nobody does it better\n",
      "5 I really just want to post something about kevin o'leary and Justin tredeau on Facebook and watch people fight it out in the comments! 😂\n",
      "6 Jeez this guy has no chill haha #BRIT2017 https://t.co/UHAceTl8ej\n",
      "7 We’re back in the tank in 6 minutes! #SharkTank @ABCSharkTank\n",
      "8 It's that time again...\n",
      "\n",
      "https://t.co/cJO6pcNU84\n",
      "9 @knownastron perhaps you should try harder\n",
      "10 @K_Loran12 https://t.co/pXbbKQAe4M\n",
      "11 When @K_Loran12 cuts you from the indoor ball team without even tell you so you pray to satan that he tears his ACL… https://t.co/OrKjHkiGa6\n",
      "12 The US presidential debates are so much more entertaining than Canada’s PM debates.. #trumpmywalls\n",
      "13 This is awesome. I was inspired by the way Bird played (even tho I hated to admit it back then) and have a hip repl… https://t.co/PAf6dOrdbG\n",
      "14 If I was a US citizen, I would 100% vote Donald trump. I'm not joking either. @knownastron\n",
      "15 Pour one out for the unsent messages at LB5Q.... It was a noble try #whereisbuddy https://t.co/tfXMPNDetF\n",
      "16 Not wanting to go to sleep on a Sunday because it means Monday will come faster\n",
      "17 Yeah, as if we don’t know you that you were involved in the millions of deaths and misplaced persons, yeah #Iseeyou\n",
      "18 When Hilary Clinton feels the guilt of 9/11 and is forced to leave memorial. el oh el. #IseeYou\n",
      "19 \"Did they gay you up yet?\"- my mom on my gender studies class\n"
     ]
    }
   ],
   "source": [
    "for i, fav in enumerate(favorites):\n",
    "    cur_fav = fav.__dict__\n",
    "    print(i, cur_fav['text'])"
   ]
  },
  {
   "cell_type": "code",
   "execution_count": 67,
   "metadata": {},
   "outputs": [
    {
     "data": {
      "text/plain": [
       "User(_api=<tweepy.api.API object at 0x10645d780>, _json={'id': 86344052, 'id_str': '86344052', 'name': 'BBALLBREAKDOWN', 'screen_name': 'bballbreakdown', 'location': 'Los Angeles', 'description': 'Sports Fans, Coach Nick here. The most popular channel dedicated to @NBA Analysis. LIVE In Game Tweets. For my monthly membership: https://t.co/2yoBcoJUEh', 'url': 'https://t.co/vHdSnE6SrZ', 'entities': {'url': {'urls': [{'url': 'https://t.co/vHdSnE6SrZ', 'expanded_url': 'http://youtube.com/bballbreakdown', 'display_url': 'youtube.com/bballbreakdown', 'indices': [0, 23]}]}, 'description': {'urls': [{'url': 'https://t.co/2yoBcoJUEh', 'expanded_url': 'http://bballbreakdown.com', 'display_url': 'bballbreakdown.com', 'indices': [131, 154]}]}}, 'protected': False, 'followers_count': 110860, 'friends_count': 1988, 'listed_count': 2846, 'created_at': 'Fri Oct 30 16:14:17 +0000 2009', 'favourites_count': 9843, 'utc_offset': None, 'time_zone': None, 'geo_enabled': True, 'verified': False, 'statuses_count': 289171, 'lang': None, 'contributors_enabled': False, 'is_translator': False, 'is_translation_enabled': False, 'profile_background_color': 'C0DEED', 'profile_background_image_url': 'http://abs.twimg.com/images/themes/theme1/bg.png', 'profile_background_image_url_https': 'https://abs.twimg.com/images/themes/theme1/bg.png', 'profile_background_tile': False, 'profile_image_url': 'http://pbs.twimg.com/profile_images/1058828695815606272/5YA-op5Q_normal.jpg', 'profile_image_url_https': 'https://pbs.twimg.com/profile_images/1058828695815606272/5YA-op5Q_normal.jpg', 'profile_banner_url': 'https://pbs.twimg.com/profile_banners/86344052/1541027841', 'profile_link_color': '0084B4', 'profile_sidebar_border_color': 'C0DEED', 'profile_sidebar_fill_color': 'DDEEF6', 'profile_text_color': '333333', 'profile_use_background_image': True, 'has_extended_profile': False, 'default_profile': False, 'default_profile_image': False, 'following': True, 'follow_request_sent': False, 'notifications': False, 'translator_type': 'none'}, id=86344052, id_str='86344052', name='BBALLBREAKDOWN', screen_name='bballbreakdown', location='Los Angeles', description='Sports Fans, Coach Nick here. The most popular channel dedicated to @NBA Analysis. LIVE In Game Tweets. For my monthly membership: https://t.co/2yoBcoJUEh', url='https://t.co/vHdSnE6SrZ', entities={'url': {'urls': [{'url': 'https://t.co/vHdSnE6SrZ', 'expanded_url': 'http://youtube.com/bballbreakdown', 'display_url': 'youtube.com/bballbreakdown', 'indices': [0, 23]}]}, 'description': {'urls': [{'url': 'https://t.co/2yoBcoJUEh', 'expanded_url': 'http://bballbreakdown.com', 'display_url': 'bballbreakdown.com', 'indices': [131, 154]}]}}, protected=False, followers_count=110860, friends_count=1988, listed_count=2846, created_at=datetime.datetime(2009, 10, 30, 16, 14, 17), favourites_count=9843, utc_offset=None, time_zone=None, geo_enabled=True, verified=False, statuses_count=289171, lang=None, contributors_enabled=False, is_translator=False, is_translation_enabled=False, profile_background_color='C0DEED', profile_background_image_url='http://abs.twimg.com/images/themes/theme1/bg.png', profile_background_image_url_https='https://abs.twimg.com/images/themes/theme1/bg.png', profile_background_tile=False, profile_image_url='http://pbs.twimg.com/profile_images/1058828695815606272/5YA-op5Q_normal.jpg', profile_image_url_https='https://pbs.twimg.com/profile_images/1058828695815606272/5YA-op5Q_normal.jpg', profile_banner_url='https://pbs.twimg.com/profile_banners/86344052/1541027841', profile_link_color='0084B4', profile_sidebar_border_color='C0DEED', profile_sidebar_fill_color='DDEEF6', profile_text_color='333333', profile_use_background_image=True, has_extended_profile=False, default_profile=False, default_profile_image=False, following=True, follow_request_sent=False, notifications=False, translator_type='none')"
      ]
     },
     "execution_count": 67,
     "metadata": {},
     "output_type": "execute_result"
    }
   ],
   "source": [
    "favorites[13].__dict__['author']"
   ]
  },
  {
   "cell_type": "code",
   "execution_count": null,
   "metadata": {},
   "outputs": [],
   "source": []
  },
  {
   "cell_type": "code",
   "execution_count": 68,
   "metadata": {},
   "outputs": [
    {
     "data": {
      "text/plain": [
       "'When @K_Loran12 cuts you from the indoor ball team without even tell you so you pray to satan that he tears his ACL… https://t.co/OrKjHkiGa6'"
      ]
     },
     "execution_count": 68,
     "metadata": {},
     "output_type": "execute_result"
    }
   ],
   "source": [
    "ya1['text']"
   ]
  },
  {
   "cell_type": "code",
   "execution_count": 69,
   "metadata": {},
   "outputs": [],
   "source": [
    "author = ya1['author'].__dict__"
   ]
  },
  {
   "cell_type": "code",
   "execution_count": 70,
   "metadata": {},
   "outputs": [
    {
     "data": {
      "text/plain": [
       "'Harley Sinclair'"
      ]
     },
     "execution_count": 70,
     "metadata": {},
     "output_type": "execute_result"
    }
   ],
   "source": [
    "author['name']"
   ]
  },
  {
   "cell_type": "code",
   "execution_count": 71,
   "metadata": {},
   "outputs": [],
   "source": [
    "statuses = api.statuses_lookup(['1162180754371223552'])"
   ]
  },
  {
   "cell_type": "code",
   "execution_count": 72,
   "metadata": {},
   "outputs": [],
   "source": [
    "status = statuses[0].__dict__"
   ]
  },
  {
   "cell_type": "code",
   "execution_count": 73,
   "metadata": {},
   "outputs": [
    {
     "name": "stdout",
     "output_type": "stream",
     "text": [
      "_api\n",
      "_json\n",
      "created_at\n",
      "id\n",
      "id_str\n",
      "text\n",
      "truncated\n",
      "entities\n",
      "source\n",
      "source_url\n",
      "in_reply_to_status_id\n",
      "in_reply_to_status_id_str\n",
      "in_reply_to_user_id\n",
      "in_reply_to_user_id_str\n",
      "in_reply_to_screen_name\n",
      "author\n",
      "user\n",
      "geo\n",
      "coordinates\n",
      "place\n",
      "contributors\n",
      "is_quote_status\n",
      "retweet_count\n",
      "favorite_count\n",
      "favorited\n",
      "retweeted\n",
      "lang\n"
     ]
    }
   ],
   "source": [
    "for key in status.keys():\n",
    "    print(key)"
   ]
  },
  {
   "cell_type": "code",
   "execution_count": 74,
   "metadata": {},
   "outputs": [
    {
     "data": {
      "text/plain": [
       "User(_api=<tweepy.api.API object at 0x10645d780>, _json={'id': 1361039156, 'id_str': '1361039156', 'name': '🌹 Malcolm Percocets', 'screen_name': 'Malpalcolm', 'location': '', 'description': '', 'url': None, 'entities': {'description': {'urls': []}}, 'protected': False, 'followers_count': 160, 'friends_count': 298, 'listed_count': 0, 'created_at': 'Thu Apr 18 04:46:19 +0000 2013', 'favourites_count': 29280, 'utc_offset': None, 'time_zone': None, 'geo_enabled': False, 'verified': False, 'statuses_count': 8454, 'lang': None, 'contributors_enabled': False, 'is_translator': False, 'is_translation_enabled': False, 'profile_background_color': '00C24E', 'profile_background_image_url': 'http://abs.twimg.com/images/themes/theme1/bg.png', 'profile_background_image_url_https': 'https://abs.twimg.com/images/themes/theme1/bg.png', 'profile_background_tile': False, 'profile_image_url': 'http://pbs.twimg.com/profile_images/1160784093715546112/4539-AID_normal.jpg', 'profile_image_url_https': 'https://pbs.twimg.com/profile_images/1160784093715546112/4539-AID_normal.jpg', 'profile_banner_url': 'https://pbs.twimg.com/profile_banners/1361039156/1508813690', 'profile_link_color': 'A899F4', 'profile_sidebar_border_color': '000000', 'profile_sidebar_fill_color': 'DDEEF6', 'profile_text_color': '333333', 'profile_use_background_image': True, 'has_extended_profile': False, 'default_profile': False, 'default_profile_image': False, 'following': True, 'follow_request_sent': False, 'notifications': False, 'translator_type': 'none'}, id=1361039156, id_str='1361039156', name='🌹 Malcolm Percocets', screen_name='Malpalcolm', location='', description='', url=None, entities={'description': {'urls': []}}, protected=False, followers_count=160, friends_count=298, listed_count=0, created_at=datetime.datetime(2013, 4, 18, 4, 46, 19), favourites_count=29280, utc_offset=None, time_zone=None, geo_enabled=False, verified=False, statuses_count=8454, lang=None, contributors_enabled=False, is_translator=False, is_translation_enabled=False, profile_background_color='00C24E', profile_background_image_url='http://abs.twimg.com/images/themes/theme1/bg.png', profile_background_image_url_https='https://abs.twimg.com/images/themes/theme1/bg.png', profile_background_tile=False, profile_image_url='http://pbs.twimg.com/profile_images/1160784093715546112/4539-AID_normal.jpg', profile_image_url_https='https://pbs.twimg.com/profile_images/1160784093715546112/4539-AID_normal.jpg', profile_banner_url='https://pbs.twimg.com/profile_banners/1361039156/1508813690', profile_link_color='A899F4', profile_sidebar_border_color='000000', profile_sidebar_fill_color='DDEEF6', profile_text_color='333333', profile_use_background_image=True, has_extended_profile=False, default_profile=False, default_profile_image=False, following=True, follow_request_sent=False, notifications=False, translator_type='none')"
      ]
     },
     "execution_count": 74,
     "metadata": {},
     "output_type": "execute_result"
    }
   ],
   "source": [
    "status['user']"
   ]
  },
  {
   "cell_type": "code",
   "execution_count": 170,
   "metadata": {},
   "outputs": [],
   "source": [
    "def getText(text):\n",
    "    \"\"\"Replace some text\n",
    "    \"\"\"\n",
    "    text = text.replace(\"\\n\", \" \")\n",
    "    text = text.replace(\"http\", \" http\")\n",
    "    text = text.replace(\"pic.twitter\", \" pic.twitter\")\n",
    "    return text\n",
    "\n",
    "import format\n",
    "\n",
    "def getTextOfTweets(username, num_tweets):\n",
    "    '''\n",
    "    Gets all the texts of a tweet:\n",
    "    - uses formatText\n",
    "    - does not include retweets\n",
    "    '''\n",
    "    tweet_texts = []\n",
    "    for status in Cursor(api.user_timeline, screen_name=username, tweet_mode=\"extended\").items(num_tweets):\n",
    "        if status.full_text[:2] == 'RT':\n",
    "            continue\n",
    "        tweet_texts.append(format.formatTweetText(status.full_text))\n",
    "    return tweet_texts"
   ]
  },
  {
   "cell_type": "code",
   "execution_count": 171,
   "metadata": {},
   "outputs": [
    {
     "data": {
      "text/plain": [
       "['I’m not mad, Jon  I’m just... Disappointed.  Now give me your car keys You’re grounded',\n",
       " 'And you’ve beaten some of the best, but nobody believes a word you say.',\n",
       " 'Check out my new sponsor: The Athletic! Use the link https://t.co/JaPa0WBi2j for a special monthly rate at only $2.99 per month for the year.  That’s a 40% savings!    Only available for my listeners!”    https://t.co/rK4upyfI5n and https://t.co/qhG31rpPRZ',\n",
       " '-We’ll BOTH be tellin’ stories about our past glories in a barber-shop when we’re 75 But You’ll be tellin’ yours in a PRISON Barber-Shop, I’m guessin’']"
      ]
     },
     "execution_count": 171,
     "metadata": {},
     "output_type": "execute_result"
    }
   ],
   "source": [
    "get_text_of_tweets('@chaelsonnen', 5)"
   ]
  },
  {
   "cell_type": "code",
   "execution_count": 148,
   "metadata": {},
   "outputs": [],
   "source": [
    "muh_list = []\n",
    "ya_list = []"
   ]
  },
  {
   "cell_type": "code",
   "execution_count": 135,
   "metadata": {},
   "outputs": [],
   "source": [
    "tweets = api.user_timeline('@knownastron', count=200, tweet_mode='extended')"
   ]
  },
  {
   "cell_type": "code",
   "execution_count": 149,
   "metadata": {},
   "outputs": [],
   "source": [
    "from tweepy import Cursor\n",
    "for status in Cursor(api.user_timeline, screen_name='@knownastron', tweet_mode=\"extended\").items(200):\n",
    "    ya_list.append(status)"
   ]
  },
  {
   "cell_type": "code",
   "execution_count": 150,
   "metadata": {},
   "outputs": [
    {
     "data": {
      "text/plain": [
       "0"
      ]
     },
     "execution_count": 150,
     "metadata": {},
     "output_type": "execute_result"
    }
   ],
   "source": [
    "len(muh_list)"
   ]
  },
  {
   "cell_type": "code",
   "execution_count": 151,
   "metadata": {},
   "outputs": [],
   "source": [
    "for i,status in enumerate(muh_list):\n",
    "    print(i, status.full_text, '\\n')"
   ]
  },
  {
   "cell_type": "code",
   "execution_count": null,
   "metadata": {},
   "outputs": [],
   "source": []
  },
  {
   "cell_type": "code",
   "execution_count": null,
   "metadata": {},
   "outputs": [],
   "source": []
  },
  {
   "cell_type": "code",
   "execution_count": 118,
   "metadata": {},
   "outputs": [],
   "source": [
    "tweets1 = tweets[2].__dict__"
   ]
  },
  {
   "cell_type": "code",
   "execution_count": 172,
   "metadata": {},
   "outputs": [
    {
     "data": {
      "text/plain": [
       "'Biggest crowd EVER, according to Arena people. Thousands outside trying to get in. Place was packed! Radical Left Dems &amp; their Partner, LameStream Media, saying Arena empty. Check out pictures. Fake News. The Enemy of the People! https://t.co/KkZWspM93a'"
      ]
     },
     "execution_count": 172,
     "metadata": {},
     "output_type": "execute_result"
    }
   ],
   "source": [
    "tweets1['full_text']"
   ]
  },
  {
   "cell_type": "code",
   "execution_count": 178,
   "metadata": {},
   "outputs": [],
   "source": [
    "follower_list = []"
   ]
  },
  {
   "cell_type": "code",
   "execution_count": 186,
   "metadata": {},
   "outputs": [],
   "source": [
    "def get_followers(username):\n",
    "    follower_list = []\n",
    "    for follower in Cursor(api.followers, screen_name=username).items():\n",
    "        follower_list.append(follower.screen_name)\n",
    "    return follower_list\n",
    "\n",
    "    \n",
    "    "
   ]
  },
  {
   "cell_type": "code",
   "execution_count": 184,
   "metadata": {},
   "outputs": [
    {
     "data": {
      "text/plain": [
       "{'rate_limit_context': {'access_token': '82277769-KQ8jCMoAW3fXWbSdmFfXFHyfleH01MYFU1DyNpT79'},\n",
       " 'resources': {'lists': {'/lists/list': {'limit': 15,\n",
       "    'remaining': 15,\n",
       "    'reset': 1566149195},\n",
       "   '/lists/memberships': {'limit': 75, 'remaining': 75, 'reset': 1566149195},\n",
       "   '/lists/subscribers/show': {'limit': 15,\n",
       "    'remaining': 15,\n",
       "    'reset': 1566149195},\n",
       "   '/lists/members': {'limit': 900, 'remaining': 900, 'reset': 1566149195},\n",
       "   '/lists/subscriptions': {'limit': 15, 'remaining': 15, 'reset': 1566149195},\n",
       "   '/lists/show': {'limit': 75, 'remaining': 75, 'reset': 1566149195},\n",
       "   '/lists/ownerships': {'limit': 15, 'remaining': 15, 'reset': 1566149195},\n",
       "   '/lists/subscribers': {'limit': 180, 'remaining': 180, 'reset': 1566149195},\n",
       "   '/lists/members/show': {'limit': 15, 'remaining': 15, 'reset': 1566149195},\n",
       "   '/lists/statuses': {'limit': 900, 'remaining': 900, 'reset': 1566149195}},\n",
       "  'application': {'/application/rate_limit_status': {'limit': 180,\n",
       "    'remaining': 179,\n",
       "    'reset': 1566149195}},\n",
       "  'mutes': {'/mutes/users/list': {'limit': 15,\n",
       "    'remaining': 15,\n",
       "    'reset': 1566149195},\n",
       "   '/mutes/users/ids': {'limit': 15, 'remaining': 15, 'reset': 1566149195}},\n",
       "  'live_video_stream': {'/live_video_stream/status/:id': {'limit': 1000,\n",
       "    'remaining': 1000,\n",
       "    'reset': 1566149195}},\n",
       "  'friendships': {'/friendships/outgoing': {'limit': 15,\n",
       "    'remaining': 15,\n",
       "    'reset': 1566149195},\n",
       "   '/friendships/list': {'limit': 200, 'remaining': 200, 'reset': 1566149195},\n",
       "   '/friendships/no_retweets/ids': {'limit': 15,\n",
       "    'remaining': 15,\n",
       "    'reset': 1566149195},\n",
       "   '/friendships/lookup': {'limit': 15, 'remaining': 15, 'reset': 1566149195},\n",
       "   '/friendships/incoming': {'limit': 15,\n",
       "    'remaining': 15,\n",
       "    'reset': 1566149195},\n",
       "   '/friendships/show': {'limit': 180, 'remaining': 180, 'reset': 1566149195}},\n",
       "  'guide': {'/guide': {'limit': 180, 'remaining': 180, 'reset': 1566149195}},\n",
       "  'auth': {'/auth/csrf_token': {'limit': 15,\n",
       "    'remaining': 15,\n",
       "    'reset': 1566149195}},\n",
       "  'blocks': {'/blocks/list': {'limit': 15,\n",
       "    'remaining': 15,\n",
       "    'reset': 1566149195},\n",
       "   '/blocks/ids': {'limit': 15, 'remaining': 15, 'reset': 1566149195}},\n",
       "  'geo': {'/geo/similar_places': {'limit': 15,\n",
       "    'remaining': 15,\n",
       "    'reset': 1566149195},\n",
       "   '/geo/id/:place_id': {'limit': 75, 'remaining': 75, 'reset': 1566149195},\n",
       "   '/geo/reverse_geocode': {'limit': 15, 'remaining': 15, 'reset': 1566149195},\n",
       "   '/geo/search': {'limit': 15, 'remaining': 15, 'reset': 1566149195}},\n",
       "  'users': {'/users/report_spam': {'limit': 15,\n",
       "    'remaining': 15,\n",
       "    'reset': 1566149195},\n",
       "   '/users/contributors/pending': {'limit': 2000,\n",
       "    'remaining': 2000,\n",
       "    'reset': 1566149195},\n",
       "   '/users/show/:id': {'limit': 900, 'remaining': 900, 'reset': 1566149195},\n",
       "   '/users/search': {'limit': 900, 'remaining': 900, 'reset': 1566149195},\n",
       "   '/users/suggestions/:slug': {'limit': 15,\n",
       "    'remaining': 15,\n",
       "    'reset': 1566149195},\n",
       "   '/users/contributees/pending': {'limit': 200,\n",
       "    'remaining': 200,\n",
       "    'reset': 1566149195},\n",
       "   '/users/derived_info': {'limit': 15, 'remaining': 15, 'reset': 1566149195},\n",
       "   '/users/profile_banner': {'limit': 180,\n",
       "    'remaining': 180,\n",
       "    'reset': 1566149195},\n",
       "   '/users/suggestions/:slug/members': {'limit': 15,\n",
       "    'remaining': 15,\n",
       "    'reset': 1566149195},\n",
       "   '/users/lookup': {'limit': 900, 'remaining': 900, 'reset': 1566149195},\n",
       "   '/users/suggestions': {'limit': 15, 'remaining': 15, 'reset': 1566149195}},\n",
       "  'followers': {'/followers/ids': {'limit': 15,\n",
       "    'remaining': 15,\n",
       "    'reset': 1566149195},\n",
       "   '/followers/list': {'limit': 15, 'remaining': 0, 'reset': 1566148781}},\n",
       "  'collections': {'/collections/list': {'limit': 1000,\n",
       "    'remaining': 1000,\n",
       "    'reset': 1566149195},\n",
       "   '/collections/entries': {'limit': 1000,\n",
       "    'remaining': 1000,\n",
       "    'reset': 1566149195},\n",
       "   '/collections/show': {'limit': 1000,\n",
       "    'remaining': 1000,\n",
       "    'reset': 1566149195}},\n",
       "  'statuses': {'/statuses/retweeters/ids': {'limit': 75,\n",
       "    'remaining': 75,\n",
       "    'reset': 1566149195},\n",
       "   '/statuses/retweets_of_me': {'limit': 75,\n",
       "    'remaining': 75,\n",
       "    'reset': 1566149195},\n",
       "   '/statuses/home_timeline': {'limit': 15,\n",
       "    'remaining': 15,\n",
       "    'reset': 1566149195},\n",
       "   '/statuses/show/:id': {'limit': 900, 'remaining': 900, 'reset': 1566149195},\n",
       "   '/statuses/user_timeline': {'limit': 900,\n",
       "    'remaining': 900,\n",
       "    'reset': 1566149195},\n",
       "   '/statuses/friends': {'limit': 15, 'remaining': 15, 'reset': 1566149195},\n",
       "   '/statuses/retweets/:id': {'limit': 75,\n",
       "    'remaining': 75,\n",
       "    'reset': 1566149195},\n",
       "   '/statuses/mentions_timeline': {'limit': 75,\n",
       "    'remaining': 75,\n",
       "    'reset': 1566149195},\n",
       "   '/statuses/oembed': {'limit': 180, 'remaining': 180, 'reset': 1566149195},\n",
       "   '/statuses/lookup': {'limit': 900, 'remaining': 900, 'reset': 1566149195}},\n",
       "  'custom_profiles': {'/custom_profiles/list': {'limit': 180,\n",
       "    'remaining': 180,\n",
       "    'reset': 1566149195},\n",
       "   '/custom_profiles/show': {'limit': 180,\n",
       "    'remaining': 180,\n",
       "    'reset': 1566149195}},\n",
       "  'webhooks': {'/webhooks/subscriptions/direct_messages': {'limit': 15,\n",
       "    'remaining': 15,\n",
       "    'reset': 1566149195},\n",
       "   '/webhooks': {'limit': 15, 'remaining': 15, 'reset': 1566149195}},\n",
       "  'contacts': {'/contacts/uploaded_by': {'limit': 300,\n",
       "    'remaining': 300,\n",
       "    'reset': 1566149195},\n",
       "   '/contacts/users': {'limit': 300, 'remaining': 300, 'reset': 1566149195},\n",
       "   '/contacts/addressbook': {'limit': 300,\n",
       "    'remaining': 300,\n",
       "    'reset': 1566149195},\n",
       "   '/contacts/users_and_uploaded_by': {'limit': 300,\n",
       "    'remaining': 300,\n",
       "    'reset': 1566149195},\n",
       "   '/contacts/delete/status': {'limit': 300,\n",
       "    'remaining': 300,\n",
       "    'reset': 1566149195}},\n",
       "  'labs': {'/labs/:version/tweets/stream/filter/': {'limit': 50,\n",
       "    'remaining': 50,\n",
       "    'reset': 1566149195},\n",
       "   '/labs/:version/users': {'limit': 900,\n",
       "    'remaining': 900,\n",
       "    'reset': 1566149195},\n",
       "   '/labs/:version/tweets/stream/filter/rules': {'limit': 450,\n",
       "    'remaining': 450,\n",
       "    'reset': 1566149195},\n",
       "   '/labs/:version/tweets/stream/filter/:rule_id': {'limit': 450,\n",
       "    'remaining': 450,\n",
       "    'reset': 1566149195},\n",
       "   '/labs/:version/tweets/stream/filter/rules&POST': {'limit': 450,\n",
       "    'remaining': 450,\n",
       "    'reset': 1566149195},\n",
       "   '/labs/:version/tweets/metrics/private': {'limit': 15,\n",
       "    'remaining': 15,\n",
       "    'reset': 1566149195},\n",
       "   '/labs/:version/tweets/stream/filter/rules&DELETE': {'limit': 450,\n",
       "    'remaining': 450,\n",
       "    'reset': 1566149195},\n",
       "   '/labs/:version/tweets': {'limit': 900,\n",
       "    'remaining': 900,\n",
       "    'reset': 1566149195},\n",
       "   '/labs/:version/tweets/stream/filter/rules/validation&POST': {'limit': 450,\n",
       "    'remaining': 450,\n",
       "    'reset': 1566149195}},\n",
       "  'i': {'/i/config': {'limit': 15, 'remaining': 15, 'reset': 1566149195}},\n",
       "  'tweet_prompts': {'/tweet_prompts/report_interaction': {'limit': 180,\n",
       "    'remaining': 180,\n",
       "    'reset': 1566149195},\n",
       "   '/tweet_prompts/show': {'limit': 180,\n",
       "    'remaining': 180,\n",
       "    'reset': 1566149195}},\n",
       "  'moments': {'/moments/statuses/update': {'limit': 5,\n",
       "    'remaining': 5,\n",
       "    'reset': 1566149195},\n",
       "   '/moments/permissions': {'limit': 300,\n",
       "    'remaining': 300,\n",
       "    'reset': 1566149195}},\n",
       "  'limiter_scalding_report_creation': {'/limiter_scalding_report_creation': {'limit': 4500,\n",
       "    'remaining': 4500,\n",
       "    'reset': 1566149195}},\n",
       "  'help': {'/help/tos': {'limit': 15, 'remaining': 15, 'reset': 1566149195},\n",
       "   '/help/configuration': {'limit': 15, 'remaining': 15, 'reset': 1566149195},\n",
       "   '/help/privacy': {'limit': 15, 'remaining': 15, 'reset': 1566149195},\n",
       "   '/help/settings': {'limit': 15, 'remaining': 15, 'reset': 1566149195},\n",
       "   '/help/languages': {'limit': 15, 'remaining': 15, 'reset': 1566149195}},\n",
       "  'feedback': {'/feedback/show/:id': {'limit': 180,\n",
       "    'remaining': 180,\n",
       "    'reset': 1566149195},\n",
       "   '/feedback/events': {'limit': 1000,\n",
       "    'remaining': 1000,\n",
       "    'reset': 1566149195}},\n",
       "  'business_experience': {'/business_experience/dashboard_settings/destroy': {'limit': 450,\n",
       "    'remaining': 450,\n",
       "    'reset': 1566149195},\n",
       "   '/business_experience/dashboard_features': {'limit': 450,\n",
       "    'remaining': 450,\n",
       "    'reset': 1566149195},\n",
       "   '/business_experience/keywords': {'limit': 450,\n",
       "    'remaining': 450,\n",
       "    'reset': 1566149195},\n",
       "   '/business_experience/dashboard_settings/update': {'limit': 450,\n",
       "    'remaining': 450,\n",
       "    'reset': 1566149195},\n",
       "   '/business_experience/dashboard_settings/show': {'limit': 450,\n",
       "    'remaining': 450,\n",
       "    'reset': 1566149195}},\n",
       "  'graphql&POST': {'/graphql&POST': {'limit': 2500,\n",
       "    'remaining': 2500,\n",
       "    'reset': 1566149195}},\n",
       "  'friends': {'/friends/following/ids': {'limit': 15,\n",
       "    'remaining': 15,\n",
       "    'reset': 1566149195},\n",
       "   '/friends/following/list': {'limit': 15,\n",
       "    'remaining': 15,\n",
       "    'reset': 1566149195},\n",
       "   '/friends/list': {'limit': 15, 'remaining': 15, 'reset': 1566149195},\n",
       "   '/friends/ids': {'limit': 15, 'remaining': 15, 'reset': 1566149195}},\n",
       "  'sandbox': {'/sandbox/account_activity/webhooks/:id/subscriptions': {'limit': 500,\n",
       "    'remaining': 500,\n",
       "    'reset': 1566149195}},\n",
       "  'drafts': {'/drafts/statuses/update': {'limit': 450,\n",
       "    'remaining': 450,\n",
       "    'reset': 1566149195},\n",
       "   '/drafts/statuses/destroy': {'limit': 450,\n",
       "    'remaining': 450,\n",
       "    'reset': 1566149195},\n",
       "   '/drafts/statuses/ids': {'limit': 450,\n",
       "    'remaining': 450,\n",
       "    'reset': 1566149195},\n",
       "   '/drafts/statuses/list': {'limit': 450,\n",
       "    'remaining': 450,\n",
       "    'reset': 1566149195},\n",
       "   '/drafts/statuses/show': {'limit': 450,\n",
       "    'remaining': 450,\n",
       "    'reset': 1566149195},\n",
       "   '/drafts/statuses/create': {'limit': 450,\n",
       "    'remaining': 450,\n",
       "    'reset': 1566149195}},\n",
       "  'direct_messages': {'/direct_messages/sent': {'limit': 300,\n",
       "    'remaining': 300,\n",
       "    'reset': 1566149195},\n",
       "   '/direct_messages/broadcasts/list': {'limit': 60,\n",
       "    'remaining': 60,\n",
       "    'reset': 1566149195},\n",
       "   '/direct_messages/subscribers/lists/members/show': {'limit': 1000,\n",
       "    'remaining': 1000,\n",
       "    'reset': 1566149195},\n",
       "   '/direct_messages/mark_read': {'limit': 1000,\n",
       "    'remaining': 1000,\n",
       "    'reset': 1566149195},\n",
       "   '/direct_messages/subscribers/ids': {'limit': 180,\n",
       "    'remaining': 180,\n",
       "    'reset': 1566149195},\n",
       "   '/direct_messages/sent_and_received': {'limit': 300,\n",
       "    'remaining': 300,\n",
       "    'reset': 1566149195},\n",
       "   '/direct_messages/broadcasts/statuses/list': {'limit': 60,\n",
       "    'remaining': 60,\n",
       "    'reset': 1566149195},\n",
       "   '/direct_messages': {'limit': 300, 'remaining': 300, 'reset': 1566149195},\n",
       "   '/direct_messages/subscribers/lists/members/ids': {'limit': 180,\n",
       "    'remaining': 180,\n",
       "    'reset': 1566149195},\n",
       "   '/direct_messages/subscribers/show': {'limit': 180,\n",
       "    'remaining': 180,\n",
       "    'reset': 1566149195},\n",
       "   '/direct_messages/broadcasts/show': {'limit': 60,\n",
       "    'remaining': 60,\n",
       "    'reset': 1566149195},\n",
       "   '/direct_messages/broadcasts/statuses/show': {'limit': 60,\n",
       "    'remaining': 60,\n",
       "    'reset': 1566149195},\n",
       "   '/direct_messages/subscribers/lists/list': {'limit': 180,\n",
       "    'remaining': 180,\n",
       "    'reset': 1566149195},\n",
       "   '/direct_messages/show': {'limit': 300,\n",
       "    'remaining': 300,\n",
       "    'reset': 1566149195},\n",
       "   '/direct_messages/events/list': {'limit': 15,\n",
       "    'remaining': 15,\n",
       "    'reset': 1566149195},\n",
       "   '/direct_messages/subscribers/lists/show': {'limit': 180,\n",
       "    'remaining': 180,\n",
       "    'reset': 1566149195},\n",
       "   '/direct_messages/events/show': {'limit': 15,\n",
       "    'remaining': 15,\n",
       "    'reset': 1566149195}},\n",
       "  'media': {'/media/upload': {'limit': 500,\n",
       "    'remaining': 500,\n",
       "    'reset': 1566149195}},\n",
       "  'traffic': {'/traffic/map': {'limit': 15,\n",
       "    'remaining': 15,\n",
       "    'reset': 1566149195}},\n",
       "  'account_activity': {'/account_activity/all/webhooks': {'limit': 15,\n",
       "    'remaining': 15,\n",
       "    'reset': 1566149195},\n",
       "   '/account_activity/all/:instance_name/subscriptions': {'limit': 500,\n",
       "    'remaining': 500,\n",
       "    'reset': 1566149195},\n",
       "   '/account_activity/direct_messages/webhooks': {'limit': 15,\n",
       "    'remaining': 15,\n",
       "    'reset': 1566149195},\n",
       "   '/account_activity/webhooks/:id/subscriptions/direct_messages/list': {'limit': 15,\n",
       "    'remaining': 15,\n",
       "    'reset': 1566149195},\n",
       "   '/account_activity/webhooks/:id/subscriptions/all': {'limit': 500,\n",
       "    'remaining': 500,\n",
       "    'reset': 1566149195},\n",
       "   '/account_activity/direct_messages/:instance_name/webhooks': {'limit': 15,\n",
       "    'remaining': 15,\n",
       "    'reset': 1566149195},\n",
       "   '/account_activity/webhooks/:id/subscriptions/all/list': {'limit': 15,\n",
       "    'remaining': 15,\n",
       "    'reset': 1566149195},\n",
       "   '/account_activity/webhooks/:id/subscriptions/direct_messages': {'limit': 500,\n",
       "    'remaining': 500,\n",
       "    'reset': 1566149195},\n",
       "   '/account_activity/webhooks': {'limit': 15,\n",
       "    'remaining': 15,\n",
       "    'reset': 1566149195},\n",
       "   '/account_activity/direct_messages/:instance_name/subscriptions': {'limit': 15,\n",
       "    'remaining': 15,\n",
       "    'reset': 1566149195},\n",
       "   '/account_activity/webhooks/:id/subscriptions': {'limit': 500,\n",
       "    'remaining': 500,\n",
       "    'reset': 1566149195},\n",
       "   '/account_activity/all/:instance_name/webhooks': {'limit': 15,\n",
       "    'remaining': 15,\n",
       "    'reset': 1566149195}},\n",
       "  'account': {'/account/login_verification_enrollment': {'limit': 15,\n",
       "    'remaining': 15,\n",
       "    'reset': 1566149195},\n",
       "   '/account/update_profile': {'limit': 15,\n",
       "    'remaining': 15,\n",
       "    'reset': 1566149195},\n",
       "   '/account/verify_credentials': {'limit': 75,\n",
       "    'remaining': 75,\n",
       "    'reset': 1566149195},\n",
       "   '/account/settings': {'limit': 15, 'remaining': 15, 'reset': 1566149195}},\n",
       "  'safety': {'/safety/detection_feedback': {'limit': 450000,\n",
       "    'remaining': 450000,\n",
       "    'reset': 1566149195}},\n",
       "  'favorites': {'/favorites/list': {'limit': 75,\n",
       "    'remaining': 75,\n",
       "    'reset': 1566149195}},\n",
       "  'device': {'/device/token': {'limit': 15,\n",
       "    'remaining': 15,\n",
       "    'reset': 1566149195}},\n",
       "  'tweets': {'/tweets/stream/filter/rules': {'limit': 450,\n",
       "    'remaining': 450,\n",
       "    'reset': 1566149195},\n",
       "   '/tweets/stream/filter/:instance_name': {'limit': 50,\n",
       "    'remaining': 50,\n",
       "    'reset': 1566149195},\n",
       "   '/tweets/search/:product/:label': {'limit': 1800,\n",
       "    'remaining': 1800,\n",
       "    'reset': 1566149195},\n",
       "   '/tweets/search/:product/:instance/counts': {'limit': 900,\n",
       "    'remaining': 900,\n",
       "    'reset': 1566149195},\n",
       "   '/tweets/stream/filter/rules/:instance_name/validation&POST': {'limit': 450,\n",
       "    'remaining': 450,\n",
       "    'reset': 1566149195},\n",
       "   '/tweets/stream/filter/rules/:instance_name&POST': {'limit': 450,\n",
       "    'remaining': 450,\n",
       "    'reset': 1566149195},\n",
       "   '/tweets/stream/filter/rules/:instance_name&DELETE': {'limit': 450,\n",
       "    'remaining': 450,\n",
       "    'reset': 1566149195},\n",
       "   '/tweets/stream/filter/rules/:instance_name/:rule_id': {'limit': 450,\n",
       "    'remaining': 450,\n",
       "    'reset': 1566149195}},\n",
       "  'saved_searches': {'/saved_searches/destroy/:id': {'limit': 15,\n",
       "    'remaining': 15,\n",
       "    'reset': 1566149195},\n",
       "   '/saved_searches/show/:id': {'limit': 15,\n",
       "    'remaining': 15,\n",
       "    'reset': 1566149195},\n",
       "   '/saved_searches/list': {'limit': 15,\n",
       "    'remaining': 15,\n",
       "    'reset': 1566149195}},\n",
       "  'oauth': {'/oauth/revoke': {'limit': 15,\n",
       "    'remaining': 15,\n",
       "    'reset': 1566149195},\n",
       "   '/oauth/invalidate_token': {'limit': 450,\n",
       "    'remaining': 450,\n",
       "    'reset': 1566149195},\n",
       "   '/oauth/revoke_html': {'limit': 15, 'remaining': 15, 'reset': 1566149195}},\n",
       "  'search': {'/search/tweets': {'limit': 180,\n",
       "    'remaining': 180,\n",
       "    'reset': 1566149195}},\n",
       "  'trends': {'/trends/closest': {'limit': 75,\n",
       "    'remaining': 75,\n",
       "    'reset': 1566149195},\n",
       "   '/trends/available': {'limit': 75, 'remaining': 75, 'reset': 1566149195},\n",
       "   '/trends/place': {'limit': 75, 'remaining': 75, 'reset': 1566149195}},\n",
       "  'live_pipeline': {'/live_pipeline/events': {'limit': 180,\n",
       "    'remaining': 180,\n",
       "    'reset': 1566149195}}}}"
      ]
     },
     "execution_count": 184,
     "metadata": {},
     "output_type": "execute_result"
    }
   ],
   "source": [
    "api.rate_limit_status()"
   ]
  },
  {
   "cell_type": "code",
   "execution_count": null,
   "metadata": {},
   "outputs": [],
   "source": []
  }
 ],
 "metadata": {
  "kernelspec": {
   "display_name": "Python 3",
   "language": "python",
   "name": "python3"
  },
  "language_info": {
   "codemirror_mode": {
    "name": "ipython",
    "version": 3
   },
   "file_extension": ".py",
   "mimetype": "text/x-python",
   "name": "python",
   "nbconvert_exporter": "python",
   "pygments_lexer": "ipython3",
   "version": "3.7.3"
  }
 },
 "nbformat": 4,
 "nbformat_minor": 2
}
