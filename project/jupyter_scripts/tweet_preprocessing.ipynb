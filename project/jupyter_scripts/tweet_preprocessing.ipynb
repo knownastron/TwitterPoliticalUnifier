{
 "cells": [
  {
   "cell_type": "code",
   "execution_count": 44,
   "metadata": {},
   "outputs": [],
   "source": [
    "import sys\n",
    "sys.path.append('../')\n",
    "import DatabaseConnection as dc\n",
    "import format\n",
    "import re\n",
    "import "
   ]
  },
  {
   "cell_type": "code",
   "execution_count": 45,
   "metadata": {},
   "outputs": [],
   "source": [
    "db_conn = dc.DatabaseConnection('../databases/main.db')"
   ]
  },
  {
   "cell_type": "code",
   "execution_count": 46,
   "metadata": {},
   "outputs": [],
   "source": [
    "tweets = db_conn.query_all_tweets_limt('repbobgibbs', 25)"
   ]
  },
  {
   "cell_type": "code",
   "execution_count": 47,
   "metadata": {},
   "outputs": [],
   "source": [
    "text_pre = ''\n",
    "for tweet in tweets:\n",
    "    text_pre += ' ' + tweet[1]"
   ]
  },
  {
   "cell_type": "code",
   "execution_count": 58,
   "metadata": {},
   "outputs": [],
   "source": [
    "text = format.remove_mentions(text_pre).lower()"
   ]
  },
  {
   "cell_type": "code",
   "execution_count": 59,
   "metadata": {},
   "outputs": [
    {
     "name": "stdout",
     "output_type": "stream",
     "text": [
      " usmca breaks down barriers to canadian markets for dairy, eggs, wheat, & poultry. american farmers will now have better access to sell their products in canada.  starting the day with  members in holmes county for breakfast!   glad to work with  on bipartsian efforts to improve maritime safety. … if you couldn’t attend this week’s townhalls but still have a question, you can submit it on my website: thanks everyone who attended this week’s townhalls! we had lively talks on important topics. while we won’t agree 100% on every issue, i appreciate we had the discussions.pic.twitter.com/fpeh2mgepf i'm proud to work with my colleagues from both sides of the aisle to pass this bill. thank you   and  for working w/ me to strengthen the   personnel play an important & unique role in national security, maritime safety, & law enforcement. they work tirelessly to keep americans safe, prevent drugs from entering the us, and maintain open lanes off commerce. today the house passed the coast guard authorization act, an important bipartisan effort to ensure the men and women of the coast guard have the best and latest tools to fulfill their mission.  … while  propose commonsense ideas to reform immigration system, increase border security, and end the humanitarian crisis at the border, dems' radical proposals are out of step with the american people. read more here: … with  testifying today at  it's important to know just what democrats' immigration and border security policies are: open borders, abolish ice, provide free healthcare for those here illegally.  … democrats’ proposals will put taxpayers on the hook for what amounts to a giant “welcome” mat and a wide-open door on the border.  … now, many of their elected officials are advocating policies that will turn the united states into a sanctuary nation. these policy proposals are not only costly, they send the wrong message in the midst of a border crisis.  … cities such as san francisco, philadelphia, new york city, and baltimore have proudly proclaimed themselves sanctuary cities, refusing to assist immigration officials in enforcing federal law.  … the  &  have been calling attention to the crisis on the border for months. democrats ignored it, called it a manufactured crisis. we are now dealing with the consequences of the  inaction.  fantastic work by the men and women of the  seizing 39,000 pounds of cocaine during 14 drug interdictions off the coasts of central and south america! … usmca will support the creation of new jobs, increase american exports, and contribute to stronger economic growth. usmca is a win for the american economy.  ohio’s dairy farmers will have better export opportunities after canada’s milk pricing program is eliminated once usmca is enacted.  usmca is good for american farmers, ranchers, businesses, and workers.  usmca modernizes and overhauls nafta and strengthens intellectual property protection for american innovators. this is a trade agreement for the 21st century. time to approve  canada & mexico are two of our most important trading partners for us food and agriculture industries. we need  to provide certainty and increase trade opportunities for ohio farmers.pic.twitter.com/nnxxyjikvh the senate overwhelmingly passed a bipartisan bill, 84-8 to fund humanitarian aid on the border & help federal immigration officials do their job. what are  doing? preventing a vote in the house. the time is now to pass bipartisan border & humanitarian relief.pic.twitter.com/ynmt1vxwam  and  passed this out of committee this morning!  authorization act benefits:   personnel  maritime safety  drug interdiction efforts  the great lakes  coastal ports  inland waterways  american commerce … this bill recognizes the important & unique role  plays in national security and maritime safety, modernizes operations and encourages use of drone technology. … thank you for stopping in, ashton! … water levels continue to rise across ohio. many communities have been affected, including stark and coshocton counties. stay safe & be smart at home & on the road! fema's website has valuable info on how to prepare for and deal with flooding.\n"
     ]
    }
   ],
   "source": [
    "text = format.remove_hashtags(text)\n",
    "print(text)"
   ]
  },
  {
   "cell_type": "code",
   "execution_count": 60,
   "metadata": {},
   "outputs": [],
   "source": [
    "text = re.sub(r\"pic.twitter.com\\S+\", \"\", text)"
   ]
  },
  {
   "cell_type": "code",
   "execution_count": 61,
   "metadata": {
    "scrolled": true
   },
   "outputs": [
    {
     "name": "stdout",
     "output_type": "stream",
     "text": [
      " usmca breaks down barriers to canadian markets for dairy, eggs, wheat, & poultry. american farmers will now have better access to sell their products in canada.  starting the day with  members in holmes county for breakfast!   glad to work with  on bipartsian efforts to improve maritime safety. … if you couldn’t attend this week’s townhalls but still have a question, you can submit it on my website: thanks everyone who attended this week’s townhalls! we had lively talks on important topics. while we won’t agree 100% on every issue, i appreciate we had the discussions. i'm proud to work with my colleagues from both sides of the aisle to pass this bill. thank you   and  for working w/ me to strengthen the   personnel play an important & unique role in national security, maritime safety, & law enforcement. they work tirelessly to keep americans safe, prevent drugs from entering the us, and maintain open lanes off commerce. today the house passed the coast guard authorization act, an important bipartisan effort to ensure the men and women of the coast guard have the best and latest tools to fulfill their mission.  … while  propose commonsense ideas to reform immigration system, increase border security, and end the humanitarian crisis at the border, dems' radical proposals are out of step with the american people. read more here: … with  testifying today at  it's important to know just what democrats' immigration and border security policies are: open borders, abolish ice, provide free healthcare for those here illegally.  … democrats’ proposals will put taxpayers on the hook for what amounts to a giant “welcome” mat and a wide-open door on the border.  … now, many of their elected officials are advocating policies that will turn the united states into a sanctuary nation. these policy proposals are not only costly, they send the wrong message in the midst of a border crisis.  … cities such as san francisco, philadelphia, new york city, and baltimore have proudly proclaimed themselves sanctuary cities, refusing to assist immigration officials in enforcing federal law.  … the  &  have been calling attention to the crisis on the border for months. democrats ignored it, called it a manufactured crisis. we are now dealing with the consequences of the  inaction.  fantastic work by the men and women of the  seizing 39,000 pounds of cocaine during 14 drug interdictions off the coasts of central and south america! … usmca will support the creation of new jobs, increase american exports, and contribute to stronger economic growth. usmca is a win for the american economy.  ohio’s dairy farmers will have better export opportunities after canada’s milk pricing program is eliminated once usmca is enacted.  usmca is good for american farmers, ranchers, businesses, and workers.  usmca modernizes and overhauls nafta and strengthens intellectual property protection for american innovators. this is a trade agreement for the 21st century. time to approve  canada & mexico are two of our most important trading partners for us food and agriculture industries. we need  to provide certainty and increase trade opportunities for ohio farmers. the senate overwhelmingly passed a bipartisan bill, 84-8 to fund humanitarian aid on the border & help federal immigration officials do their job. what are  doing? preventing a vote in the house. the time is now to pass bipartisan border & humanitarian relief.  and  passed this out of committee this morning!  authorization act benefits:   personnel  maritime safety  drug interdiction efforts  the great lakes  coastal ports  inland waterways  american commerce … this bill recognizes the important & unique role  plays in national security and maritime safety, modernizes operations and encourages use of drone technology. … thank you for stopping in, ashton! … water levels continue to rise across ohio. many communities have been affected, including stark and coshocton counties. stay safe & be smart at home & on the road! fema's website has valuable info on how to prepare for and deal with flooding.\n"
     ]
    }
   ],
   "source": [
    "print(text)"
   ]
  },
  {
   "cell_type": "code",
   "execution_count": null,
   "metadata": {},
   "outputs": [],
   "source": []
  }
 ],
 "metadata": {
  "kernelspec": {
   "display_name": "Python 3",
   "language": "python",
   "name": "python3"
  },
  "language_info": {
   "codemirror_mode": {
    "name": "ipython",
    "version": 3
   },
   "file_extension": ".py",
   "mimetype": "text/x-python",
   "name": "python",
   "nbconvert_exporter": "python",
   "pygments_lexer": "ipython3",
   "version": "3.7.3"
  }
 },
 "nbformat": 4,
 "nbformat_minor": 2
}
