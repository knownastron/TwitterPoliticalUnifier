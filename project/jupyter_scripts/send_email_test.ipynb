{
 "cells": [
  {
   "cell_type": "code",
   "execution_count": 12,
   "metadata": {},
   "outputs": [],
   "source": [
    "import smtplib, ssl\n",
    "from email.mime.text import MIMEText\n",
    "from email.mime.multipart import MIMEMultipart"
   ]
  },
  {
   "cell_type": "code",
   "execution_count": 13,
   "metadata": {},
   "outputs": [
    {
     "name": "stdout",
     "output_type": "stream",
     "text": [
      "Type your password and press enter: Hello123.\n"
     ]
    }
   ],
   "source": [
    "smtp_server = \"smtp.gmail.com\"\n",
    "port = 587  # For starttls\n",
    "sender_email = \"twitter.poli.unifier@gmail.com\"\n",
    "receiver_email = 'knownastron@gmail.com'\n",
    "password = input(\"Type your password and press enter: \")"
   ]
  },
  {
   "cell_type": "code",
   "execution_count": 10,
   "metadata": {},
   "outputs": [],
   "source": [
    "msg = MIMEMultipart()\n",
    "msg['From'] = \"twitter.poli.unifier@gmail.com\"\n",
    "msg['To'] = 'knownastron@gmail.com'\n",
    "msg['Subject'] = \"Polarity Results for your Tweet\"\n",
    "body = 'duuuuuuhello'\n",
    "msg.attach(MIMEText(body, 'plain'))"
   ]
  },
  {
   "cell_type": "code",
   "execution_count": 11,
   "metadata": {},
   "outputs": [],
   "source": [
    "\n",
    "context = ssl.create_default_context()\n",
    "try:\n",
    "    server = smtplib.SMTP(smtp_server,port)\n",
    "    server.ehlo() # Can be omitted\n",
    "    server.starttls(context=context) # Secure the connection\n",
    "    server.ehlo() # Can be omitted\n",
    "    server.login(sender_email, password)\n",
    "    server.sendmail(sender_email, receiver_email, msg.as_string())\n",
    "except Exception as e:\n",
    "    # Print any error messages to stdout\n",
    "    print(e)\n",
    "finally:\n",
    "    server.quit() \n"
   ]
  },
  {
   "cell_type": "code",
   "execution_count": null,
   "metadata": {},
   "outputs": [],
   "source": []
  },
  {
   "cell_type": "code",
   "execution_count": null,
   "metadata": {},
   "outputs": [],
   "source": []
  }
 ],
 "metadata": {
  "kernelspec": {
   "display_name": "Python 3",
   "language": "python",
   "name": "python3"
  },
  "language_info": {
   "codemirror_mode": {
    "name": "ipython",
    "version": 3
   },
   "file_extension": ".py",
   "mimetype": "text/x-python",
   "name": "python",
   "nbconvert_exporter": "python",
   "pygments_lexer": "ipython3",
   "version": "3.7.3"
  }
 },
 "nbformat": 4,
 "nbformat_minor": 2
}
