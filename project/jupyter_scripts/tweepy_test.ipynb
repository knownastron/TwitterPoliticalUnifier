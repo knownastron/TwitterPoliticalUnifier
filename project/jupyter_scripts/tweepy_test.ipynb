{
 "cells": [
  {
   "cell_type": "code",
   "execution_count": 1,
   "metadata": {},
   "outputs": [
    {
     "ename": "ModuleNotFoundError",
     "evalue": "No module named 'TwitterConnection'",
     "output_type": "error",
     "traceback": [
      "\u001b[0;31m---------------------------------------------------------------------------\u001b[0m",
      "\u001b[0;31mModuleNotFoundError\u001b[0m                       Traceback (most recent call last)",
      "\u001b[0;32m<ipython-input-1-a1b6235de1cc>\u001b[0m in \u001b[0;36m<module>\u001b[0;34m\u001b[0m\n\u001b[1;32m      6\u001b[0m \u001b[0;32mimport\u001b[0m \u001b[0mre\u001b[0m\u001b[0;34m\u001b[0m\u001b[0;34m\u001b[0m\u001b[0m\n\u001b[1;32m      7\u001b[0m \u001b[0;34m\u001b[0m\u001b[0m\n\u001b[0;32m----> 8\u001b[0;31m \u001b[0;32mimport\u001b[0m \u001b[0mTwitterConnection\u001b[0m \u001b[0;32mas\u001b[0m \u001b[0mtf\u001b[0m\u001b[0;34m\u001b[0m\u001b[0;34m\u001b[0m\u001b[0m\n\u001b[0m\u001b[1;32m      9\u001b[0m \u001b[0;32mimport\u001b[0m \u001b[0mformat\u001b[0m\u001b[0;34m\u001b[0m\u001b[0;34m\u001b[0m\u001b[0m\n\u001b[1;32m     10\u001b[0m \u001b[0;32mimport\u001b[0m \u001b[0mtwitter_credentials\u001b[0m\u001b[0;34m\u001b[0m\u001b[0;34m\u001b[0m\u001b[0m\n",
      "\u001b[0;31mModuleNotFoundError\u001b[0m: No module named 'TwitterConnection'"
     ]
    }
   ],
   "source": [
    "import sys\n",
    "\n",
    "from tweepy import API\n",
    "from tweepy import OAuthHandler\n",
    "from tweepy import Cursor\n",
    "from tweepy import RateLimitError\n",
    "import requests\n",
    "import re\n",
    " \n",
    "import TwitterConnection as tf\n",
    "import format\n",
    "import twitter_credentials\n",
    " \n",
    "\n",
    "    \n"
   ]
  },
  {
   "cell_type": "code",
   "execution_count": 42,
   "metadata": {},
   "outputs": [],
   "source": [
    "# set up api auth\n",
    "auth = OAuthHandler(twitter_credentials.CONSUMER_KEY, twitter_credentials.CONSUMER_SECRET)\n",
    "auth.set_access_token(twitter_credentials.ACCESS_TOKEN, twitter_credentials.ACCESS_TOKEN_SECRET)                          \n",
    "api = API(auth)"
   ]
  },
  {
   "cell_type": "code",
   "execution_count": 43,
   "metadata": {},
   "outputs": [],
   "source": [
    "twit_conn = tf.TwitterConnection()"
   ]
  },
  {
   "cell_type": "code",
   "execution_count": 23,
   "metadata": {},
   "outputs": [],
   "source": [
    "def limit_handled(cursor):\n",
    "    \"\"\"                                                                                                          \n",
    "    Handles Twitter API's RateLimitError and StopIteration for Cursor                                            \n",
    "    :param cursor: Tweepy Cursor object                                                                          \n",
    "    :return: None                                                                                                \n",
    "    \"\"\"\n",
    "    while True:\n",
    "        try:\n",
    "            yield cursor.next()\n",
    "        except RateLimitError:\n",
    "            d1 = datetime.datetime.now() + datetime.timedelta(minutes=15)\n",
    "            print(d1)\n",
    "            time.sleep(15 * 60)\n",
    "        except StopIteration:\n",
    "            break\n"
   ]
  },
  {
   "cell_type": "code",
   "execution_count": 69,
   "metadata": {},
   "outputs": [],
   "source": [
    "favorites = api.followers('@knownastron') # "
   ]
  },
  {
   "cell_type": "code",
   "execution_count": 70,
   "metadata": {},
   "outputs": [],
   "source": [
    "test_fav = favorites[0].__dict__"
   ]
  },
  {
   "cell_type": "code",
   "execution_count": 71,
   "metadata": {},
   "outputs": [
    {
     "data": {
      "text/plain": [
       "tweepy.models.ResultSet"
      ]
     },
     "execution_count": 71,
     "metadata": {},
     "output_type": "execute_result"
    }
   ],
   "source": [
    "type(favorites)"
   ]
  },
  {
   "cell_type": "code",
   "execution_count": 72,
   "metadata": {},
   "outputs": [
    {
     "data": {
      "text/plain": [
       "dict_keys(['_api', '_json', 'id', 'id_str', 'name', 'screen_name', 'location', 'description', 'url', 'entities', 'protected', 'followers_count', 'friends_count', 'listed_count', 'created_at', 'favourites_count', 'utc_offset', 'time_zone', 'geo_enabled', 'verified', 'statuses_count', 'lang', 'status', 'contributors_enabled', 'is_translator', 'is_translation_enabled', 'profile_background_color', 'profile_background_image_url', 'profile_background_image_url_https', 'profile_background_tile', 'profile_image_url', 'profile_image_url_https', 'profile_banner_url', 'profile_link_color', 'profile_sidebar_border_color', 'profile_sidebar_fill_color', 'profile_text_color', 'profile_use_background_image', 'has_extended_profile', 'default_profile', 'default_profile_image', 'following', 'live_following', 'follow_request_sent', 'notifications', 'muting', 'blocking', 'blocked_by', 'translator_type'])"
      ]
     },
     "execution_count": 72,
     "metadata": {},
     "output_type": "execute_result"
    }
   ],
   "source": [
    "test_fav.keys()"
   ]
  },
  {
   "cell_type": "code",
   "execution_count": 18,
   "metadata": {},
   "outputs": [
    {
     "data": {
      "text/plain": [
       "'leronniee'"
      ]
     },
     "execution_count": 18,
     "metadata": {},
     "output_type": "execute_result"
    }
   ],
   "source": [
    "test_fav['author'].screen_name"
   ]
  },
  {
   "cell_type": "code",
   "execution_count": 75,
   "metadata": {},
   "outputs": [
    {
     "data": {
      "text/plain": [
       "'OliverMcGee'"
      ]
     },
     "execution_count": 75,
     "metadata": {},
     "output_type": "execute_result"
    }
   ],
   "source": [
    "favorites[0].screen_name"
   ]
  },
  {
   "cell_type": "code",
   "execution_count": 23,
   "metadata": {},
   "outputs": [],
   "source": [
    "def get_usernames_of_favorited_tweets_by(username):\n",
    "    favs_result_set = api.favorites(username)\n",
    "    usernames = []\n",
    "    for fav in favs_result_set:\n",
    "        usernames.append(fav.author.screen_name)\n",
    "    return usernames\n",
    "    "
   ]
  },
  {
   "cell_type": "code",
   "execution_count": 25,
   "metadata": {},
   "outputs": [
    {
     "name": "stdout",
     "output_type": "stream",
     "text": [
      "RashidaTlaib\n",
      "MoveOn\n",
      "ZamTheWriter\n",
      "matthewstoller\n",
      "LSCtweets\n",
      "thefortunesoc\n",
      "Public_Citizen\n",
      "SeeMiaRoll\n",
      "KyleKulinski\n",
      "colbertlateshow\n",
      "EFFanning\n",
      "RashidaTlaib\n",
      "RashidaTlaib\n",
      "AC360\n",
      "allinwithchris\n",
      "RawStory\n",
      "jbf1755\n",
      "BernieSanders\n",
      "jonfavs\n",
      "PodSaveAmerica\n"
     ]
    }
   ],
   "source": [
    "get_usernames_of_favorited_tweets_by('@AOC')"
   ]
  },
  {
   "cell_type": "code",
   "execution_count": 65,
   "metadata": {},
   "outputs": [],
   "source": [
    "ya1 = ya[10].__dict__"
   ]
  },
  {
   "cell_type": "code",
   "execution_count": 48,
   "metadata": {
    "scrolled": true
   },
   "outputs": [
    {
     "name": "stdout",
     "output_type": "stream",
     "text": [
      "0 why would anyone sensible want bernie sanders as president? the man doesn’t understand so many things???\n",
      "leronniee\n",
      "1 https://t.co/5disYyTfl7\n",
      "IvankaTrump\n",
      "2 Part two https://t.co/uwMS3coImL\n",
      "sophkokott13\n",
      "3 But adding bananas into my diet, I have no Charlie horses anymore.\n",
      "lisa_jillian\n",
      "4 Clipse will always be my favorite group, coke rap at it's purest, nobody does it better\n",
      "Malpalcolm\n",
      "5 I really just want to post something about kevin o'leary and Justin tredeau on Facebook and watch people fight it out in the comments! 😂\n",
      "HarleyJRS\n",
      "6 Jeez this guy has no chill haha #BRIT2017 https://t.co/UHAceTl8ej\n",
      "ethamauno\n",
      "7 We’re back in the tank in 6 minutes! #SharkTank @ABCSharkTank\n",
      "BarbaraCorcoran\n",
      "8 It's that time again...\n",
      "\n",
      "https://t.co/cJO6pcNU84\n",
      "SamHarrisOrg\n",
      "9 @knownastron perhaps you should try harder\n",
      "devon_aulie\n",
      "10 @K_Loran12 https://t.co/pXbbKQAe4M\n",
      "HarleyJRS\n",
      "11 When @K_Loran12 cuts you from the indoor ball team without even tell you so you pray to satan that he tears his ACL… https://t.co/OrKjHkiGa6\n",
      "HarleyJRS\n",
      "12 The US presidential debates are so much more entertaining than Canada’s PM debates.. #trumpmywalls\n",
      "RandHantoosh\n",
      "13 This is awesome. I was inspired by the way Bird played (even tho I hated to admit it back then) and have a hip repl… https://t.co/PAf6dOrdbG\n",
      "bballbreakdown\n",
      "14 If I was a US citizen, I would 100% vote Donald trump. I'm not joking either. @knownastron\n",
      "faizfayyaz\n",
      "15 Pour one out for the unsent messages at LB5Q.... It was a noble try #whereisbuddy https://t.co/tfXMPNDetF\n",
      "chipotleval\n",
      "16 Not wanting to go to sleep on a Sunday because it means Monday will come faster\n",
      "sophkokott13\n",
      "17 Yeah, as if we don’t know you that you were involved in the millions of deaths and misplaced persons, yeah #Iseeyou\n",
      "RandHantoosh\n",
      "18 When Hilary Clinton feels the guilt of 9/11 and is forced to leave memorial. el oh el. #IseeYou\n",
      "RandHantoosh\n",
      "19 \"Did they gay you up yet?\"- my mom on my gender studies class\n",
      "mikewillmad3it\n"
     ]
    }
   ],
   "source": [
    "for i, fav in enumerate(favorites):\n",
    "    cur_fav = fav.__dict__\n",
    "    print(i, cur_fav['text'])\n",
    "    print(cur_fav['user'].screen_name)"
   ]
  },
  {
   "cell_type": "code",
   "execution_count": 67,
   "metadata": {},
   "outputs": [
    {
     "data": {
      "text/plain": [
       "User(_api=<tweepy.api.API object at 0x10645d780>, _json={'id': 86344052, 'id_str': '86344052', 'name': 'BBALLBREAKDOWN', 'screen_name': 'bballbreakdown', 'location': 'Los Angeles', 'description': 'Sports Fans, Coach Nick here. The most popular channel dedicated to @NBA Analysis. LIVE In Game Tweets. For my monthly membership: https://t.co/2yoBcoJUEh', 'url': 'https://t.co/vHdSnE6SrZ', 'entities': {'url': {'urls': [{'url': 'https://t.co/vHdSnE6SrZ', 'expanded_url': 'http://youtube.com/bballbreakdown', 'display_url': 'youtube.com/bballbreakdown', 'indices': [0, 23]}]}, 'description': {'urls': [{'url': 'https://t.co/2yoBcoJUEh', 'expanded_url': 'http://bballbreakdown.com', 'display_url': 'bballbreakdown.com', 'indices': [131, 154]}]}}, 'protected': False, 'followers_count': 110860, 'friends_count': 1988, 'listed_count': 2846, 'created_at': 'Fri Oct 30 16:14:17 +0000 2009', 'favourites_count': 9843, 'utc_offset': None, 'time_zone': None, 'geo_enabled': True, 'verified': False, 'statuses_count': 289171, 'lang': None, 'contributors_enabled': False, 'is_translator': False, 'is_translation_enabled': False, 'profile_background_color': 'C0DEED', 'profile_background_image_url': 'http://abs.twimg.com/images/themes/theme1/bg.png', 'profile_background_image_url_https': 'https://abs.twimg.com/images/themes/theme1/bg.png', 'profile_background_tile': False, 'profile_image_url': 'http://pbs.twimg.com/profile_images/1058828695815606272/5YA-op5Q_normal.jpg', 'profile_image_url_https': 'https://pbs.twimg.com/profile_images/1058828695815606272/5YA-op5Q_normal.jpg', 'profile_banner_url': 'https://pbs.twimg.com/profile_banners/86344052/1541027841', 'profile_link_color': '0084B4', 'profile_sidebar_border_color': 'C0DEED', 'profile_sidebar_fill_color': 'DDEEF6', 'profile_text_color': '333333', 'profile_use_background_image': True, 'has_extended_profile': False, 'default_profile': False, 'default_profile_image': False, 'following': True, 'follow_request_sent': False, 'notifications': False, 'translator_type': 'none'}, id=86344052, id_str='86344052', name='BBALLBREAKDOWN', screen_name='bballbreakdown', location='Los Angeles', description='Sports Fans, Coach Nick here. The most popular channel dedicated to @NBA Analysis. LIVE In Game Tweets. For my monthly membership: https://t.co/2yoBcoJUEh', url='https://t.co/vHdSnE6SrZ', entities={'url': {'urls': [{'url': 'https://t.co/vHdSnE6SrZ', 'expanded_url': 'http://youtube.com/bballbreakdown', 'display_url': 'youtube.com/bballbreakdown', 'indices': [0, 23]}]}, 'description': {'urls': [{'url': 'https://t.co/2yoBcoJUEh', 'expanded_url': 'http://bballbreakdown.com', 'display_url': 'bballbreakdown.com', 'indices': [131, 154]}]}}, protected=False, followers_count=110860, friends_count=1988, listed_count=2846, created_at=datetime.datetime(2009, 10, 30, 16, 14, 17), favourites_count=9843, utc_offset=None, time_zone=None, geo_enabled=True, verified=False, statuses_count=289171, lang=None, contributors_enabled=False, is_translator=False, is_translation_enabled=False, profile_background_color='C0DEED', profile_background_image_url='http://abs.twimg.com/images/themes/theme1/bg.png', profile_background_image_url_https='https://abs.twimg.com/images/themes/theme1/bg.png', profile_background_tile=False, profile_image_url='http://pbs.twimg.com/profile_images/1058828695815606272/5YA-op5Q_normal.jpg', profile_image_url_https='https://pbs.twimg.com/profile_images/1058828695815606272/5YA-op5Q_normal.jpg', profile_banner_url='https://pbs.twimg.com/profile_banners/86344052/1541027841', profile_link_color='0084B4', profile_sidebar_border_color='C0DEED', profile_sidebar_fill_color='DDEEF6', profile_text_color='333333', profile_use_background_image=True, has_extended_profile=False, default_profile=False, default_profile_image=False, following=True, follow_request_sent=False, notifications=False, translator_type='none')"
      ]
     },
     "execution_count": 67,
     "metadata": {},
     "output_type": "execute_result"
    }
   ],
   "source": [
    "favorites[13].__dict__['author']"
   ]
  },
  {
   "cell_type": "code",
   "execution_count": null,
   "metadata": {},
   "outputs": [],
   "source": []
  },
  {
   "cell_type": "code",
   "execution_count": 68,
   "metadata": {},
   "outputs": [
    {
     "data": {
      "text/plain": [
       "'When @K_Loran12 cuts you from the indoor ball team without even tell you so you pray to satan that he tears his ACL… https://t.co/OrKjHkiGa6'"
      ]
     },
     "execution_count": 68,
     "metadata": {},
     "output_type": "execute_result"
    }
   ],
   "source": [
    "ya1['text']"
   ]
  },
  {
   "cell_type": "code",
   "execution_count": 69,
   "metadata": {},
   "outputs": [],
   "source": [
    "author = ya1['author'].__dict__"
   ]
  },
  {
   "cell_type": "code",
   "execution_count": 70,
   "metadata": {},
   "outputs": [
    {
     "data": {
      "text/plain": [
       "'Harley Sinclair'"
      ]
     },
     "execution_count": 70,
     "metadata": {},
     "output_type": "execute_result"
    }
   ],
   "source": [
    "author['name']"
   ]
  },
  {
   "cell_type": "code",
   "execution_count": 71,
   "metadata": {},
   "outputs": [],
   "source": [
    "statuses = api.statuses_lookup(['1162180754371223552'])"
   ]
  },
  {
   "cell_type": "code",
   "execution_count": 72,
   "metadata": {},
   "outputs": [],
   "source": [
    "status = statuses[0].__dict__"
   ]
  },
  {
   "cell_type": "code",
   "execution_count": 73,
   "metadata": {},
   "outputs": [
    {
     "name": "stdout",
     "output_type": "stream",
     "text": [
      "_api\n",
      "_json\n",
      "created_at\n",
      "id\n",
      "id_str\n",
      "text\n",
      "truncated\n",
      "entities\n",
      "source\n",
      "source_url\n",
      "in_reply_to_status_id\n",
      "in_reply_to_status_id_str\n",
      "in_reply_to_user_id\n",
      "in_reply_to_user_id_str\n",
      "in_reply_to_screen_name\n",
      "author\n",
      "user\n",
      "geo\n",
      "coordinates\n",
      "place\n",
      "contributors\n",
      "is_quote_status\n",
      "retweet_count\n",
      "favorite_count\n",
      "favorited\n",
      "retweeted\n",
      "lang\n"
     ]
    }
   ],
   "source": [
    "for key in status.keys():\n",
    "    print(key)"
   ]
  },
  {
   "cell_type": "code",
   "execution_count": 74,
   "metadata": {},
   "outputs": [
    {
     "data": {
      "text/plain": [
       "User(_api=<tweepy.api.API object at 0x10645d780>, _json={'id': 1361039156, 'id_str': '1361039156', 'name': '🌹 Malcolm Percocets', 'screen_name': 'Malpalcolm', 'location': '', 'description': '', 'url': None, 'entities': {'description': {'urls': []}}, 'protected': False, 'followers_count': 160, 'friends_count': 298, 'listed_count': 0, 'created_at': 'Thu Apr 18 04:46:19 +0000 2013', 'favourites_count': 29280, 'utc_offset': None, 'time_zone': None, 'geo_enabled': False, 'verified': False, 'statuses_count': 8454, 'lang': None, 'contributors_enabled': False, 'is_translator': False, 'is_translation_enabled': False, 'profile_background_color': '00C24E', 'profile_background_image_url': 'http://abs.twimg.com/images/themes/theme1/bg.png', 'profile_background_image_url_https': 'https://abs.twimg.com/images/themes/theme1/bg.png', 'profile_background_tile': False, 'profile_image_url': 'http://pbs.twimg.com/profile_images/1160784093715546112/4539-AID_normal.jpg', 'profile_image_url_https': 'https://pbs.twimg.com/profile_images/1160784093715546112/4539-AID_normal.jpg', 'profile_banner_url': 'https://pbs.twimg.com/profile_banners/1361039156/1508813690', 'profile_link_color': 'A899F4', 'profile_sidebar_border_color': '000000', 'profile_sidebar_fill_color': 'DDEEF6', 'profile_text_color': '333333', 'profile_use_background_image': True, 'has_extended_profile': False, 'default_profile': False, 'default_profile_image': False, 'following': True, 'follow_request_sent': False, 'notifications': False, 'translator_type': 'none'}, id=1361039156, id_str='1361039156', name='🌹 Malcolm Percocets', screen_name='Malpalcolm', location='', description='', url=None, entities={'description': {'urls': []}}, protected=False, followers_count=160, friends_count=298, listed_count=0, created_at=datetime.datetime(2013, 4, 18, 4, 46, 19), favourites_count=29280, utc_offset=None, time_zone=None, geo_enabled=False, verified=False, statuses_count=8454, lang=None, contributors_enabled=False, is_translator=False, is_translation_enabled=False, profile_background_color='00C24E', profile_background_image_url='http://abs.twimg.com/images/themes/theme1/bg.png', profile_background_image_url_https='https://abs.twimg.com/images/themes/theme1/bg.png', profile_background_tile=False, profile_image_url='http://pbs.twimg.com/profile_images/1160784093715546112/4539-AID_normal.jpg', profile_image_url_https='https://pbs.twimg.com/profile_images/1160784093715546112/4539-AID_normal.jpg', profile_banner_url='https://pbs.twimg.com/profile_banners/1361039156/1508813690', profile_link_color='A899F4', profile_sidebar_border_color='000000', profile_sidebar_fill_color='DDEEF6', profile_text_color='333333', profile_use_background_image=True, has_extended_profile=False, default_profile=False, default_profile_image=False, following=True, follow_request_sent=False, notifications=False, translator_type='none')"
      ]
     },
     "execution_count": 74,
     "metadata": {},
     "output_type": "execute_result"
    }
   ],
   "source": [
    "status['user']"
   ]
  },
  {
   "cell_type": "code",
   "execution_count": 170,
   "metadata": {},
   "outputs": [],
   "source": [
    "def getText(text):\n",
    "    \"\"\"Replace some text\n",
    "    \"\"\"\n",
    "    text = text.replace(\"\\n\", \" \")\n",
    "    text = text.replace(\"http\", \" http\")\n",
    "    text = text.replace(\"pic.twitter\", \" pic.twitter\")\n",
    "    return text\n",
    "\n",
    "import format\n",
    "\n",
    "def getTextOfTweets(username, num_tweets):\n",
    "    '''\n",
    "    Gets all the texts of a tweet:\n",
    "    - uses formatText\n",
    "    - does not include retweets\n",
    "    '''\n",
    "    tweet_texts = []\n",
    "    for status in Cursor(api.user_timeline, screen_name=username, tweet_mode=\"extended\").items(num_tweets):\n",
    "        if status.full_text[:2] == 'RT':\n",
    "            continue\n",
    "        tweet_texts.append(format.formatTweetText(status.full_text))\n",
    "    return tweet_texts"
   ]
  },
  {
   "cell_type": "code",
   "execution_count": 171,
   "metadata": {},
   "outputs": [
    {
     "data": {
      "text/plain": [
       "['I’m not mad, Jon  I’m just... Disappointed.  Now give me your car keys You’re grounded',\n",
       " 'And you’ve beaten some of the best, but nobody believes a word you say.',\n",
       " 'Check out my new sponsor: The Athletic! Use the link https://t.co/JaPa0WBi2j for a special monthly rate at only $2.99 per month for the year.  That’s a 40% savings!    Only available for my listeners!”    https://t.co/rK4upyfI5n and https://t.co/qhG31rpPRZ',\n",
       " '-We’ll BOTH be tellin’ stories about our past glories in a barber-shop when we’re 75 But You’ll be tellin’ yours in a PRISON Barber-Shop, I’m guessin’']"
      ]
     },
     "execution_count": 171,
     "metadata": {},
     "output_type": "execute_result"
    }
   ],
   "source": [
    "get_text_of_tweets('@chaelsonnen', 5)"
   ]
  },
  {
   "cell_type": "code",
   "execution_count": 148,
   "metadata": {},
   "outputs": [],
   "source": [
    "muh_list = []\n",
    "ya_list = []"
   ]
  },
  {
   "cell_type": "code",
   "execution_count": 135,
   "metadata": {},
   "outputs": [],
   "source": [
    "tweets = api.user_timeline('@knownastron', count=200, tweet_mode='extended')"
   ]
  },
  {
   "cell_type": "code",
   "execution_count": 149,
   "metadata": {},
   "outputs": [],
   "source": [
    "from tweepy import Cursor\n",
    "for status in Cursor(api.user_timeline, screen_name='@knownastron', tweet_mode=\"extended\").items(200):\n",
    "    ya_list.append(status)"
   ]
  },
  {
   "cell_type": "code",
   "execution_count": 150,
   "metadata": {},
   "outputs": [
    {
     "data": {
      "text/plain": [
       "0"
      ]
     },
     "execution_count": 150,
     "metadata": {},
     "output_type": "execute_result"
    }
   ],
   "source": [
    "len(muh_list)"
   ]
  },
  {
   "cell_type": "code",
   "execution_count": 151,
   "metadata": {},
   "outputs": [],
   "source": [
    "for i,status in enumerate(muh_list):\n",
    "    print(i, status.full_text, '\\n')"
   ]
  },
  {
   "cell_type": "code",
   "execution_count": null,
   "metadata": {},
   "outputs": [],
   "source": []
  },
  {
   "cell_type": "code",
   "execution_count": null,
   "metadata": {},
   "outputs": [],
   "source": []
  },
  {
   "cell_type": "code",
   "execution_count": 118,
   "metadata": {},
   "outputs": [],
   "source": [
    "tweets1 = tweets[2].__dict__"
   ]
  },
  {
   "cell_type": "code",
   "execution_count": 172,
   "metadata": {},
   "outputs": [
    {
     "data": {
      "text/plain": [
       "'Biggest crowd EVER, according to Arena people. Thousands outside trying to get in. Place was packed! Radical Left Dems &amp; their Partner, LameStream Media, saying Arena empty. Check out pictures. Fake News. The Enemy of the People! https://t.co/KkZWspM93a'"
      ]
     },
     "execution_count": 172,
     "metadata": {},
     "output_type": "execute_result"
    }
   ],
   "source": [
    "tweets1['full_text']"
   ]
  },
  {
   "cell_type": "code",
   "execution_count": 178,
   "metadata": {},
   "outputs": [],
   "source": [
    "follower_list = []"
   ]
  },
  {
   "cell_type": "code",
   "execution_count": 186,
   "metadata": {},
   "outputs": [],
   "source": [
    "def get_followers(username):\n",
    "    follower_list = []\n",
    "    for follower in Cursor(api.followers, screen_name=username).items():\n",
    "        follower_list.append(follower.screen_name)\n",
    "    return follower_list\n",
    "\n",
    "    \n",
    "    "
   ]
  },
  {
   "cell_type": "code",
   "execution_count": 38,
   "metadata": {},
   "outputs": [],
   "source": [
    "resources = api.rate_limit_status()['resources']"
   ]
  },
  {
   "cell_type": "code",
   "execution_count": 40,
   "metadata": {},
   "outputs": [
    {
     "data": {
      "text/plain": [
       "{'/lists/list': {'limit': 15, 'remaining': 15, 'reset': 1566421165},\n",
       " '/lists/memberships': {'limit': 75, 'remaining': 75, 'reset': 1566421165},\n",
       " '/lists/subscribers/show': {'limit': 15,\n",
       "  'remaining': 15,\n",
       "  'reset': 1566421165},\n",
       " '/lists/members': {'limit': 900, 'remaining': 900, 'reset': 1566421165},\n",
       " '/lists/subscriptions': {'limit': 15, 'remaining': 15, 'reset': 1566421165},\n",
       " '/lists/show': {'limit': 75, 'remaining': 75, 'reset': 1566421165},\n",
       " '/lists/ownerships': {'limit': 15, 'remaining': 15, 'reset': 1566421165},\n",
       " '/lists/subscribers': {'limit': 180, 'remaining': 180, 'reset': 1566421165},\n",
       " '/lists/members/show': {'limit': 15, 'remaining': 15, 'reset': 1566421165},\n",
       " '/lists/statuses': {'limit': 900, 'remaining': 900, 'reset': 1566421165}}"
      ]
     },
     "execution_count": 40,
     "metadata": {},
     "output_type": "execute_result"
    }
   ],
   "source": [
    "resources['lists']"
   ]
  },
  {
   "cell_type": "code",
   "execution_count": 50,
   "metadata": {},
   "outputs": [
    {
     "name": "stdout",
     "output_type": "stream",
     "text": [
      "/application/rate_limit_status 180 169\n",
      "/favorites/list 75 74\n"
     ]
    }
   ],
   "source": [
    "resource_type = resources.keys()\n",
    "for key in resources:\n",
    "    resource_group = resources[key]\n",
    "    for key1 in resource_group:\n",
    "        limit_info = resource_group[key1]\n",
    "        if limit_info['remaining'] < limit_info['limit']:\n",
    "            print(key1, limit_info['limit'], limit_info['remaining'])\n"
   ]
  },
  {
   "cell_type": "code",
   "execution_count": null,
   "metadata": {},
   "outputs": [],
   "source": []
  },
  {
   "cell_type": "code",
   "execution_count": 30,
   "metadata": {},
   "outputs": [],
   "source": [
    "def get_liked_list(tweet_id):\n",
    "    # get the data of likers                                                                                                 \n",
    "    r = requests.get('https://twitter.com/i/activity/favorited_popup?id='+tweet_id)\n",
    "    r = requests.get('https://twitter.com/i/activity/favorited_popup?id='+tweet_id)\n",
    "    # use the grep in order to get the retweeters\n",
    "    text = r.text\n",
    "    likers = re.findall('div class=\\\\\\\\\"account  js-actionable-user js-profile-popup-actionable \\\\\\\\\" data-screen-name=\\\\\\\\\"\\(.+?)\\\\\\\\\" data-user-id=\\\\\\\\\"', text)\n",
    "    likers = re.findall('div class=\\\\\\\\\"account  js-actionable-user js-profile-popup-actionable \\\\\\\\\" data-screen-name=\\\\\\\\\"(.+?)\\\\\\\\\" data-user-id=\\\\\\\\\"', text)\n",
    "    \n",
    "    return likers"
   ]
  },
  {
   "cell_type": "code",
   "execution_count": 31,
   "metadata": {},
   "outputs": [
    {
     "ename": "AttributeError",
     "evalue": "'Response' object has no attribute 'findall'",
     "output_type": "error",
     "traceback": [
      "\u001b[0;31m---------------------------------------------------------------------------\u001b[0m",
      "\u001b[0;31mAttributeError\u001b[0m                            Traceback (most recent call last)",
      "\u001b[0;32m<ipython-input-31-44c607bca769>\u001b[0m in \u001b[0;36m<module>\u001b[0;34m\u001b[0m\n\u001b[0;32m----> 1\u001b[0;31m \u001b[0mget_liked_list\u001b[0m\u001b[0;34m(\u001b[0m\u001b[0;34m'1163869223610912770'\u001b[0m\u001b[0;34m)\u001b[0m\u001b[0;34m\u001b[0m\u001b[0;34m\u001b[0m\u001b[0m\n\u001b[0m",
      "\u001b[0;32m<ipython-input-30-07457688f97b>\u001b[0m in \u001b[0;36mget_liked_list\u001b[0;34m(tweet_id)\u001b[0m\n\u001b[1;32m      5\u001b[0m     \u001b[0;31m# use the grep in order to get the retweeters\u001b[0m\u001b[0;34m\u001b[0m\u001b[0;34m\u001b[0m\u001b[0;34m\u001b[0m\u001b[0m\n\u001b[1;32m      6\u001b[0m     \u001b[0mtext\u001b[0m \u001b[0;34m=\u001b[0m \u001b[0mr\u001b[0m\u001b[0;34m.\u001b[0m\u001b[0mtext\u001b[0m\u001b[0;34m\u001b[0m\u001b[0;34m\u001b[0m\u001b[0m\n\u001b[0;32m----> 7\u001b[0;31m     likers = r.findall('div class=\\\\\\\\\"account  js-actionable-user js-profile-popup-actionable \\\\\\\\\" data-screen-name=\\\\\\\\\"\\\n\u001b[0m\u001b[1;32m      8\u001b[0m         (.+?)\\\\\\\\\" data-user-id=\\\\\\\\\"', text)\n\u001b[1;32m      9\u001b[0m \u001b[0;34m\u001b[0m\u001b[0m\n",
      "\u001b[0;31mAttributeError\u001b[0m: 'Response' object has no attribute 'findall'"
     ]
    }
   ],
   "source": [
    "get_liked_list('1163869223610912770')"
   ]
  },
  {
   "cell_type": "code",
   "execution_count": 28,
   "metadata": {},
   "outputs": [],
   "source": [
    "def get_retweeters_list(username, tweet_id):\n",
    "    # get the data of retweets\n",
    "    r = requests.get('https://twitter.com/i/activity/_popup?id='+tweet_id)\n",
    "    # use the grep in order to get the retweeters\n",
    "    text = r.text\n",
    "    x = re.findall('div class=\\\\\\\\\"account  js-actionable-user js-profile-popup-actionable \\\\\\\\\" data-screen-name=\\\\\\\\\"(.+?)\\\\\\\\\" data-user-id=\\\\\\\\\"', text)\n",
    "    return x"
   ]
  },
  {
   "cell_type": "code",
   "execution_count": 32,
   "metadata": {},
   "outputs": [
    {
     "data": {
      "text/plain": [
       "['TrumpTrain_1',\n",
       " 'KCpartyof5',\n",
       " 'JBTonightShow',\n",
       " 'PhaedrusAnimus',\n",
       " 'Cutchens',\n",
       " 'Mar00624162',\n",
       " 'dodger48',\n",
       " 'momuar42',\n",
       " 'santinotucci69',\n",
       " 'NetteDonnelly',\n",
       " 'masurkar',\n",
       " 'AndyDav12993766',\n",
       " 'sylobe',\n",
       " 'karaokemomo1',\n",
       " 'dustinherrick1',\n",
       " 'coffee4binky',\n",
       " 'Faux_Pearl',\n",
       " 'olivealoe',\n",
       " 'happy_dog2017',\n",
       " 'misterpitney',\n",
       " 'DakotaSioux2',\n",
       " '12billpen',\n",
       " 'ElrealMartinG',\n",
       " 'bebetatro',\n",
       " 'MrsArboe']"
      ]
     },
     "execution_count": 32,
     "metadata": {},
     "output_type": "execute_result"
    }
   ],
   "source": [
    "get_retweeters_list('ya','1163836348819750912')"
   ]
  },
  {
   "cell_type": "code",
   "execution_count": 51,
   "metadata": {},
   "outputs": [],
   "source": [
    "tweet_url = 'https://twitter.com/AOC/status/1151868495824642049'"
   ]
  },
  {
   "cell_type": "code",
   "execution_count": 52,
   "metadata": {},
   "outputs": [],
   "source": [
    "index_of_twitter = split_url.index('twitter.com')\n",
    "username = format.format_username(split_url[index_of_twitter + 1])\n",
    "tweet_id = split_url[index_of_twitter + 3]"
   ]
  },
  {
   "cell_type": "code",
   "execution_count": 53,
   "metadata": {},
   "outputs": [
    {
     "data": {
      "text/plain": [
       "['https:', '', 'twitter.com', 'AOC', 'status', '1151868495824642049']"
      ]
     },
     "execution_count": 53,
     "metadata": {},
     "output_type": "execute_result"
    }
   ],
   "source": []
  },
  {
   "cell_type": "code",
   "execution_count": 58,
   "metadata": {},
   "outputs": [
    {
     "data": {
      "text/plain": [
       "'1151868495824642049'"
      ]
     },
     "execution_count": 58,
     "metadata": {},
     "output_type": "execute_result"
    }
   ],
   "source": [
    "username = format.format_username(split_url[3])\n",
    "tweet_id = split_url[5]\n",
    "tweet_id"
   ]
  },
  {
   "cell_type": "code",
   "execution_count": 60,
   "metadata": {},
   "outputs": [],
   "source": [
    "index_of_twitter = split_url.index('twitter.com')\n",
    "username = format.format_username(split_url[index_of_twitter + 1])\n",
    "tweet_id = split_url[index_of_twitter + 3]"
   ]
  },
  {
   "cell_type": "code",
   "execution_count": 62,
   "metadata": {},
   "outputs": [
    {
     "data": {
      "text/plain": [
       "'1151868495824642049'"
      ]
     },
     "execution_count": 62,
     "metadata": {},
     "output_type": "execute_result"
    }
   ],
   "source": [
    "tweet_id"
   ]
  },
  {
   "cell_type": "code",
   "execution_count": 63,
   "metadata": {},
   "outputs": [],
   "source": [
    "def get_username_and_tweet_id(url):\n",
    "    split_url = url.split('/')\n",
    "    index_of_twitter = split_url.index('twitter.com')\n",
    "    username = format.format_username(split_url[index_of_twitter + 1])\n",
    "    tweet_id = split_url[index_of_twitter + 3]"
   ]
  },
  {
   "cell_type": "code",
   "execution_count": 64,
   "metadata": {},
   "outputs": [],
   "source": []
  },
  {
   "cell_type": "code",
   "execution_count": 68,
   "metadata": {},
   "outputs": [],
   "source": [
    "twit_conn = tf.TwitterConnection()"
   ]
  },
  {
   "cell_type": "code",
   "execution_count": 100,
   "metadata": {},
   "outputs": [
    {
     "ename": "RateLimitError",
     "evalue": "[{'message': 'Rate limit exceeded', 'code': 88}]",
     "output_type": "error",
     "traceback": [
      "\u001b[0;31m---------------------------------------------------------------------------\u001b[0m",
      "\u001b[0;31mRateLimitError\u001b[0m                            Traceback (most recent call last)",
      "\u001b[0;32m<ipython-input-100-9c07f6b8fdf8>\u001b[0m in \u001b[0;36m<module>\u001b[0;34m\u001b[0m\n\u001b[0;32m----> 1\u001b[0;31m \u001b[0mfollowers\u001b[0m \u001b[0;34m=\u001b[0m \u001b[0mtwit_conn\u001b[0m\u001b[0;34m.\u001b[0m\u001b[0mget_followers\u001b[0m\u001b[0;34m(\u001b[0m\u001b[0;34m'@AOC'\u001b[0m\u001b[0;34m)\u001b[0m\u001b[0;34m\u001b[0m\u001b[0;34m\u001b[0m\u001b[0m\n\u001b[0m",
      "\u001b[0;32m~/Documents/knownastron/capstone/project/twitter_functions.py\u001b[0m in \u001b[0;36mget_followers\u001b[0;34m(self, username)\u001b[0m\n\u001b[1;32m     38\u001b[0m         \u001b[0mGet\u001b[0m \u001b[0mlist\u001b[0m \u001b[0mof\u001b[0m \u001b[0mfollower\u001b[0m\u001b[0;31m'\u001b[0m\u001b[0ms\u001b[0m \u001b[0musernames\u001b[0m\u001b[0;34m\u001b[0m\u001b[0;34m\u001b[0m\u001b[0m\n\u001b[1;32m     39\u001b[0m         '''\n\u001b[0;32m---> 40\u001b[0;31m         \u001b[0mfollower_list\u001b[0m \u001b[0;34m=\u001b[0m \u001b[0;34m[\u001b[0m\u001b[0;34m]\u001b[0m\u001b[0;34m\u001b[0m\u001b[0;34m\u001b[0m\u001b[0m\n\u001b[0m\u001b[1;32m     41\u001b[0m         \u001b[0mitems\u001b[0m \u001b[0;34m=\u001b[0m \u001b[0mCursor\u001b[0m\u001b[0;34m(\u001b[0m\u001b[0mself\u001b[0m\u001b[0;34m.\u001b[0m\u001b[0mapi\u001b[0m\u001b[0;34m.\u001b[0m\u001b[0mfollowers\u001b[0m\u001b[0;34m,\u001b[0m \u001b[0mscreen_name\u001b[0m\u001b[0;34m=\u001b[0m\u001b[0musername\u001b[0m\u001b[0;34m)\u001b[0m\u001b[0;34m.\u001b[0m\u001b[0mitems\u001b[0m\u001b[0;34m(\u001b[0m\u001b[0;36m20\u001b[0m\u001b[0;34m)\u001b[0m\u001b[0;34m\u001b[0m\u001b[0;34m\u001b[0m\u001b[0m\n\u001b[1;32m     42\u001b[0m \u001b[0;34m\u001b[0m\u001b[0m\n",
      "\u001b[0;32m/usr/local/lib/python3.7/site-packages/tweepy/cursor.py\u001b[0m in \u001b[0;36m__next__\u001b[0;34m(self)\u001b[0m\n\u001b[1;32m     45\u001b[0m \u001b[0;34m\u001b[0m\u001b[0m\n\u001b[1;32m     46\u001b[0m     \u001b[0;32mdef\u001b[0m \u001b[0m__next__\u001b[0m\u001b[0;34m(\u001b[0m\u001b[0mself\u001b[0m\u001b[0;34m)\u001b[0m\u001b[0;34m:\u001b[0m\u001b[0;34m\u001b[0m\u001b[0;34m\u001b[0m\u001b[0m\n\u001b[0;32m---> 47\u001b[0;31m         \u001b[0;32mreturn\u001b[0m \u001b[0mself\u001b[0m\u001b[0;34m.\u001b[0m\u001b[0mnext\u001b[0m\u001b[0;34m(\u001b[0m\u001b[0;34m)\u001b[0m\u001b[0;34m\u001b[0m\u001b[0;34m\u001b[0m\u001b[0m\n\u001b[0m\u001b[1;32m     48\u001b[0m \u001b[0;34m\u001b[0m\u001b[0m\n\u001b[1;32m     49\u001b[0m     \u001b[0;32mdef\u001b[0m \u001b[0mnext\u001b[0m\u001b[0;34m(\u001b[0m\u001b[0mself\u001b[0m\u001b[0;34m)\u001b[0m\u001b[0;34m:\u001b[0m\u001b[0;34m\u001b[0m\u001b[0;34m\u001b[0m\u001b[0m\n",
      "\u001b[0;32m/usr/local/lib/python3.7/site-packages/tweepy/cursor.py\u001b[0m in \u001b[0;36mnext\u001b[0;34m(self)\u001b[0m\n\u001b[1;32m    193\u001b[0m         \u001b[0;32mif\u001b[0m \u001b[0mself\u001b[0m\u001b[0;34m.\u001b[0m\u001b[0mcurrent_page\u001b[0m \u001b[0;32mis\u001b[0m \u001b[0;32mNone\u001b[0m \u001b[0;32mor\u001b[0m \u001b[0mself\u001b[0m\u001b[0;34m.\u001b[0m\u001b[0mpage_index\u001b[0m \u001b[0;34m==\u001b[0m \u001b[0mlen\u001b[0m\u001b[0;34m(\u001b[0m\u001b[0mself\u001b[0m\u001b[0;34m.\u001b[0m\u001b[0mcurrent_page\u001b[0m\u001b[0;34m)\u001b[0m \u001b[0;34m-\u001b[0m \u001b[0;36m1\u001b[0m\u001b[0;34m:\u001b[0m\u001b[0;34m\u001b[0m\u001b[0;34m\u001b[0m\u001b[0m\n\u001b[1;32m    194\u001b[0m             \u001b[0;31m# Reached end of current page, get the next page...\u001b[0m\u001b[0;34m\u001b[0m\u001b[0;34m\u001b[0m\u001b[0;34m\u001b[0m\u001b[0m\n\u001b[0;32m--> 195\u001b[0;31m             \u001b[0mself\u001b[0m\u001b[0;34m.\u001b[0m\u001b[0mcurrent_page\u001b[0m \u001b[0;34m=\u001b[0m \u001b[0mself\u001b[0m\u001b[0;34m.\u001b[0m\u001b[0mpage_iterator\u001b[0m\u001b[0;34m.\u001b[0m\u001b[0mnext\u001b[0m\u001b[0;34m(\u001b[0m\u001b[0;34m)\u001b[0m\u001b[0;34m\u001b[0m\u001b[0;34m\u001b[0m\u001b[0m\n\u001b[0m\u001b[1;32m    196\u001b[0m             \u001b[0mself\u001b[0m\u001b[0;34m.\u001b[0m\u001b[0mpage_index\u001b[0m \u001b[0;34m=\u001b[0m \u001b[0;34m-\u001b[0m\u001b[0;36m1\u001b[0m\u001b[0;34m\u001b[0m\u001b[0;34m\u001b[0m\u001b[0m\n\u001b[1;32m    197\u001b[0m         \u001b[0mself\u001b[0m\u001b[0;34m.\u001b[0m\u001b[0mpage_index\u001b[0m \u001b[0;34m+=\u001b[0m \u001b[0;36m1\u001b[0m\u001b[0;34m\u001b[0m\u001b[0;34m\u001b[0m\u001b[0m\n",
      "\u001b[0;32m/usr/local/lib/python3.7/site-packages/tweepy/cursor.py\u001b[0m in \u001b[0;36mnext\u001b[0;34m(self)\u001b[0m\n\u001b[1;32m     71\u001b[0m         data, cursors = self.method(cursor=self.next_cursor,\n\u001b[1;32m     72\u001b[0m                                     \u001b[0;34m*\u001b[0m\u001b[0mself\u001b[0m\u001b[0;34m.\u001b[0m\u001b[0margs\u001b[0m\u001b[0;34m,\u001b[0m\u001b[0;34m\u001b[0m\u001b[0;34m\u001b[0m\u001b[0m\n\u001b[0;32m---> 73\u001b[0;31m                                     **self.kargs)\n\u001b[0m\u001b[1;32m     74\u001b[0m         \u001b[0mself\u001b[0m\u001b[0;34m.\u001b[0m\u001b[0mprev_cursor\u001b[0m\u001b[0;34m,\u001b[0m \u001b[0mself\u001b[0m\u001b[0;34m.\u001b[0m\u001b[0mnext_cursor\u001b[0m \u001b[0;34m=\u001b[0m \u001b[0mcursors\u001b[0m\u001b[0;34m\u001b[0m\u001b[0;34m\u001b[0m\u001b[0m\n\u001b[1;32m     75\u001b[0m         \u001b[0;32mif\u001b[0m \u001b[0mlen\u001b[0m\u001b[0;34m(\u001b[0m\u001b[0mdata\u001b[0m\u001b[0;34m)\u001b[0m \u001b[0;34m==\u001b[0m \u001b[0;36m0\u001b[0m\u001b[0;34m:\u001b[0m\u001b[0;34m\u001b[0m\u001b[0;34m\u001b[0m\u001b[0m\n",
      "\u001b[0;32m/usr/local/lib/python3.7/site-packages/tweepy/binder.py\u001b[0m in \u001b[0;36m_call\u001b[0;34m(*args, **kwargs)\u001b[0m\n\u001b[1;32m    248\u001b[0m                 \u001b[0;32mreturn\u001b[0m \u001b[0mmethod\u001b[0m\u001b[0;34m\u001b[0m\u001b[0;34m\u001b[0m\u001b[0m\n\u001b[1;32m    249\u001b[0m             \u001b[0;32melse\u001b[0m\u001b[0;34m:\u001b[0m\u001b[0;34m\u001b[0m\u001b[0;34m\u001b[0m\u001b[0m\n\u001b[0;32m--> 250\u001b[0;31m                 \u001b[0;32mreturn\u001b[0m \u001b[0mmethod\u001b[0m\u001b[0;34m.\u001b[0m\u001b[0mexecute\u001b[0m\u001b[0;34m(\u001b[0m\u001b[0;34m)\u001b[0m\u001b[0;34m\u001b[0m\u001b[0;34m\u001b[0m\u001b[0m\n\u001b[0m\u001b[1;32m    251\u001b[0m         \u001b[0;32mfinally\u001b[0m\u001b[0;34m:\u001b[0m\u001b[0;34m\u001b[0m\u001b[0;34m\u001b[0m\u001b[0m\n\u001b[1;32m    252\u001b[0m             \u001b[0mmethod\u001b[0m\u001b[0;34m.\u001b[0m\u001b[0msession\u001b[0m\u001b[0;34m.\u001b[0m\u001b[0mclose\u001b[0m\u001b[0;34m(\u001b[0m\u001b[0;34m)\u001b[0m\u001b[0;34m\u001b[0m\u001b[0;34m\u001b[0m\u001b[0m\n",
      "\u001b[0;32m/usr/local/lib/python3.7/site-packages/tweepy/binder.py\u001b[0m in \u001b[0;36mexecute\u001b[0;34m(self)\u001b[0m\n\u001b[1;32m    229\u001b[0m \u001b[0;34m\u001b[0m\u001b[0m\n\u001b[1;32m    230\u001b[0m                 \u001b[0;32mif\u001b[0m \u001b[0mis_rate_limit_error_message\u001b[0m\u001b[0;34m(\u001b[0m\u001b[0merror_msg\u001b[0m\u001b[0;34m)\u001b[0m\u001b[0;34m:\u001b[0m\u001b[0;34m\u001b[0m\u001b[0;34m\u001b[0m\u001b[0m\n\u001b[0;32m--> 231\u001b[0;31m                     \u001b[0;32mraise\u001b[0m \u001b[0mRateLimitError\u001b[0m\u001b[0;34m(\u001b[0m\u001b[0merror_msg\u001b[0m\u001b[0;34m,\u001b[0m \u001b[0mresp\u001b[0m\u001b[0;34m)\u001b[0m\u001b[0;34m\u001b[0m\u001b[0;34m\u001b[0m\u001b[0m\n\u001b[0m\u001b[1;32m    232\u001b[0m                 \u001b[0;32melse\u001b[0m\u001b[0;34m:\u001b[0m\u001b[0;34m\u001b[0m\u001b[0;34m\u001b[0m\u001b[0m\n\u001b[1;32m    233\u001b[0m                     \u001b[0;32mraise\u001b[0m \u001b[0mTweepError\u001b[0m\u001b[0;34m(\u001b[0m\u001b[0merror_msg\u001b[0m\u001b[0;34m,\u001b[0m \u001b[0mresp\u001b[0m\u001b[0;34m,\u001b[0m \u001b[0mapi_code\u001b[0m\u001b[0;34m=\u001b[0m\u001b[0mapi_error_code\u001b[0m\u001b[0;34m)\u001b[0m\u001b[0;34m\u001b[0m\u001b[0;34m\u001b[0m\u001b[0m\n",
      "\u001b[0;31mRateLimitError\u001b[0m: [{'message': 'Rate limit exceeded', 'code': 88}]"
     ]
    }
   ],
   "source": [
    "followers = twit_conn.get_followers('@AOC')"
   ]
  },
  {
   "cell_type": "code",
   "execution_count": 53,
   "metadata": {},
   "outputs": [
    {
     "name": "stdout",
     "output_type": "stream",
     "text": [
      "/application/rate_limit_status 180 177 2019-09-03 12:10:54\n",
      "/friends/ids 15 13 2019-09-03 12:20:47\n"
     ]
    }
   ],
   "source": [
    "twit_conn.print_used_rate_limit_status()"
   ]
  },
  {
   "cell_type": "code",
   "execution_count": 18,
   "metadata": {},
   "outputs": [],
   "source": []
  },
  {
   "cell_type": "code",
   "execution_count": 77,
   "metadata": {},
   "outputs": [],
   "source": [
    "def getFollowerIds(username):\n",
    "    '''\n",
    "    Gets all the texts of a tweet:\n",
    "    - uses formatText\n",
    "    - does not include retweets\n",
    "    '''\n",
    "    follower_ids = []\n",
    "    count = 1\n",
    "    for page in Cursor(api.friends_ids, screen_name=username).pages():\n",
    "        follower_ids.extend(page)\n",
    "        print(count, print(len(page)))\n",
    "    return follower_ids\n",
    "    "
   ]
  },
  {
   "cell_type": "code",
   "execution_count": 79,
   "metadata": {},
   "outputs": [
    {
     "name": "stdout",
     "output_type": "stream",
     "text": [
      "1605\n",
      "1 None\n"
     ]
    }
   ],
   "source": [
    "ids = getFollowerIds('aoc')"
   ]
  },
  {
   "cell_type": "code",
   "execution_count": 80,
   "metadata": {},
   "outputs": [
    {
     "name": "stdout",
     "output_type": "stream",
     "text": [
      "1605\n"
     ]
    }
   ],
   "source": [
    "print(len(ids))"
   ]
  },
  {
   "cell_type": "code",
   "execution_count": 40,
   "metadata": {},
   "outputs": [
    {
     "name": "stdout",
     "output_type": "stream",
     "text": [
      "[906782533, 2560783731, 185408277, 17573212, 19619541, 114619998, 103436778, 1115376342, 1018294379138699265, 1634248890, 1042473921055019013, 767966134490505217, 62648354, 86870268, 43412697, 719555092911931392, 15204082, 32780218, 110396781, 811239440916054016, 40302336, 1068273911224094721, 1081222837459996672, 3060489838, 3044739166, 361321755, 15814350, 2300480005, 1434399565, 22974854, 235410459, 4047343409, 1135622396, 319769408, 7868832, 824013770976559104, 2383863246, 13657662, 16438248, 20457080, 14190948, 19166519, 762086073673494528, 14939981, 850432640129925120, 180535644, 15976705, 1075517806551154689, 38452560, 887704019296276482, 255036353, 965015705123930114, 250386727, 246939630, 1017637447, 1038907742, 139823781, 231510077, 28167597, 39253470, 831597303031091200, 421576230, 20772763, 115576195, 1129029661, 878339964408283136, 1025463656849526785, 1105155687754063873, 8198012, 39547629, 121172457, 132235973, 225265639, 549579841, 14529929, 604940737, 74508260, 307912317, 1069252827669831681, 50646511, 985749294, 199325935, 239949176, 16684243, 383647766, 119250381, 2533981820, 133448051, 50011708, 16369805, 25946632, 117111183, 221659600, 15939644, 1143659386147090434, 245577025, 1019974187975430144, 53076571, 167024520, 122130797, 1120102145393610752, 1143541888785571841, 1350549294, 511273965, 49633143, 33805522, 109387470, 435571397, 1045110018, 3291338583, 39155029, 14709326, 26273230, 2168821920, 24024778, 1123032754755637249, 1069060597, 188403766, 3369803770, 84614572, 253712142, 65045121, 516771605, 856708154603732992, 192036594, 1080539438508400642, 556656834, 19700387, 1055070224305807361, 233842454, 1081209533253537792, 201864200, 15030766, 1019322561824296960, 1087871641961537537, 1080584229510172678, 323417384, 1037321378, 16573941, 33530012, 932972223157231616, 953083640224894976, 82119937, 14811485, 238319766, 910973076640288769, 226222147, 912278708349698048, 5763262, 1077121945, 720663855039451136, 278175882, 162436508, 334894942, 761783018, 19409508, 909589900130910208, 3375809956, 617266600, 805154305, 16222904, 1377773816, 46530078, 564511791, 774407512598704128, 17275725, 1105238883606790144, 1025029183741861889, 1080695666760929280, 884921091273129985, 21733692, 17152685, 23944798, 792038436, 323599188, 37710752, 4726534534, 872156132688711681, 132009680, 1111940934, 18991439, 11744152, 17375057, 430995737, 262856460, 16388786, 993885029838319617, 61843868, 114870265, 22709207, 1080854064567668736, 806906355214852096, 1079802482640019456, 713217283246530560, 78706973, 2468096389, 3321135820, 28796289, 47646735, 516880804, 305307067, 24506246, 175183717, 240812994, 95270375, 5770442, 217708411, 829760984, 180681251, 103018203, 124628664, 953642468028841984, 140519774, 1079769536730140672, 120342217, 297067961, 27789237, 586291040, 7141302, 16341344, 19034656, 25694156, 80612021, 216921189, 453495356, 26668729, 1071545951414820865, 22799750, 787373558, 31122582, 771152516, 92116069, 1078692057940742144, 19638752, 821782476515409920, 192942213, 2431547652, 148002957, 817113, 2853910604, 853229442, 19086859, 70740986, 26642006, 15907183, 2461810448, 40557819, 839226269627621376, 15446551, 29201047, 377609596, 35761681, 76545283, 47767146, 749303, 1394944982, 6974622, 14984637, 2970279814, 109025212, 1067826316622405633, 2372139020, 35586563, 765735376912719876, 21786618, 193121884, 60919240, 948576145548693506, 1471542956, 314797639, 1079104563280527364, 165791468, 1360815800, 22012091, 22737278, 37055926, 806862084277407744, 297505251, 75094655, 258900199, 890675418780618753, 3793960033, 151617922, 231679323, 747856999, 2825591395, 15593976, 14377605, 14515799, 14561327, 402025521, 23593446, 462143773, 43464948, 15033845, 1006419421244678144, 15808765, 1491083406, 915975047545749504, 16563573, 2516200550, 2674458072, 23220889, 233979612, 234014087, 470707138, 16233071, 818282957618216960, 242426145, 92896595, 17011177, 47747074, 391445643, 34934634, 613712440, 15675138, 1413698888, 21406834, 14573926, 309070309, 605153786, 36972997, 885339854, 15607662, 17043428, 262959692, 84456909, 947956236804337664, 1918808311, 13493302, 634734888, 224494638, 15682352, 15764644, 36686040, 1055907624, 2293131060, 1542372750, 1880725393, 830908366377611266, 1081562149, 1010669219736948737, 22524908, 246088673, 193441812, 256210602, 932340216, 586, 73206956, 2274777314, 48081662, 17716024, 2939107414, 2792794113, 15264675, 170897911, 1665514478, 383566622, 223903173, 993876255530536960, 963764892342935552, 15224867, 99402071, 288363743, 67486822, 715522322510299136, 14982804, 76716415, 467823431, 794962652556443649, 829061809135030272, 1694040764, 1507338108, 24889586, 29501253, 17985093, 942156122, 311276757, 26044686, 489918504, 115823765, 14384907, 46220856, 65707359, 291859009, 574688373, 4786071561, 148524657, 3374048573, 3281920219, 2847603597, 1100877248, 130557513, 1028373351864123392, 80370806, 881998724720996353, 950952511556538368, 435331179, 18214546, 195631270, 942566438019231744, 1915033663, 1047642419011960833, 384734745, 30288532, 945051676481798144, 54218903, 17225211, 40687812, 827546290221367297, 17813980, 19730781, 116922325, 74186243, 248482567, 482708367, 154145174, 61802282, 2693837167, 135344405, 115424431, 802913449, 819636121206398982, 26248457, 4230896985, 57172253, 42724842, 226963044, 112528520, 68984590, 16316895, 1051127714, 571214272, 377778216, 321147772, 19170880, 68752979, 14155907, 36252186, 557379987, 449429374, 205302299, 38250495, 319785911, 239509917, 246108164, 378228848, 38421062, 4091551984, 10054122, 17149935, 543952883, 465046121, 133929829, 568712194, 485805200, 3751450582, 11388132, 21059255, 21113237, 838647265, 1339835893, 409486555, 2176138431, 930984916866625536, 29450962, 212657985, 116850607, 13850422, 2166949278, 962488074, 581212011, 466519303, 18686907, 1539713204, 4842843378, 135575282, 24223641, 815733290955112448, 342863309, 18678924, 174110843, 231108733, 47114494, 394060363, 871989314, 15447123, 2468762893, 16129920, 6655612, 4207961, 309937733, 248735463, 505801750, 254147536, 16103326, 743747108, 158426909, 1092979962, 237810343, 17171111, 38413836, 143104075, 12143522, 139847909, 110213431, 1187330941, 30364057, 603004342, 12, 309747601, 81480697, 198323758, 22959763, 92515912, 161044052, 826845991429165073, 774510134, 14246088, 57371662, 93719349, 38428725, 816298918468259841, 3796585516, 851211, 26657119, 3911391621, 46241448, 165678616, 17768320, 512225400, 351130417, 15864714, 42692687, 22662550, 21251668, 93069110, 2967231508, 21718571, 126511890, 885361, 79274582, 994727180168056832, 45943310, 35022547, 20707070, 57743032, 111299153, 831308549372260352, 18052661, 24742001, 32309662, 4099171, 845299319049781248, 362111287, 1270426374, 46213956, 783792992, 815995169015271424, 289342771, 3240396234, 79858169, 182273489, 30699754, 408887485, 51454505, 16733733, 1976125669, 394593711, 351782264, 23839835, 24165761, 16863340, 18446787, 14335586, 157217115, 997515465399382018, 55586635, 4816, 863320472641044481, 207223731, 2822012692, 115666612, 22261364, 917389190328877056, 574857684, 18320938, 19146492, 959842927261437952, 2353731420, 828639259724828672, 53542264, 30203220, 76837768, 19847765, 21814978, 44491388, 63796828, 20543416, 340613443, 54322823, 15051291, 20678309, 18142371, 17583309, 889505060295761922, 47855309, 1688875146, 353225544, 290180065, 371454404, 17982105, 2675004742, 701081673681637376, 41439294, 2773692164, 2624587553, 225963921, 23357070, 2954915265, 13804812, 18228898, 88471724, 953681936651714566, 122181815, 825127408890150912, 12011422, 981309087764934661, 15644999, 3195763956, 527914276, 19743953, 350661938, 182180556, 76202337, 955970813647314944, 240334048, 21891609, 953009349139554305, 20796969, 22429979, 755425, 15970820, 1120387332, 245481431, 1672053968, 144885148, 618300542, 790206692055195649, 293750918, 214748525, 16215201, 866953267, 337325417, 136983163, 17450599, 59010637, 598921658, 14183384, 443305251, 2159329092, 1048679066, 22453291, 19507867, 294246938, 425510058, 408036857, 45122898, 863792935, 2396681, 466790242, 137673734, 935604634625994755, 20650387, 583998380, 17333238, 16400248, 931901822599647232, 2916305152, 2201169726, 2490877145, 14849562, 14246109, 19750159, 112047591, 3681354315, 957024441338417154, 930482766332022784, 823410689817583616, 3169168219, 148466830, 2519405626, 1004922326, 10012122, 152142811, 35785401, 22952132, 40924038, 66768858, 1450298610, 121817564, 266333635, 1344951, 524595905, 20221325, 14327933, 576457087, 15049138, 427059715, 125190427, 40129986, 14098960, 942878337806032901, 857219719937613826, 859659438352982016, 1134531883, 24284521, 37060874, 327337127, 2030711, 128082323, 15731165, 91441711, 1332630685, 123422038, 17372204, 4220583346, 914823569418391553, 119478339, 252414292, 179810978, 2347049341, 2209742392, 88749392, 35415506, 14106829, 87849193, 845743333, 257824868, 18511844, 46418525, 23459911, 181271937, 199399909, 84245958, 386056280, 19682187, 936379026486243328, 156016878, 634729559, 1947301, 48099210, 873398461143687168, 761167885720956929, 2382588132, 267915933, 2436016446, 917771315960057858, 904349455796850689, 895232712772120577, 160138919, 192824559, 25904260, 15199907, 31013444, 16186313, 17849966, 14452301, 3160511, 135060958, 979100442, 90748205, 88215673, 17667706, 15049407, 139909832, 45486026, 14855994, 17022537, 20088745, 3129181760, 1604931252, 97327765, 965266179836252161, 23991863, 15276654, 114881944, 105998402, 61371461, 809987477691711488, 115670062, 124325793, 2256991388, 923543473554378752, 752550269582323712, 881560964063252481, 2816403979, 245490072, 91243832, 47147054, 2172596028, 782585413747798016, 1379528239, 31458109, 15868970, 14652182, 3098851091, 28631611, 734411522898812928, 723641112360062981, 3883482634, 35516339, 586749256, 254325141, 5520952, 499500898, 16170253, 2644697608, 827176952452759555, 78183820, 314563166, 26862045, 811350, 791077327, 1297729854, 136260002, 2289003747, 68473830, 154435010, 8011072, 24254084, 233364902, 36675761, 37721714, 164304654, 64789340, 14471411, 17158189, 717863163, 851207343303868416, 861717981096587265, 4245918425, 243260429, 252706713, 30284449, 2172163683, 2892971, 705706292, 76097317, 305318105, 701725963, 82455213, 15726324, 997684836, 840378550918176769, 19397785, 637196658, 472587261, 516769926, 2439005785, 547114168, 184422092, 186457433, 3403594131, 237637694, 14337312, 1543378346, 18129606, 159147860, 16310349, 2447662261, 189376144, 2254602494, 869668765339979777, 461233700, 14317810, 18148282, 19734832, 197099560, 78768913, 14220771, 104561629, 3337804853, 352093320, 29370120, 2910037419, 1850112632, 435943037, 64333410, 820827107769143300, 65122792, 189427514, 17050431, 16076032, 3052818747, 65698096, 164929952, 7433772, 41154223, 871537392506765313, 23833641, 495110495, 28345779, 20444181, 370982639, 9532402, 46417885, 2392793436, 325076723, 227032210, 61220477, 711421500, 15392959, 16462209, 829521053948981248, 342794853, 19333719, 855918131495219204, 863788052652621824, 3282033720, 306116656, 22656149, 16395525, 15891430, 98222741, 742453163098296320, 763099930487615488, 36649831, 74820061, 875460560015343616, 268950193, 433439383, 832455704, 49697450, 2535801727, 1963312058, 267856525, 28502793, 18699572, 44439772, 18872608, 39203045, 15195539, 3344055509, 22768264, 1885249040, 296431303, 17717430, 23009949, 901178990899191813, 894305143, 59960371, 128733097, 20097201, 248300454, 21782597, 89207192, 13524182, 26583978, 34781412, 817903729, 804942871, 900189590539177984, 16935292, 131497030, 43638469, 904880248658919424, 1964971663, 929434901660741632, 131935861, 57039392, 904785170456293376, 797569732861980673, 570085943, 286811443, 9228382, 329115426, 56737658, 846172838495244288, 22283200, 48059505, 249348169, 78514857, 338779219, 243263553, 433127361, 135623073, 346964561, 236617847, 14937298, 394724132, 38354090, 358244184, 120824926, 2334193741, 242058805, 118938550, 737621419731783680, 865408087271677952, 956955703, 177700392, 722127759699505153, 368448364, 25605494, 25006960, 2296617739, 216065430, 929748289959923713, 833499844517961728, 93665268, 134622111, 206269477, 829928345638891521, 23459631, 833378661071982597, 637321201, 498476752, 17759148, 518593549, 561516853, 898728088623886336, 894629257313304576, 884851844761169920, 832779631669366789, 3177176562, 835247866524270592, 21528430, 16319594, 115050842, 18906097, 325663495, 59159771, 27058347, 758881342310318080, 51228973, 54617733, 67415806, 74087670, 56539097, 25535595, 21688902, 377949581, 9589252, 57362673, 2729061, 50413725, 422104815, 1395871423, 111122177, 1879944877, 2735293897, 826981458946424833, 40788497, 3246501357, 18567903, 962585492, 61242633, 19374372, 307434638, 845303572388593664, 821940204814602240, 899739707843727360, 831972659609104384, 121787593, 741000470, 818040343, 892491627088011264, 24560143, 855556862, 45879022, 3598442532, 473619428, 22447078, 93907882, 1944680329, 852179048419794946, 809250675792244736, 64326023, 23232204, 27711685, 30488144, 335972576, 77347110, 254189414, 825717580337905665, 751902676011479040, 1040931031, 3141672447, 828041707128311815, 17929529, 4173811888, 355591226, 130496027, 949934436, 15283286, 22530626, 874113037892034561, 37074061, 59806641, 838239860263636992, 6576492, 76229389, 12133382, 3016964678, 488620840, 800707492346925056, 836449242604531712, 11757522, 15729844, 1247612029, 393588826, 102802196, 468752446, 10069612, 14695985, 948527498, 862430010, 29447358, 112471133, 148529707, 743155123258531840, 40364287, 18208354, 357606935, 21827037, 145348411, 136150088, 55338739, 72198806, 19834403, 747836013310021632, 137626624, 24130824, 148397910, 23708602, 1337524615, 2216041938, 111416652, 357092583, 471454646, 160720376, 18363255, 2504452635, 19259102, 727034425, 12388512, 42971403, 81168306, 29134273, 17266725, 376243560, 2750877815, 19119809, 17973162, 19404112, 811050248357511168, 31129627, 36510146, 17872898, 620096179, 3195871562, 3125720528, 34487135, 144533152, 26548315, 313644703, 919470745, 89887215, 15275864, 71411021, 16411233, 97732452, 519072324, 2983369510, 79923701, 36707799, 939091, 164007407, 33563161, 164369297, 1252002462, 249469549, 351065668, 26043268, 249217178, 1483355989, 4745447542, 15164565, 49698134, 5971922, 250908761, 29417304, 48770091, 767, 122168678, 3535218977, 334217161, 174836551, 201567844, 875013898109374464, 93330579, 1235496025, 78634272, 36823, 715903852973834240, 856160674686185472, 4320682041, 8565452, 827165816110080000, 50504547, 13296612, 510756601, 718663934, 1092281096, 253340075, 582054004, 2838463622, 63876208, 867808510133907456, 92854623, 79743108, 45055696, 14594844, 780454154959523840, 547815281, 39218953, 1262736474, 1145640625, 551520612, 827323819161423873, 4517565515, 2260972448, 318550411, 63363893, 1586892079, 20110424, 760534926147981312, 99572856, 142849883, 150135224, 108200472, 14606079, 17291452, 18510860, 875029068223315968, 460703819, 19605981, 15972756, 313315283, 713756015397892097, 15250836, 2434051392, 10117892, 318692762, 474464413, 20479813, 14266598, 170254080, 16376937, 71120500, 30256559, 11915822, 1259543929, 544871268, 3430882365, 755113, 20480549, 805491219132547072, 62090215, 1880038434, 2905143310, 887369929841811456, 835588020896161792, 49217025, 24352029, 285894793, 2302481323, 799976953759625216, 21636062, 1110810962, 821765478196674561, 39364684, 3321764962, 814917353515417601, 68481787, 757316918, 21146733, 26637348, 308779730, 35206133, 857401811799552005, 4895878430, 2977725884, 531613160, 117777690, 175595938, 70279712, 813140419055915009, 2400284491, 226320142, 4735385897, 4849537027, 57405911, 608312707, 531436010, 710682575870795776, 14226882, 263879706, 334385278, 830818073456308225, 1267982563, 2731608373, 136361303, 868875880059330562, 157306826, 787641231618797569, 115172311, 29041660, 1646506182, 878403801987727360, 70146366, 14135426, 817089118178054145, 4970411, 2374764228, 3235934273, 24190981, 789126584791867392, 16906137, 772941628134699008, 1265726480, 22642788, 742143, 2467791, 51241574, 1652541, 807095, 18949452, 3108351, 25598396, 1493607828, 809420163711909888, 823565852922576897, 800942537083068416, 27187343, 18880638, 17241895, 9300262, 3141702767, 14195941, 826472694426255361, 750161972, 193887510, 1585983950, 1924071992, 2724202896, 26590781, 2484040159, 891511949057458176, 805541802468114433, 15467700, 14426645, 17393196, 701971175946133504, 20811093, 116994659, 15859912, 1249982359, 2861151808, 1967462364, 111635980, 833866550906068992, 30354991, 82939583, 3344783050, 2810623552, 6577922, 44488446, 2396505878, 389309776, 2517021891, 573842268, 3193944696, 823997832034140161, 767502969633841153, 113364160, 3075856310, 26236022, 747248021889499141, 3063996411, 244655353, 21921531, 203133172, 97071323, 141286022, 292083207, 31483786, 342345319, 20437704, 22049097, 57491188, 811943150126297088, 17494010, 834081571493785600, 232268199, 132496568, 385151879, 454304784, 710899065907597312, 7900962, 813286, 864839694827143168, 17075878, 4696552878, 13393052, 38271276, 803694179079458816, 15446531, 183679946, 845873292103880704, 394046454, 820314398, 566806945, 863040334149898240, 47285504, 20064655, 18327000, 5768872, 30050899, 48454575, 14370819, 66029328, 3253125358, 5392522, 805425725683732480, 4176134758, 2169699951, 1075248840, 43963249, 15207668, 970207298, 16370091, 827234967512035330, 188793260, 22093595, 98181538, 490913837, 171575862, 1005143113, 403543450, 128358556, 1542228578, 122486754, 216776631, 810590628727914496, 29442313, 2329066872, 753623149929869312, 716435110845808641, 820705814906339328, 29096230, 14344048, 279863231, 50386972, 151444950, 224381577, 94013297, 268374771, 16879936, 348525629, 23865382, 43815485, 14272312, 429227921, 249458975, 496375356, 544060056, 44196397, 820585, 210684204, 28046633, 19306040, 571202103, 26317512, 16845324, 1908764006, 185306575, 1354260722, 59252043, 21940845, 700079090, 46476337, 80683134, 199884576, 874916178, 603986878, 20551303, 502188065, 5901702, 1232921958, 736506127, 538578604, 9207632, 500704345, 876260670, 37907055, 241263414, 497583699, 134460455, 278711467, 589567425, 16581604, 89465917, 365428558, 563438235, 246676861, 6480682, 20536103, 170393291, 23832022, 6753532, 18995454, 14313332, 581901516, 22214087, 113288047, 634819940, 20402544, 184579790, 257724892, 11740902, 217567235, 221649075, 153508318, 18253974, 134657244, 209231595, 15492359, 32650154, 322249716, 443275537, 423589538, 220531887, 115485051, 20609518, 244690296, 426768194, 16303106, 419819342, 368520256, 65114379, 15520744, 50864224, 63826562, 29960972, 30172459, 22767108, 161517503, 14258424, 210982031, 25511161, 111118479, 17904843, 243127269, 15020614, 182374755, 68286631, 197176970, 29129703, 76786558, 248995127, 233833064, 16206660, 177421666, 188804654, 197875927, 14255571, 64872831, 193883484, 143554341, 42508280, 71004595, 28934364, 26422753, 29068824, 5988062, 29102178, 41255237, 47627203, 17626040, 48168431, 48401818, 88524602, 4877531, 19299909, 98542569, 21016650, 19866832, 16371064, 17618786, 73465781, 15396962, 18858323, 17520319, 15352902]\n"
     ]
    }
   ],
   "source": [
    "print(ids)"
   ]
  },
  {
   "cell_type": "code",
   "execution_count": null,
   "metadata": {},
   "outputs": [],
   "source": []
  }
 ],
 "metadata": {
  "kernelspec": {
   "display_name": "Python 3",
   "language": "python",
   "name": "python3"
  },
  "language_info": {
   "codemirror_mode": {
    "name": "ipython",
    "version": 3
   },
   "file_extension": ".py",
   "mimetype": "text/x-python",
   "name": "python",
   "nbconvert_exporter": "python",
   "pygments_lexer": "ipython3",
   "version": "3.7.3"
  }
 },
 "nbformat": 4,
 "nbformat_minor": 2
}
