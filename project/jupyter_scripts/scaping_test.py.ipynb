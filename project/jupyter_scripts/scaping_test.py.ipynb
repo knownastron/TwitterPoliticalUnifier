{
 "cells": [
  {
   "cell_type": "code",
   "execution_count": 1,
   "metadata": {},
   "outputs": [],
   "source": [
    "import requests\n",
    "from bs4 import BeautifulSoup\n",
    "from lxml import html\n",
    "import json\n",
    "import re"
   ]
  },
  {
   "cell_type": "code",
   "execution_count": 15,
   "metadata": {},
   "outputs": [],
   "source": []
  },
  {
   "cell_type": "code",
   "execution_count": 1,
   "metadata": {},
   "outputs": [],
   "source": [
    "payload = {\n",
    "    'username': 'knownastron',\n",
    "    'password': '',\n",
    "    'authenticity_token': 'ab1bb447b2615057a495a66356f2d46975077281'\n",
    "}"
   ]
  },
  {
   "cell_type": "code",
   "execution_count": 30,
   "metadata": {},
   "outputs": [
    {
     "name": "stdout",
     "output_type": "stream",
     "text": [
      "513085835ad48dcb5c9d98e5f45dd0355724466c\n",
      "<Response [405]>\n"
     ]
    }
   ],
   "source": [
    "session_requests = requests.session()\n",
    "login_url = 'https://twitter.com'\n",
    "result = session_requests.get(login_url)\n",
    "\n",
    "tree = html.fromstring(result.text)\n",
    "authenticity_token = list(set(tree.xpath(\"//input[@name='authenticity_token']/@value\")))[0]\n",
    "print(authenticity_token)\n",
    "result = session_requests.post(\n",
    "    login_url,\n",
    "    data = payload,\n",
    "    headers = dict(referer=login_url)\n",
    ")\n",
    "print(result)"
   ]
  },
  {
   "cell_type": "code",
   "execution_count": 27,
   "metadata": {},
   "outputs": [],
   "source": [
    "url = 'https://twitter.com/realDonaldTrump/status/1162562469283471360/likes'\n",
    "result = session_requests.get(url, headers = dict(referer = url))"
   ]
  },
  {
   "cell_type": "code",
   "execution_count": 28,
   "metadata": {},
   "outputs": [
    {
     "name": "stdout",
     "output_type": "stream",
     "text": [
      "<Response [404]>\n"
     ]
    }
   ],
   "source": [
    "print(result)"
   ]
  },
  {
   "cell_type": "code",
   "execution_count": 18,
   "metadata": {},
   "outputs": [],
   "source": [
    "def get_liked_list(tweet_id):\n",
    "    # get the data of likers\n",
    "    r = requests.get('https://twitter.com/i/activity/favorited_popup?id='+tweet_id)\n",
    "    # use the grep in order to get the retweeters\n",
    "    text = r.text\n",
    "    x = re.findall('div class=\\\\\\\\\"account  js-actionable-user js-profile-popup-actionable \\\\\\\\\" data-screen-name=\\\\\\\\\"(.+?)\\\\\\\\\" data-user-id=\\\\\\\\\"', text)\n",
    "    return x"
   ]
  },
  {
   "cell_type": "code",
   "execution_count": 48,
   "metadata": {},
   "outputs": [
    {
     "data": {
      "text/plain": [
       "['rarebreed_ca',\n",
       " 'HeatherRussell_',\n",
       " 'GarethKyle',\n",
       " 'DrewBMcIntyre',\n",
       " 'VEDDERMAN86',\n",
       " 'hermescorpus',\n",
       " 'halfasiansavage',\n",
       " 'TimBruce',\n",
       " 'smoked__ham',\n",
       " 'samistheman',\n",
       " 'AdamHughson',\n",
       " 'Autoheartrecord',\n",
       " 'mprosbjj',\n",
       " 'RichyMMA',\n",
       " 'loverwrestles',\n",
       " 'otrantok',\n",
       " 'AL_Capone_MMA',\n",
       " 'BrittanySonnen',\n",
       " 'brandonbrunner',\n",
       " 'thadokta',\n",
       " 'david_j5000',\n",
       " 'UncleConor',\n",
       " 'Dalez82',\n",
       " 'kenanlawford99',\n",
       " 'antosin2012']"
      ]
     },
     "execution_count": 48,
     "metadata": {},
     "output_type": "execute_result"
    }
   ],
   "source": [
    "get_liked_list('721162194855927808')"
   ]
  },
  {
   "cell_type": "code",
   "execution_count": 30,
   "metadata": {},
   "outputs": [
    {
     "ename": "ModuleNotFoundError",
     "evalue": "No module named 'simplejson'",
     "output_type": "error",
     "traceback": [
      "\u001b[0;31m---------------------------------------------------------------------------\u001b[0m",
      "\u001b[0;31mModuleNotFoundError\u001b[0m                       Traceback (most recent call last)",
      "\u001b[0;32m<ipython-input-30-2ffc44b29c05>\u001b[0m in \u001b[0;36m<module>\u001b[0;34m\u001b[0m\n\u001b[1;32m      1\u001b[0m \u001b[0;32mimport\u001b[0m \u001b[0mrequests\u001b[0m\u001b[0;34m\u001b[0m\u001b[0;34m\u001b[0m\u001b[0m\n\u001b[1;32m      2\u001b[0m \u001b[0;32mimport\u001b[0m \u001b[0msmtplib\u001b[0m\u001b[0;34m\u001b[0m\u001b[0;34m\u001b[0m\u001b[0m\n\u001b[0;32m----> 3\u001b[0;31m \u001b[0;32mimport\u001b[0m \u001b[0msimplejson\u001b[0m\u001b[0;34m\u001b[0m\u001b[0;34m\u001b[0m\u001b[0m\n\u001b[0m\u001b[1;32m      4\u001b[0m \u001b[0;32mimport\u001b[0m \u001b[0mtime\u001b[0m\u001b[0;34m\u001b[0m\u001b[0;34m\u001b[0m\u001b[0m\n\u001b[1;32m      5\u001b[0m \u001b[0;32mfrom\u001b[0m \u001b[0mtime\u001b[0m \u001b[0;32mimport\u001b[0m \u001b[0msleep\u001b[0m\u001b[0;34m\u001b[0m\u001b[0;34m\u001b[0m\u001b[0m\n",
      "\u001b[0;31mModuleNotFoundError\u001b[0m: No module named 'simplejson'"
     ]
    }
   ],
   "source": [
    "import requests\n",
    "import smtplib\n",
    "import simplejson\n",
    "import time\n",
    "from time import sleep\n",
    "import sys\n",
    "import os\n",
    "import random\n",
    "import anyjson\n",
    "import pprint\n",
    "import codecs\n",
    "import re\n",
    "from bs4 import BeautifulSoup\n",
    "import urllib"
   ]
  },
  {
   "cell_type": "code",
   "execution_count": 39,
   "metadata": {},
   "outputs": [],
   "source": [
    "from time import sleep\n",
    "def get_favorite_data(tweet_id):\n",
    "    val = 'https://twitter.com/i/activity/favorited_popup?id=%s' % (tweet_id)\n",
    "    r = requests.get(val, stream=False, headers={'User-Agent':'facebookexternalhit/1.1 (+http://www.facebook.com/externalhit_uatext.php)'}, timeout=10, verify=False)\n",
    "    sleep(.25)\n",
    "    data = r.text\n",
    "    x = re.findall('div class=\\\\\\\\\"account  js-actionable-user js-profile-popup-actionable \\\\\\\\\" data-screen-name=\\\\\\\\\"(.+?)\\\\\\\\\" data-user-id=\\\\\\\\\"', data)\n",
    "    return x"
   ]
  },
  {
   "cell_type": "code",
   "execution_count": 45,
   "metadata": {},
   "outputs": [
    {
     "name": "stderr",
     "output_type": "stream",
     "text": [
      "/usr/local/lib/python3.7/site-packages/urllib3/connectionpool.py:851: InsecureRequestWarning: Unverified HTTPS request is being made. Adding certificate verification is strongly advised. See: https://urllib3.readthedocs.io/en/latest/advanced-usage.html#ssl-warnings\n",
      "  InsecureRequestWarning)\n"
     ]
    },
    {
     "data": {
      "text/plain": [
       "['rarebreed_ca',\n",
       " 'HeatherRussell_',\n",
       " 'GarethKyle',\n",
       " 'DrewBMcIntyre',\n",
       " 'VEDDERMAN86',\n",
       " 'hermescorpus',\n",
       " 'halfasiansavage',\n",
       " 'TimBruce',\n",
       " 'smoked__ham',\n",
       " 'samistheman',\n",
       " 'AdamHughson',\n",
       " 'Autoheartrecord',\n",
       " 'mprosbjj',\n",
       " 'RichyMMA',\n",
       " 'loverwrestles',\n",
       " 'otrantok',\n",
       " 'AL_Capone_MMA',\n",
       " 'BrittanySonnen',\n",
       " 'brandonbrunner',\n",
       " 'thadokta',\n",
       " 'david_j5000',\n",
       " 'UncleConor',\n",
       " 'Dalez82',\n",
       " 'kenanlawford99',\n",
       " 'antosin2012']"
      ]
     },
     "execution_count": 45,
     "metadata": {},
     "output_type": "execute_result"
    }
   ],
   "source": [
    "get_favorite_data('721162194855927808')"
   ]
  },
  {
   "cell_type": "code",
   "execution_count": 46,
   "metadata": {},
   "outputs": [
    {
     "name": "stderr",
     "output_type": "stream",
     "text": [
      "/usr/local/lib/python3.7/site-packages/urllib3/connectionpool.py:851: InsecureRequestWarning: Unverified HTTPS request is being made. Adding certificate verification is strongly advised. See: https://urllib3.readthedocs.io/en/latest/advanced-usage.html#ssl-warnings\n",
      "  InsecureRequestWarning)\n"
     ]
    },
    {
     "data": {
      "text/plain": [
       "['rarebreed_ca',\n",
       " 'HeatherRussell_',\n",
       " 'GarethKyle',\n",
       " 'DrewBMcIntyre',\n",
       " 'VEDDERMAN86',\n",
       " 'hermescorpus',\n",
       " 'halfasiansavage',\n",
       " 'TimBruce',\n",
       " 'smoked__ham',\n",
       " 'samistheman',\n",
       " 'AdamHughson',\n",
       " 'Autoheartrecord',\n",
       " 'mprosbjj',\n",
       " 'RichyMMA',\n",
       " 'loverwrestles',\n",
       " 'otrantok',\n",
       " 'AL_Capone_MMA',\n",
       " 'BrittanySonnen',\n",
       " 'brandonbrunner',\n",
       " 'thadokta',\n",
       " 'david_j5000',\n",
       " 'UncleConor',\n",
       " 'Dalez82',\n",
       " 'kenanlawford99',\n",
       " 'antosin2012']"
      ]
     },
     "execution_count": 46,
     "metadata": {},
     "output_type": "execute_result"
    }
   ],
   "source": [
    "get_favorite_data('721162194855927808')"
   ]
  },
  {
   "cell_type": "code",
   "execution_count": null,
   "metadata": {},
   "outputs": [],
   "source": []
  }
 ],
 "metadata": {
  "kernelspec": {
   "display_name": "Python 3",
   "language": "python",
   "name": "python3"
  },
  "language_info": {
   "codemirror_mode": {
    "name": "ipython",
    "version": 3
   },
   "file_extension": ".py",
   "mimetype": "text/x-python",
   "name": "python",
   "nbconvert_exporter": "python",
   "pygments_lexer": "ipython3",
   "version": "3.7.3"
  }
 },
 "nbformat": 4,
 "nbformat_minor": 2
}
