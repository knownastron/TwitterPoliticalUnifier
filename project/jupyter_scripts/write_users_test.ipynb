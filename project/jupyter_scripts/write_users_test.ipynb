{
 "cells": [
  {
   "cell_type": "code",
   "execution_count": 36,
   "metadata": {},
   "outputs": [],
   "source": [
    "import sqlite3\n",
    "from tweepy import API\n",
    "from tweepy import OAuthHandler\n",
    "from tweepy import Cursor\n",
    "from tweepy import RateLimitError\n",
    "\n",
    "import time\n",
    "import twitter_credentials\n",
    "import datetime"
   ]
  },
  {
   "cell_type": "code",
   "execution_count": 6,
   "metadata": {},
   "outputs": [],
   "source": [
    "auth = OAuthHandler(twitter_credentials.CONSUMER_KEY, twitter_credentials.CONSUMER_SECRET)\n",
    "auth.set_access_token(twitter_credentials.ACCESS_TOKEN, twitter_credentials.ACCESS_TOKEN_SECRET)                          \n",
    "api = API(auth)"
   ]
  },
  {
   "cell_type": "code",
   "execution_count": 63,
   "metadata": {},
   "outputs": [],
   "source": [
    "class DatabaseConnection():\n",
    "    def __init__(self, database_name):\n",
    "        self.conn = sqlite3.connect(database_name)\n",
    "        \n",
    "    def write_conservative(self, info):\n",
    "        \"\"\"\n",
    "        info: \n",
    "        \"\"\"\n",
    "        sql = ''' INSERT INTO Users(ScreenName, UserId, PolLabel)\n",
    "              VALUES(?,?,?) '''\n",
    "        cur = self.conn.cursor()\n",
    "        cur.execute(sql, info)\n",
    "        self.conn.commit()\n",
    "        \n",
    "    def close(self):\n",
    "        self.conn.close()\n",
    "        "
   ]
  },
  {
   "cell_type": "code",
   "execution_count": 64,
   "metadata": {},
   "outputs": [],
   "source": [
    "conservative_db = 'conservatives.db'\n",
    "db_connect = DatabaseConnection(conservative_db)\n"
   ]
  },
  {
   "cell_type": "code",
   "execution_count": 65,
   "metadata": {},
   "outputs": [],
   "source": [
    "def limit_handled(cursor):\n",
    "    \"\"\"                                                                                             \n",
    "    Handles Twitter API's RateLimitError and StopIteration for Cursor                               \n",
    "    :param cursor: Tweepy Cursor object                                                             \n",
    "    :return: None                                                                                   \n",
    "    \"\"\"\n",
    "    while True:\n",
    "        try:\n",
    "             yield cursor.next()\n",
    "        except RateLimitError:\n",
    "            d1 = datetime.datetime.now() + datetime.timedelta(minutes=15)\n",
    "            print(d1)\n",
    "            time.sleep(15 * 60)\n",
    "        except StopIteration:\n",
    "            break"
   ]
  },
  {
   "cell_type": "code",
   "execution_count": 68,
   "metadata": {},
   "outputs": [],
   "source": [
    "def write_followers(username):\n",
    "    count = 0\n",
    "    for follower in limit_handled(Cursor(api.followers, screen_name=username).items(6)):\n",
    "        if follower.protected == False:\n",
    "            info = (follower.screen_name.lower(), follower.id_str, 'conservative')\n",
    "            db_connect.write_conservative(info)\n",
    "            print(count, info[0:2])\n",
    "            count += 1\n",
    "            \n",
    "        \n"
   ]
  },
  {
   "cell_type": "code",
   "execution_count": 69,
   "metadata": {},
   "outputs": [
    {
     "name": "stdout",
     "output_type": "stream",
     "text": [
      "2019-09-02 15:00:59.065698\n",
      "0 ('kenreed50609142', '1130822957000003584')\n",
      "1 ('johnnyr57223086', '947908081538797568')\n",
      "2 ('ryan_racic', '1168651257986408448')\n",
      "3 ('jay_daugherty1', '1163610471410405376')\n",
      "4 ('a_d_i_t_h_y_a', '914834067031441408')\n"
     ]
    }
   ],
   "source": [
    "write_followers('GOP')\n",
    "db_connect.close()"
   ]
  },
  {
   "cell_type": "code",
   "execution_count": 62,
   "metadata": {},
   "outputs": [],
   "source": [
    "db_connect.close()"
   ]
  },
  {
   "cell_type": "code",
   "execution_count": 1,
   "metadata": {},
   "outputs": [],
   "source": [
    "import DatabaseConnection"
   ]
  },
  {
   "cell_type": "code",
   "execution_count": 2,
   "metadata": {},
   "outputs": [],
   "source": [
    "db = DatabaseConnection.DatabaseConnection('main.db')"
   ]
  },
  {
   "cell_type": "code",
   "execution_count": 3,
   "metadata": {},
   "outputs": [],
   "source": [
    "db.write_new_user(('knownastron', '82277769', None, None))"
   ]
  },
  {
   "cell_type": "code",
   "execution_count": 4,
   "metadata": {},
   "outputs": [],
   "source": [
    "db.write_tweet(('6969696', 'yuh', 'this is a tweet #awesome', '2010-05-01 10:28:13'))"
   ]
  },
  {
   "cell_type": "code",
   "execution_count": null,
   "metadata": {},
   "outputs": [],
   "source": []
  }
 ],
 "metadata": {
  "kernelspec": {
   "display_name": "Python 3",
   "language": "python",
   "name": "python3"
  },
  "language_info": {
   "codemirror_mode": {
    "name": "ipython",
    "version": 3
   },
   "file_extension": ".py",
   "mimetype": "text/x-python",
   "name": "python",
   "nbconvert_exporter": "python",
   "pygments_lexer": "ipython3",
   "version": "3.7.3"
  }
 },
 "nbformat": 4,
 "nbformat_minor": 2
}
