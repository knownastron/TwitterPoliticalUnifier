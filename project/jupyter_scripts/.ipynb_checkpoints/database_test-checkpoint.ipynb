{
 "cells": [
  {
   "cell_type": "code",
   "execution_count": 1,
   "metadata": {},
   "outputs": [],
   "source": [
    "import sys\n",
    "sys.path.append('../')\n",
    "import TwitterScraper as ts\n",
    "from DatabaseConnection import LocalConnection\n",
    "import TwitterConnection as tc\n",
    "import format as f"
   ]
  },
  {
   "cell_type": "code",
   "execution_count": 2,
   "metadata": {},
   "outputs": [],
   "source": [
    "db_conn = LocalConnection('../databases/main.db')"
   ]
  },
  {
   "cell_type": "code",
   "execution_count": 3,
   "metadata": {},
   "outputs": [],
   "source": [
    "tweets = db_conn.query_all_tweets_limit('realdonaldtrump', 10)"
   ]
  },
  {
   "cell_type": "code",
   "execution_count": 4,
   "metadata": {},
   "outputs": [
    {
     "name": "stdout",
     "output_type": "stream",
     "text": [
      "('1169455923712221185', 'Thank you Terrence. Best Employment Numbers In History for African Americans!\\xa0…', 'realdonaldtrump', '2019-09-04 21:43:14')\n",
      "('1169415182029901824', 'pic.twitter.com/bxSiT2zQDj', 'realdonaldtrump', '2019-09-04 19:01:20')\n",
      "('1169412199611326464', '....information does come out.” Charlie Hurt, Washington Times  @LouDobbs', 'realdonaldtrump', '2019-09-04 18:49:29')\n",
      "('1169412198692732928', '....facts, and that should terrify every American regardless of their political stripe. The idea that all of that information hasn’t already been revealed shows how dastardly these people are, and how terrified they are about what’s going to happen when that....', 'realdonaldtrump', '2019-09-04 18:49:29')\n",
      "('1169412197841350657', '“Absolutely nothing is more important than going back & getting to the bottom of the origins of the investigation. We had an administration using America’s Spying Apparatus to spy on a political opponent at the height of a presidential election. Those are all known, undisputed...', 'realdonaldtrump', '2019-09-04 18:49:29')\n",
      "('1169375550806351872', 'This was the originally projected path of the Hurricane in its early stages. As you can see, almost all models predicted it to go through Florida also hitting Georgia and Alabama. I accept the Fake News apologies!pic.twitter.com/0uCT0Qvyo6', 'realdonaldtrump', '2019-09-04 16:23:51')\n",
      "('1169366511439552512', 'State Rep Greg Murphy is running for Congress in North Carolina, District 3. We really need Greg in Washington. He is great w/ the Military, our Vets, & your 2A. Strong on Crime and the Border, has had my Total Endorsement for a long time. Please vote for Greg on September 10th!', 'realdonaldtrump', '2019-09-04 15:47:56')\n",
      "('1169356705857187840', '7. The badly flawed Paris Climate Agreement protects the polluters, hurts Americans, and cost a fortune. NOT ON MY WATCH!\\n\\n8. I want crystal clean water and the cleanest and the purest air on the planet – we’ve now got that!', 'realdonaldtrump', '2019-09-04 15:08:58')\n",
      "('1169356704926109696', \"6. The Democrats’ destructive “environmental” proposals will raise your energy bill and prices at the pump. \\n\\nDon't the Democrats care about fighting American poverty?\", 'realdonaldtrump', '2019-09-04 15:08:58')\n",
      "('1169356704028516353', \"4. The U.S. now leads the world in energy production...\\n\\nBUT...\\n \\n5. Who's got the world's cleanest and safest air and water? \\n\\nAMERICA!\", 'realdonaldtrump', '2019-09-04 15:08:58')\n"
     ]
    }
   ],
   "source": []
  },
  {
   "cell_type": "code",
   "execution_count": 4,
   "metadata": {},
   "outputs": [],
   "source": [
    "import sys\n",
    "import pymysql\n",
    "sys.path.append('../databases')\n",
    "import mysql_aws_credentials as c"
   ]
  },
  {
   "cell_type": "code",
   "execution_count": 6,
   "metadata": {},
   "outputs": [],
   "source": [
    "host= c.HOST\n",
    "port= c.PORT\n",
    "dbname= c.DATABASE_NAME\n",
    "user= c.USER\n",
    "password= c.PASSWORD"
   ]
  },
  {
   "cell_type": "code",
   "execution_count": 9,
   "metadata": {},
   "outputs": [],
   "source": [
    "conn = pymysql.connect(host, user=user, port=port, passwd=password, db=dbname)"
   ]
  },
  {
   "cell_type": "code",
   "execution_count": 13,
   "metadata": {},
   "outputs": [],
   "source": [
    "cur = conn.cursor()"
   ]
  },
  {
   "cell_type": "code",
   "execution_count": 19,
   "metadata": {},
   "outputs": [],
   "source": [
    "sql = 'CREATE TABLE Users (ScreenName varchar(16) Primary Key, UserId integer Unique, UserIdStr varchar(255) unique, PolLabel varchar(20), PolLabelPredict varchar(20));'"
   ]
  },
  {
   "cell_type": "code",
   "execution_count": 20,
   "metadata": {},
   "outputs": [
    {
     "data": {
      "text/plain": [
       "0"
      ]
     },
     "execution_count": 20,
     "metadata": {},
     "output_type": "execute_result"
    }
   ],
   "source": [
    "cur.execute(sql)"
   ]
  },
  {
   "cell_type": "code",
   "execution_count": null,
   "metadata": {},
   "outputs": [],
   "source": []
  }
 ],
 "metadata": {
  "kernelspec": {
   "display_name": "Python 3",
   "language": "python",
   "name": "python3"
  },
  "language_info": {
   "codemirror_mode": {
    "name": "ipython",
    "version": 3
   },
   "file_extension": ".py",
   "mimetype": "text/x-python",
   "name": "python",
   "nbconvert_exporter": "python",
   "pygments_lexer": "ipython3",
   "version": "3.7.3"
  }
 },
 "nbformat": 4,
 "nbformat_minor": 2
}
