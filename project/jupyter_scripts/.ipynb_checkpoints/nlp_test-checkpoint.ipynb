{
 "cells": [
  {
   "cell_type": "code",
   "execution_count": null,
   "metadata": {},
   "outputs": [],
   "source": [
    "import sys\n",
    "sys.path.append('../')\n",
    "from SQLConnection import LocalConnection\n",
    "from SQLConnection import AWSConnection\n",
    "sys.path.append('../databases')\n",
    "import mysql_aws_credentials as aws\n",
    "from Format import Format\n",
    "import re"
   ]
  },
  {
   "cell_type": "code",
   "execution_count": null,
   "metadata": {},
   "outputs": [],
   "source": [
    "cons_test_users = aws_conn.get_users_by_pol_label('conservative')\n",
    "libs_test_users = aws_conn.get_users_by_pol_label('liberal')\n",
    "cons_train_users = local_conn.get_users_by_pol_label('conservative')\n",
    "libs_train_users = local_conn.get_users_by_pol_label('liberal')"
   ]
  },
  {
   "cell_type": "code",
   "execution_count": null,
   "metadata": {},
   "outputs": [],
   "source": [
    "print(cons_train_users.__len__())\n",
    "print(libs_train_users.__len__())\n",
    "cons_train_users[12]"
   ]
  },
  {
   "cell_type": "code",
   "execution_count": null,
   "metadata": {},
   "outputs": [],
   "source": [
    "test_tweets = local_conn.get_all_tweets_by('sentedcruz')\n",
    "test_tweets1 = local_conn.get_all_tweets_by('aoc')"
   ]
  },
  {
   "cell_type": "code",
   "execution_count": null,
   "metadata": {},
   "outputs": [],
   "source": [
    "test_tweet = test_tweets[0][1]"
   ]
  },
  {
   "cell_type": "code",
   "execution_count": null,
   "metadata": {},
   "outputs": [],
   "source": [
    "import nltk\n",
    "nltk.download('stopwords')\n",
    "import string"
   ]
  },
  {
   "cell_type": "code",
   "execution_count": null,
   "metadata": {
    "scrolled": false
   },
   "outputs": [],
   "source": [
    "denoised = []\n",
    "denoised1 = []\n",
    "for tweet in test_tweets:\n",
    "    denoised.append(Format.denoise_tweet(tweet[1]))\n",
    "    \n",
    "for tweet in test_tweets1:\n",
    "    denoised1.append(Format.denoise_tweet(tweet[1]))"
   ]
  },
  {
   "cell_type": "code",
   "execution_count": null,
   "metadata": {},
   "outputs": [],
   "source": [
    "tokens = []\n",
    "for i,d in enumerate(denoised):\n",
    "    tokens.extend(d.split())\n",
    "    \n",
    "tokens1 = []\n",
    "for i,d in enumerate(denoised1):\n",
    "    print(i, test_tweets1[i][1])\n",
    "    print('////')\n",
    "    print(d,'\\n')\n",
    "    tokens1.extend(d.split())"
   ]
  },
  {
   "cell_type": "code",
   "execution_count": null,
   "metadata": {},
   "outputs": [],
   "source": [
    "import collections\n",
    "count = collections.Counter(tokens)\n",
    "# count.most_common(50)"
   ]
  },
  {
   "cell_type": "code",
   "execution_count": null,
   "metadata": {},
   "outputs": [],
   "source": [
    "import collections\n",
    "count1 = collections.Counter(tokens1)\n",
    "# count1.most_common(50)"
   ]
  },
  {
   "cell_type": "code",
   "execution_count": null,
   "metadata": {},
   "outputs": [],
   "source": [
    "print(t, '\\n')\n",
    "t = Format.remove_hashtags(t)\n",
    "print(t, '\\n')\n",
    "t = Format.remove_mentions(t)\n",
    "print(t, '\\n')\n",
    "t = remove_stopwords(t)\n",
    "print(t, '\\n')\n",
    "t = Format.remove_picture_links(t)\n",
    "print(t, '\\n')\n",
    "t = t.translate(str.maketrans('','',string.punctuation + '—' + '“' + '…'))\n",
    "print(t, '\\n')\n",
    "t.split()"
   ]
  },
  {
   "cell_type": "code",
   "execution_count": null,
   "metadata": {},
   "outputs": [],
   "source": [
    "tweet_text = test_tweets[73][1]\n",
    "tweet_text"
   ]
  },
  {
   "cell_type": "code",
   "execution_count": null,
   "metadata": {},
   "outputs": [],
   "source": [
    "tweet_text = Format.remove_picture_links(tweet_text)\n",
    "print(tweet_text, '\\n')\n",
    "tweet_text = tweet_text.lower()\n",
    "print(tweet_text, '\\n')\n",
    "tweet_text = Format.remove_hashtags(tweet_text)\n",
    "print(tweet_text, '\\n')\n",
    "tweet_text = Format.remove_mentions(tweet_text)\n",
    "print(tweet_text, '\\n')\n"
   ]
  },
  {
   "cell_type": "code",
   "execution_count": null,
   "metadata": {},
   "outputs": [],
   "source": [
    "from sklearn.feature_extraction.text import TfidfVectorizer \n",
    "from sklearn.metrics import classification_report\n",
    "from sklearn import svm \n",
    "from sklearn.model_selection import train_test_split"
   ]
  },
  {
   "cell_type": "code",
   "execution_count": null,
   "metadata": {},
   "outputs": [],
   "source": [
    "cons_test_users = aws_conn.get_users_by_pol_label('conservative')\n",
    "libs_test_users = aws_conn.get_users_by_pol_label('liberal')\n",
    "cons_train_users = local_conn.get_users_by_pol_label('conservative')\n",
    "libs_train_users = local_conn.get_users_by_pol_label('liberal')"
   ]
  },
  {
   "cell_type": "code",
   "execution_count": null,
   "metadata": {},
   "outputs": [],
   "source": [
    "print(len(cons_test_users))\n",
    "print(len(libs_test_users))\n",
    "print(len(cons_train_users))\n",
    "print(len(libs_train_users))"
   ]
  },
  {
   "cell_type": "code",
   "execution_count": null,
   "metadata": {},
   "outputs": [],
   "source": [
    "# ('sentedcruz', 1074480192, '1074480192', 'conservative', None)\n",
    "corpus = []\n",
    "for i, user in enumerate(cons_train_users):\n",
    "    tweets = local_conn.get_all_tweets_by(user[0])\n",
    "    tweets = [x[1] for x in tweets]\n",
    "    tweets = \" \".join(tweets)\n",
    "    tweets = denoise_tweet(tweets)\n",
    "    corpus.append((user[0],tweets, user[3]))\n",
    "    \n",
    "for user in libs_train_users:\n",
    "    tweets = local_conn.get_all_tweets_by(user[0])\n",
    "    tweets = [x[1] for x in tweets]\n",
    "    tweets = \" \".join(tweets)\n",
    "    tweets = denoise_tweet(tweets)\n",
    "    corpus.append((user[0], tweets, user[3]))"
   ]
  },
  {
   "cell_type": "code",
   "execution_count": null,
   "metadata": {},
   "outputs": [],
   "source": [
    "for i, user in enumerate(cons_test_users):\n",
    "    tweets = aws_conn.get_all_tweets_by(user[0])\n",
    "    tweets = [x[1] for x in tweets]\n",
    "    tweets = \" \".join(tweets)\n",
    "    tweets = denoise_tweet(tweets)\n",
    "    corpus.append((user[0], tweets, user[3]))\n",
    "    \n",
    "for i, user in enumerate(libs_test_users):\n",
    "    tweets = aws_conn.get_all_tweets_by(user[0])\n",
    "    tweets = [x[1] for x in tweets]\n",
    "    tweets = \" \".join(tweets)\n",
    "    tweets = denoise_tweet(tweets)\n",
    "    corpus.append((user[0], tweets, user[3]))"
   ]
  },
  {
   "cell_type": "code",
   "execution_count": null,
   "metadata": {},
   "outputs": [],
   "source": [
    "len(corpus)\n"
   ]
  },
  {
   "cell_type": "code",
   "execution_count": null,
   "metadata": {},
   "outputs": [],
   "source": [
    "data = []\n",
    "labels = []\n",
    "for row in corpus:\n",
    "    data.append(row[1])\n",
    "    labels.append((row[0], row[2]))"
   ]
  },
  {
   "cell_type": "code",
   "execution_count": null,
   "metadata": {},
   "outputs": [],
   "source": [
    "x_train, x_test, y_train, y_test = train_test_split(data, labels, test_size = 0.1, random_state=6)"
   ]
  },
  {
   "cell_type": "code",
   "execution_count": null,
   "metadata": {},
   "outputs": [],
   "source": [
    "y_train_username = []\n",
    "y_train_label = []\n",
    "\n",
    "for y in y_train:\n",
    "    y_train_username.append(y[0])\n",
    "    y_train_label.append(y[1])"
   ]
  },
  {
   "cell_type": "code",
   "execution_count": null,
   "metadata": {},
   "outputs": [],
   "source": [
    "print(len(y_train_username))\n",
    "print(len(y_train_label))"
   ]
  },
  {
   "cell_type": "code",
   "execution_count": null,
   "metadata": {},
   "outputs": [],
   "source": []
  },
  {
   "cell_type": "code",
   "execution_count": null,
   "metadata": {},
   "outputs": [],
   "source": [
    "print(len(y_test_username))\n",
    "print(len(y_test_label))"
   ]
  },
  {
   "cell_type": "code",
   "execution_count": null,
   "metadata": {},
   "outputs": [],
   "source": [
    "# data = test_data + train_data\n",
    "# labels = test_labels + train_labels\n",
    "# x_train, x_test, y_train, y_test = train_test_split(data, labels, test_size = 0.33, random_state=42)"
   ]
  },
  {
   "cell_type": "code",
   "execution_count": null,
   "metadata": {},
   "outputs": [],
   "source": []
  },
  {
   "cell_type": "code",
   "execution_count": null,
   "metadata": {},
   "outputs": [],
   "source": [
    "# Create feature vectors \n",
    "vectorizer = TfidfVectorizer(min_df=4, max_df=0.9)\n",
    "# Train the feature vectors\n",
    "train_vectors = vectorizer.fit_transform(x_train) #(train_data)\n",
    "# Apply model on test data \n",
    "test_vectors = vectorizer.transform(x_test)#(test_data)"
   ]
  },
  {
   "cell_type": "code",
   "execution_count": null,
   "metadata": {
    "scrolled": true
   },
   "outputs": [],
   "source": [
    "# Perform classification with SVM, kernel=linear \n",
    "model = svm.SVC(kernel='linear') \n",
    "model.fit(train_vectors, y_train_label) \n",
    "prediction = model.predict(test_vectors)\n"
   ]
  },
  {
   "cell_type": "code",
   "execution_count": null,
   "metadata": {},
   "outputs": [],
   "source": [
    "print(len(prediction))"
   ]
  },
  {
   "cell_type": "code",
   "execution_count": null,
   "metadata": {
    "scrolled": false
   },
   "outputs": [],
   "source": [
    "for i, pred in enumerate(prediction):\n",
    "    if y_test_label[i] != pred:\n",
    "        print(y_test_username[i], pred)"
   ]
  },
  {
   "cell_type": "code",
   "execution_count": null,
   "metadata": {},
   "outputs": [],
   "source": [
    "print (classification_report(y_test_label, prediction))\n",
    "# print(len(y_test_label))"
   ]
  },
  {
   "cell_type": "markdown",
   "metadata": {},
   "source": [
    "# START\n"
   ]
  },
  {
   "cell_type": "code",
   "execution_count": 28,
   "metadata": {},
   "outputs": [
    {
     "name": "stderr",
     "output_type": "stream",
     "text": [
      "[nltk_data] Downloading package stopwords to\n",
      "[nltk_data]     /Users/knownastron/nltk_data...\n",
      "[nltk_data]   Package stopwords is already up-to-date!\n"
     ]
    }
   ],
   "source": [
    "import sys\n",
    "sys.path.append('../')\n",
    "from SQLConnection import LocalConnection\n",
    "from SQLConnection import AWSConnection\n",
    "sys.path.append('../databases')\n",
    "import mysql_aws_credentials as aws\n",
    "from Format import Format\n",
    "import re\n",
    "import nltk\n",
    "nltk.download('stopwords')\n",
    "import string\n",
    "import joblib\n",
    "\n",
    "from sklearn.feature_extraction.text import TfidfVectorizer \n",
    "from sklearn.metrics import classification_report\n",
    "from sklearn import svm \n",
    "from sklearn.model_selection import train_test_split"
   ]
  },
  {
   "cell_type": "code",
   "execution_count": 30,
   "metadata": {},
   "outputs": [],
   "source": [
    "local_conn = LocalConnection('../databases/main.db')\n",
    "aws_conn = AWSConnection(aws.HOST, aws.PORT, aws.DATABASE_NAME, aws.USER, aws.PASSWORD)\n",
    "\n",
    "cons_test_users = aws_conn.get_users_by_pol_label('conservative')\n",
    "libs_test_users = aws_conn.get_users_by_pol_label('liberal')\n",
    "all_users = cons_test_users + libs_test_users"
   ]
  },
  {
   "cell_type": "code",
   "execution_count": 10,
   "metadata": {},
   "outputs": [],
   "source": [
    "# corpus = []\n",
    "# #add all tweet data to corpu\n",
    "# for i, user in enumerate(cons_train_users):\n",
    "#     tweets = local_conn.get_all_tweets_by(user[0])\n",
    "#     tweets = [x[1] for x in tweets] #extract just the tweet text\n",
    "#     tweets = \" \".join(tweets) #join all tweets into one big blob\n",
    "#     tweets = Format.denoise_tweet(tweets)\n",
    "#     corpus.append((user[0], tweets, user[3])) #usernames, tweet blob, label\n",
    "    \n",
    "# for user in libs_train_users:\n",
    "#     tweets = local_conn.get_all_tweets_by(user[0])\n",
    "#     tweets = [x[1] for x in tweets]\n",
    "#     tweets = \" \".join(tweets)\n",
    "#     tweets = Format.denoise_tweet(tweets)\n",
    "#     corpus.append((user[0], tweets, user[3]))"
   ]
  },
  {
   "cell_type": "code",
   "execution_count": 31,
   "metadata": {},
   "outputs": [
    {
     "name": "stdout",
     "output_type": "stream",
     "text": [
      "0\n",
      "1\n",
      "2\n",
      "3\n",
      "4\n",
      "5\n",
      "6\n",
      "7\n",
      "8\n",
      "9\n",
      "10\n",
      "11\n",
      "12\n",
      "13\n",
      "14\n",
      "15\n",
      "16\n",
      "17\n",
      "18\n",
      "19\n",
      "20\n",
      "21\n",
      "22\n",
      "23\n",
      "24\n",
      "25\n",
      "26\n",
      "27\n",
      "28\n",
      "29\n",
      "30\n",
      "31\n",
      "32\n",
      "33\n",
      "34\n",
      "35\n",
      "36\n",
      "37\n",
      "38\n",
      "39\n",
      "40\n",
      "41\n",
      "42\n",
      "43\n",
      "44\n",
      "45\n",
      "46\n",
      "47\n",
      "48\n",
      "49\n",
      "50\n",
      "51\n",
      "52\n",
      "53\n",
      "54\n",
      "55\n",
      "56\n",
      "57\n",
      "58\n",
      "59\n",
      "60\n",
      "61\n",
      "62\n",
      "63\n",
      "64\n",
      "65\n",
      "66\n",
      "67\n",
      "68\n",
      "69\n",
      "70\n",
      "71\n",
      "72\n",
      "73\n",
      "74\n",
      "75\n",
      "76\n",
      "77\n",
      "78\n",
      "79\n",
      "80\n",
      "81\n",
      "82\n",
      "83\n",
      "84\n",
      "85\n",
      "86\n",
      "87\n",
      "88\n",
      "89\n",
      "90\n",
      "91\n",
      "92\n",
      "93\n",
      "94\n",
      "95\n",
      "96\n",
      "97\n",
      "98\n",
      "99\n",
      "100\n",
      "101\n",
      "102\n",
      "103\n",
      "104\n",
      "105\n",
      "106\n",
      "107\n",
      "108\n",
      "109\n",
      "110\n",
      "111\n",
      "112\n",
      "113\n",
      "114\n",
      "115\n",
      "116\n",
      "117\n",
      "118\n",
      "119\n",
      "120\n",
      "121\n",
      "122\n",
      "123\n",
      "124\n",
      "125\n",
      "126\n",
      "127\n",
      "128\n",
      "129\n",
      "130\n",
      "131\n",
      "132\n",
      "133\n",
      "134\n",
      "135\n",
      "136\n",
      "137\n",
      "138\n",
      "139\n",
      "140\n",
      "141\n",
      "142\n",
      "143\n",
      "144\n",
      "145\n",
      "146\n",
      "147\n",
      "148\n",
      "149\n",
      "150\n",
      "151\n",
      "152\n",
      "153\n",
      "154\n",
      "155\n",
      "156\n",
      "157\n",
      "158\n",
      "159\n",
      "160\n",
      "161\n",
      "162\n",
      "163\n",
      "164\n",
      "165\n",
      "166\n",
      "167\n",
      "168\n",
      "169\n",
      "170\n",
      "171\n",
      "172\n",
      "173\n",
      "174\n",
      "175\n",
      "176\n",
      "177\n",
      "178\n",
      "179\n",
      "180\n",
      "181\n",
      "182\n",
      "183\n",
      "184\n",
      "185\n",
      "186\n",
      "187\n",
      "188\n",
      "189\n",
      "190\n",
      "191\n",
      "192\n",
      "193\n",
      "194\n",
      "195\n",
      "196\n",
      "197\n",
      "198\n",
      "199\n",
      "200\n",
      "201\n",
      "202\n",
      "203\n",
      "204\n",
      "205\n",
      "206\n",
      "207\n",
      "208\n",
      "209\n",
      "210\n",
      "211\n",
      "212\n",
      "213\n",
      "214\n",
      "215\n",
      "216\n",
      "217\n",
      "218\n",
      "219\n",
      "220\n",
      "221\n",
      "222\n",
      "223\n",
      "224\n",
      "225\n",
      "226\n",
      "227\n",
      "228\n",
      "229\n",
      "230\n",
      "231\n",
      "232\n",
      "233\n",
      "234\n",
      "235\n",
      "236\n",
      "237\n",
      "238\n",
      "239\n",
      "240\n",
      "241\n",
      "242\n",
      "243\n",
      "244\n",
      "245\n",
      "246\n",
      "247\n",
      "248\n",
      "249\n",
      "250\n",
      "251\n",
      "252\n",
      "253\n",
      "254\n",
      "255\n",
      "256\n",
      "257\n",
      "258\n",
      "259\n",
      "260\n",
      "261\n",
      "262\n",
      "263\n",
      "264\n",
      "265\n",
      "266\n",
      "267\n",
      "268\n",
      "269\n",
      "270\n",
      "271\n",
      "272\n",
      "273\n",
      "274\n",
      "275\n",
      "276\n",
      "277\n",
      "278\n",
      "279\n",
      "280\n",
      "281\n",
      "282\n",
      "283\n",
      "284\n",
      "285\n",
      "286\n",
      "287\n",
      "288\n",
      "289\n",
      "290\n",
      "291\n",
      "292\n",
      "293\n",
      "294\n",
      "295\n",
      "296\n",
      "297\n",
      "298\n",
      "299\n",
      "300\n",
      "301\n",
      "302\n",
      "303\n",
      "304\n",
      "305\n",
      "306\n",
      "307\n",
      "308\n",
      "309\n",
      "310\n",
      "311\n",
      "312\n",
      "313\n",
      "314\n",
      "315\n",
      "316\n",
      "317\n",
      "318\n",
      "319\n",
      "320\n",
      "321\n",
      "322\n",
      "323\n",
      "324\n",
      "325\n",
      "326\n",
      "327\n",
      "328\n",
      "329\n",
      "330\n",
      "331\n",
      "332\n",
      "333\n",
      "334\n",
      "335\n",
      "336\n",
      "337\n",
      "338\n",
      "339\n",
      "340\n",
      "341\n",
      "342\n",
      "343\n",
      "344\n",
      "345\n",
      "346\n",
      "347\n",
      "348\n",
      "349\n",
      "350\n",
      "351\n",
      "352\n",
      "353\n",
      "354\n",
      "355\n",
      "356\n",
      "357\n",
      "358\n",
      "359\n",
      "360\n",
      "361\n",
      "362\n",
      "363\n",
      "364\n",
      "365\n",
      "366\n",
      "367\n",
      "368\n",
      "369\n",
      "370\n",
      "371\n",
      "372\n",
      "373\n",
      "374\n",
      "375\n",
      "376\n",
      "377\n",
      "378\n",
      "379\n",
      "380\n",
      "381\n",
      "382\n",
      "383\n",
      "384\n",
      "385\n",
      "386\n",
      "387\n",
      "388\n",
      "389\n",
      "390\n",
      "391\n",
      "392\n",
      "393\n",
      "394\n",
      "395\n",
      "396\n",
      "397\n",
      "398\n",
      "399\n",
      "400\n",
      "401\n",
      "402\n",
      "403\n",
      "404\n",
      "405\n",
      "406\n",
      "407\n",
      "408\n",
      "409\n",
      "410\n",
      "411\n",
      "412\n",
      "413\n",
      "414\n",
      "415\n",
      "416\n",
      "417\n",
      "418\n",
      "419\n",
      "420\n",
      "421\n",
      "422\n",
      "423\n",
      "424\n",
      "425\n",
      "426\n",
      "427\n",
      "428\n",
      "429\n",
      "430\n",
      "431\n",
      "432\n",
      "433\n",
      "434\n",
      "435\n",
      "436\n",
      "437\n",
      "438\n",
      "439\n",
      "440\n",
      "441\n",
      "442\n",
      "443\n",
      "444\n",
      "445\n",
      "446\n",
      "447\n",
      "448\n",
      "449\n",
      "450\n",
      "451\n",
      "452\n",
      "453\n",
      "454\n",
      "455\n",
      "456\n",
      "457\n",
      "458\n",
      "459\n",
      "460\n",
      "461\n",
      "462\n",
      "463\n",
      "464\n",
      "465\n",
      "466\n",
      "467\n",
      "468\n",
      "469\n",
      "470\n",
      "471\n",
      "472\n",
      "473\n",
      "474\n",
      "475\n",
      "476\n",
      "477\n",
      "478\n",
      "479\n",
      "480\n",
      "481\n",
      "482\n",
      "483\n",
      "484\n",
      "485\n",
      "486\n",
      "487\n",
      "488\n",
      "489\n",
      "490\n",
      "491\n",
      "492\n",
      "493\n",
      "494\n",
      "495\n",
      "496\n",
      "497\n",
      "498\n",
      "499\n",
      "500\n",
      "501\n",
      "502\n",
      "503\n",
      "504\n",
      "505\n",
      "506\n",
      "507\n",
      "508\n",
      "509\n",
      "510\n",
      "511\n",
      "512\n",
      "513\n",
      "514\n",
      "515\n",
      "516\n",
      "517\n",
      "518\n",
      "519\n",
      "520\n",
      "521\n",
      "522\n",
      "523\n",
      "524\n",
      "525\n",
      "526\n",
      "527\n",
      "528\n",
      "529\n",
      "530\n",
      "531\n",
      "532\n",
      "533\n",
      "534\n",
      "535\n",
      "536\n",
      "537\n",
      "538\n",
      "539\n",
      "540\n",
      "541\n",
      "542\n",
      "543\n",
      "544\n",
      "545\n",
      "546\n",
      "547\n",
      "548\n",
      "549\n",
      "550\n",
      "551\n",
      "552\n",
      "553\n",
      "554\n",
      "555\n",
      "556\n",
      "557\n",
      "558\n",
      "559\n",
      "560\n",
      "561\n",
      "562\n",
      "563\n",
      "564\n",
      "565\n",
      "566\n",
      "567\n",
      "568\n",
      "569\n",
      "570\n",
      "571\n",
      "572\n",
      "573\n",
      "574\n",
      "575\n",
      "576\n",
      "577\n",
      "578\n",
      "579\n",
      "580\n",
      "581\n",
      "582\n",
      "583\n",
      "584\n",
      "585\n",
      "586\n",
      "587\n",
      "588\n",
      "589\n",
      "590\n",
      "591\n",
      "592\n",
      "593\n",
      "594\n",
      "595\n",
      "596\n",
      "597\n",
      "598\n",
      "599\n",
      "600\n",
      "601\n",
      "602\n",
      "603\n",
      "604\n",
      "605\n",
      "606\n",
      "607\n",
      "608\n",
      "609\n",
      "610\n",
      "611\n",
      "612\n",
      "613\n",
      "614\n",
      "615\n",
      "616\n",
      "617\n",
      "618\n",
      "619\n",
      "620\n",
      "621\n",
      "622\n",
      "623\n",
      "624\n",
      "625\n",
      "626\n",
      "627\n",
      "628\n"
     ]
    }
   ],
   "source": [
    "corpus = []\n",
    "for i, user in enumerate(all_users):\n",
    "    print(i, end=' ')\n",
    "    tweets = aws_conn.get_all_tweets_by(user[0])\n",
    "    tweets = [x[1] for x in tweets]\n",
    "    tweets = \" \".join(tweets) #join all tweets into one big blob\n",
    "    tweets = Format.denoise_tweet(tweets)\n",
    "    corpus.append((user[0], tweets, user[3]))"
   ]
  },
  {
   "cell_type": "code",
   "execution_count": 32,
   "metadata": {},
   "outputs": [],
   "source": [
    "data = []\n",
    "labels = []\n",
    "for row in corpus:\n",
    "    data.append(row[1])\n",
    "    labels.append((row[0], row[2])) #username and label"
   ]
  },
  {
   "cell_type": "code",
   "execution_count": 33,
   "metadata": {},
   "outputs": [
    {
     "name": "stdout",
     "output_type": "stream",
     "text": [
      "629\n"
     ]
    }
   ],
   "source": [
    "print(len(data))"
   ]
  },
  {
   "cell_type": "code",
   "execution_count": 66,
   "metadata": {},
   "outputs": [],
   "source": [
    "x_train, x_test, y_train, y_test = train_test_split(data, labels, test_size = 0.33, random_state=9)"
   ]
  },
  {
   "cell_type": "code",
   "execution_count": 67,
   "metadata": {},
   "outputs": [],
   "source": [
    "#create lists of usernames and labels for training and test data\n",
    "y_train_username = []\n",
    "y_train_label = []\n",
    "\n",
    "for y in y_train:\n",
    "    y_train_username.append(y[0])\n",
    "    y_train_label.append(y[1])\n",
    "    \n",
    "y_test_username = []\n",
    "y_test_label = []\n",
    "\n",
    "for y in y_test:\n",
    "    y_test_username.append(y[0])\n",
    "    y_test_label.append(y[1])"
   ]
  },
  {
   "cell_type": "code",
   "execution_count": 68,
   "metadata": {},
   "outputs": [],
   "source": [
    "# Create feature vectors \n",
    "vectorizer = TfidfVectorizer(min_df=4, max_df=0.9)\n",
    "# Train the feature vectors\n",
    "train_vectors = vectorizer.fit_transform(x_train) #(train_data)\n",
    "# Apply model on test data \n",
    "test_vectors = vectorizer.transform(x_test)#(test_data)"
   ]
  },
  {
   "cell_type": "code",
   "execution_count": 69,
   "metadata": {},
   "outputs": [],
   "source": [
    "# Perform classification with SVM, kernel=linear \n",
    "model = svm.SVC(kernel='linear') \n",
    "model.fit(train_vectors, y_train_label) \n",
    "prediction = model.predict(test_vectors)"
   ]
  },
  {
   "cell_type": "code",
   "execution_count": 70,
   "metadata": {
    "scrolled": false
   },
   "outputs": [
    {
     "name": "stdout",
     "output_type": "stream",
     "text": [
      "              precision    recall  f1-score   support\n",
      "\n",
      "conservative       0.93      0.97      0.95       110\n",
      "     liberal       0.97      0.92      0.94        98\n",
      "\n",
      "    accuracy                           0.95       208\n",
      "   macro avg       0.95      0.95      0.95       208\n",
      "weighted avg       0.95      0.95      0.95       208\n",
      "\n"
     ]
    }
   ],
   "source": [
    "print (classification_report(y_test_label, prediction))"
   ]
  },
  {
   "cell_type": "code",
   "execution_count": 64,
   "metadata": {},
   "outputs": [
    {
     "name": "stdout",
     "output_type": "stream",
     "text": [
      "repcuellar conservative\n",
      "senatemajldr conservative\n",
      "mindyfinn liberal\n",
      "mariodb liberal\n",
      "sen_joemanchin conservative\n"
     ]
    }
   ],
   "source": [
    "for i, pred in enumerate(prediction):\n",
    "    if y_test_label[i] != pred:\n",
    "        print(y_test_username[i], pred)"
   ]
  },
  {
   "cell_type": "code",
   "execution_count": 72,
   "metadata": {},
   "outputs": [
    {
     "data": {
      "text/plain": [
       "['tfid_vectorizer.pkl']"
      ]
     },
     "execution_count": 72,
     "metadata": {},
     "output_type": "execute_result"
    }
   ],
   "source": [
    "joblib.dump(model, 'NLP_political_classifier.pkl')\n",
    "joblib.dump(vectorizer, 'tfid_vectorizer.pkl')"
   ]
  },
  {
   "cell_type": "code",
   "execution_count": null,
   "metadata": {},
   "outputs": [],
   "source": []
  },
  {
   "cell_type": "raw",
   "metadata": {},
   "source": [
    "nlp_model = open('NLP_political_classifier.pkl','rb')\n",
    "clf = joblib.load(nlp_model)\n",
    "\n",
    "vectorizer_object = open('tfid_vectorizer.pkl', 'rb')\n",
    "vectorizer = joblib.load(vectorizer_object)\n",
    "\n"
   ]
  },
  {
   "cell_type": "code",
   "execution_count": 69,
   "metadata": {},
   "outputs": [],
   "source": [
    "con_test_str = 'america is the land of the free home of the brave god bless'\n",
    "lib_test_str = 'lgbt rights union living wage'#'union living wage racism white people lgbt'\n",
    "lib_test_list = [Format.denoise_tweet(lib_test_str)]\n",
    "con_test_list = [Format.denoise_tweet(con_test_str)]"
   ]
  },
  {
   "cell_type": "code",
   "execution_count": null,
   "metadata": {},
   "outputs": [],
   "source": []
  },
  {
   "cell_type": "code",
   "execution_count": 98,
   "metadata": {},
   "outputs": [],
   "source": [
    "tweets = local_conn.get_all_tweets_by('aoc')\n",
    "tweets = [x[1] for x in tweets]\n",
    "tweets = \" \".join(tweets)\n",
    "tweets = Format.denoise_tweet(tweets)"
   ]
  },
  {
   "cell_type": "code",
   "execution_count": 99,
   "metadata": {},
   "outputs": [
    {
     "data": {
      "text/plain": [
       "'genre videos gop house members  clearly didnt read sworn testimony detention sinks broken filming drinking toilet sinks theyre antiimmigrant risk pink eye show didnt reading  need organize around census need start now morning bright early catching commuters corona share info census hiring  need nyc organizers check out  one constituents sweetly framed clipping healthcare town hall city island recently gave me looking today realized cool attendee midst whole time domestic abusers master manipulators plus domestic abuse huge indicator gun violence thats vouching friend isnt substitute background check wouldnt lend car someone wo licensewhy lend gun someone wo background check rapists ivy league degrees abusers look like good dads high incomes great jobs good appearances often cover abusers fact many abusers rely public reputation intimidate partners leaving ex no one believe you idea i know guy theres way beats wife way keep guns hands abusers ridiculous person abused assaulted etc knows abusers often present upstanding theres way youd know thats its common  herein lies important point abt domestic abuse hidden could know abuser  clue ive friends come victims its obvious unsafe relationships common thats house dems passed closing boyfriend loophole vawa said universal background checks wouldnt able lend guns friends background check would problem shouldnt lend gun btw ny one safest states country comes guns incl rural areas try keep up  member congress lending guns people unsupervised cant pass basic background check people youre giving gun likely abused spouse violent criminal record  may know it earth would that  climate change looks like hits vulnerable communities first already hear climate deniers screeching its always like this youre dim etc no science  leadership either decarbonizecut emissions dont  let people die  beyond moral wrong racism powerful political tool used dismantle public goods  civil rights long bigoted sympathies exist subtly loud used thats convincing people racism sidenotenot broad institutional strategic move corruption trump  many admins  wouldnt politically possible without relying sympathy racist policies thats reagans black welfare queen about too people think theyre paying someone else theyll dismantle healthcare example rallying support super racist immigration policies muslim ban concentration campsetc supporters look way billions public dollars going private prison ceos  kick back trump ex inaugural committee 3 since corruption isnt popular policy racism works cover con thats addressing racism isnt distraction  its key understanding hustle working people culturally racism used unspoken cudgel proworking class policy 2 virtually every policy trump pursues works steal public money  personally enrich  friends gutting national monuments pays fossil fuel ceos border concentration camps pay private prison ceos betsy devos pays loan sharks its always con  people actually concerned undocumented people clear solution would offer documentation its safer  secure everyone law  order immigration system sheer chaos rules change every day sole goal exclusion 12 cases see work immigration related many people who‘ve path citizenship years steps supposed 30 days taking year some like work authorizations delayed theyre forcing people jobs antiimmigrant folks like say were immigration were illegal immigration true would make documented immigration easy  safe  every day administration grinding legal documented immigration halt  id love that wow moment two women   set example world last night its about  the retro posters nudge viewers recall big federalgovernmentled plans long history us civilian conservation corps example enrolled total 3 million young men helped manage forests control soil erosion prevent floods  one way support local lgbtq community impacted bostons white supremacist parade contribute bail fund activists put line protecting boston community  any  left goes   men allegedly proud straight seem show real incompetence attracting women event seems like istrugglewithmasculinity parade me hope grow enough next year support  join lgbtq fam next   tell them greta people try mock personally instead engaging substance advocacy its know powerful are truth side keep inspiring organizing were going save planet us together  nope heres one backpack celebrations bronx park east block party allerton today were getting ny14 children ready backtoschool providing backpacks school supplies local parks  block parties tucked inside backpacks special note students upcoming school year   posters inspired original new deal updated future new deal fdr launched federal one us project employed 5300 artists created  taught art envision americas future left  right original us new deal bronx  queens art were starting aspire release custom art local communities across america also working line gnd reusables first 250 prints released family nature day tomorrow were park tours posters push us imagine future green new deal two beloved ny14 parks pelham bay  flushing meadows posters made us unionprinted  available purchase soon available organizing events now 2 surprisei thrilled announce launch art series custom bronx  queens gnd posters bronx edition poster given free limited release public pelham bay nature day  backpack giveaway bronx tomorrow 1 138th street and popular demand grand concourse see youre neonazi fan favorite dont block defending white supremacist viewpoints mocking gun violence survivors  people free speak whatever classist racist false misogynistic bigoted comments theyd like right force others endure harassment abuse 1 52 million followers less 20 accounts blocked ongoing harassment 0 constituents 2 harassment viewpoint accounts like daily caller posted fake nude photos  abused comments spread it one entitled abuse  love everything gop attack ad republicans underestimate intelligence bc invite people home  talk policy plain english instead dc jargon think thats dumb end paying ads spread  explain policy positions  fmr officials become corporate lobbyists letter spirit its abuse power  stain public service dont care its democrat both parties do fact makes worse  were supposed fight working people them  oldfashioned redbaiting approach familiar us lived cold war doesnt seem working drumming fear around socialism gops big play  its failing bc capitalism  gofundme national healthcare system  bye bye 3000 americans died watch youre best thing happen anybody yourself even thats questionable  welcome greta proud you there‘s ceo country id honored go toe toe withthe ceo largest forprofit private prison corporation would definitely there guess what  entire business  caging humans profit  immoral  outlawed  hes tilting windmills wind turbines  windmills quixote entered g7 chat  for real though pretty concerning guy abused position try get someone fired something insignificant  esp creating career defending vile language sacred freedom  deriding people organizing basic human dignity snowflakes imagine twitter worst thing youre called given day bedbug friends roast harder well its official republicans arguing us isnt  shouldnt be democracy believe lobbyists writing bills sabotaging civil rights gop works end democracy reality grow it  im glad president agree electoral college got go  getting back home taking days‘ road trip  including national parks  anyone preside house fight protect land and every american ample necessary time recuperate  enjoy it new day new friend 5 electoral college isnt fairness all its empowering voters others every vote  america matter come from right thing establish popular vote  gop everything fight it 4 give electoral affirmative action group america black americans votes count bc disenfranchised 100s years reservations get electoral vote puerto rico us territories get them no dont 3 lastly concept electoral college provides fairness rural americans coastal states doesnt hold water whatsoever first all virtually every state rural communities ny california much states rural importantly 2 common claim if dont electoral college handful states determine presidency bs a its ec itself breaks power state pop vote decentralizes b ec makes handful states determine elections see fox news big mad abolishing electoral college lets talk it 1 gop silent majority claim wouldnt scared popular vote know arent majority rely establishing minority rule power  powerful  folks may want read extra deep this say simply acknowledge courage takes make statement like this warren castro bernie  others lucky leadership bench right now praise great moments one thing completely undeniable bernie sanders enormous political courage consistently wields behalf others statement big deal hes standing two members  hes standing integrity entire us congress   netanyahus discriminatory decision ban members congress israel harms intl diplomacy visiting israel  palestine key experiences towards path peace sadly cannot move forward w scheduling visits israel members congress allowed  moc frequently asked visit israel see things ourselves netanyahu choosing ban 2 muslim women congress entering tells us some americans welcome israel all trump exporting bigotry making matters worse  its clear rep king must resign sen schatz points out kings endorsement valued republican party resign views clearly resonate gop  kings comment rooted belief rape legitimate form sex sex thats forced coerced subjugation  control its relevant king says defending antichoice bill restricting abortion seeks control anyone uterus  1 false must meet lillys requirements making 50k one many 2 corporations sense charity determine whether live die 3 insulin patent sold 1 explicit purpose notforprofit medication all due to one manipulative tactics plutocrats use convincing people systemic issues face character flaws instead policy flaws working people arent dumb inferior insulin costs 300 huge cos pay starvation wages corruption is  unionizing workplace clapback culture man acting director citizenship  immigration services love everyone double check voter registration status  register havent   ive watching loop  happy fellow southpaws may smudges left seat empty bosses dont wield power workers plenty  yet many dont know it study search history labor rights america school doesnt teach history us labor mvmtbut weekends bc it  risk losing rights forget earned them  lobbyists want believe wages everyday people rise due competition history shows thats false long low wages profitable people shortchanged today workers leading charge change lives decades policies prioritized coal corporations coal workers more best way uplift coal communities center  fully funding pensions  investing   youre boss tweeting firing threats employees trying unionize likely breaking law can suedin words on spot workers us protected freedom organize better conditions see union orgs like tips  if neutral situations injustice chosen side oppressor  desmond tutu  need answers lots them  white supremacists responsible all racebased domestic terrorism 2018 100 trumps doj  barr worked to hide report congressall defunding federal programs combat white supremacist violence white supremacist administration  aplicar medidas de austeridad en educación atención médica es aconsejable tendrá graves consecuencias en la capacidad de puerto rico para superar su crisis económica indicaron \\u2069 \\u2066\\u2066\\u2066\\u2069 mas  know nyc children free breakfast  lunch summer meal schools parkslibraries visited program castle hill kids families camps stop community  conversation every day break bread us sometime  ever called comcast yourself someone you cause lots communities wed take public internet oligopoly internet day week  workers lead people win  good  incredibly important recognize perfectly normal good people capable aiding racism  white supremacy recognizing pillorying people its learning recognize the virus  end oppressive system designed hurt us all moment asking us discuss white supremacy racism much  possibly  white supremacists racists that believe start make progress recognizing white supremacy  institutions subconscious past remarks acts no matter consciously unintentional makes healing work ahead challenging impossibleand confronting way move forward perhaps obvious last steps supremacistwe must examine nuance first steps painful inquiry bc many may see familiarity first steps familiarity difficult see  admit wed rather talk it healing white supremacy hard hard requires us confront ourselves wish simple denouncing white hood burnt cross vile language need address supremacy begins ends white supremacy often subconscious  clearly nation inoculated ws nations original sinthe driving logic slavery native genocide jim crow segregation mass incarcerationof send back never went away dormant difference white supremacists  white supremacy white supremacy like virus supremacists completely overcome disease supremacy  virus  exists larger scale beyond infected also lays dormant medicare all tuitionfree k16 green new deal ending forprofit prisons wall heres say americas men women falling grips hatred white supremacy come back its late neighbors loved ones waiting holding space you love back  hr8 charleston loophole violence women act boys held accountable actions starting mitch mcconnell boys boys also reason youve chosen block violence women act too  prevents dating partners records abuse  stalking women also early warning sign many mass shooters obtaining gun  toni morrison remembered one greatest thinkers storytellers history gave us much work continues give throughout time thank you toni morrison  incredibly powerful mustwatch moment thank you  let front page serve reminder white supremacy aided  often relies upon  cowardice mainstream institutions  hey  young men look like work you wanted clarify paying young men practice groping  choking members congress payroll standard culture  thanks  congress exploding white supremacist terrorism pass gun safety laws name ws terrorism statute more house passed gun safety bills mos ago mcconnell refuses hold vote let alone pass them needs call senate back  so 4 also editors color diversity lowest ranks highest news behind huge stories  coverage suffering bc lack diversity ive invited editor roundtables utterly shocked poc present 2019 thats big problem 3 dont let neonazis tvto buff image couch racism reasonableseeming termsappearancesounds obvious happened wks ago supremacists experts manipulationincl manipulating smart people open box dont know contain reason theres tendency both sides every issue tv bc medium incentivized conflict ppl put least qualified people tv create see climate deniers dont ask is blank racist experts explain racism 2 journalistworked news id rn 1 interview actual experts white supremacy  give space more 2mins lines educate public ws look for often 2 frame white supremacyracism conflict debate 1 using words invasion infestationw respect specific targeted group people implying vermin language white supremacy it goes way top its matter political stances stoking hatredendangering country  video games arent causing mass shootings white supremacy is sadly gop refuse acknowledge that bc strategy relies rallying white supremacist base that‘s president hosts stadiums people chanting send back targets congressmembers color  house passed hr8 bipartisan background checks act 5 months ago senate yet vote it one 1st major priorities ending gov shutdown youve sitting since february giving bogus excuses care explain people why  focusing flipping senate electoral priority right now presidential candidates media focused  theyre good rn need boost senate candidates  get organizing senate races  candidates looking at comment   again time asking fbi seems easier label domestic selfradicalized shooters muslim terrorists yet white supremacists responsible far violence usoften escape charges theyre source domestic terror  months raising questions around white supremacists able escape terrorist labeling heres one example  many assume neonazis mainly lurk dark gross v racist  misogynistic corners 4chan thats young people get radicalized thats end getting radicalized social trail breadcrumbs leads fbyoutubeetc white supremacy quickly turned domestic terror crisis us rely thinking its big deal big deal white supremacy makes majority domestic terrorism united states radicalize online  youre sick gun violence american reality its time get organizing join local group  attend mtg shout one favorite orgs the house passed hr8 mcconnell‘s blocked it longer bear see gun violence  mass shootings continue norm america many deaths gun violence could preventable responsible gun safety laws many children would still mothers enough its way past time act  common ground find some gop  ending needless war  curbing exploding military spending  protecting civil liberties  privacy rights i believe people shouldnt spied gov corporations incl phone  habits  holding bad contractors accountable  thanks everyone joined tonight  mfw liz cheney people tries offer foreign policy takes entire generation hasnt lived cheneys sending us war since kids  investigative journalism matters   refuse see acknowledge history including dark periods repeat it already  predatory lending taxi medallions decimated lives nyc drivers  families im tired vicious cycle predatory lenders get bailouts people whose lives ruin left behind its time something it  folks outraged academics  experts naming concentration camp system is else call camps parents die children watch discomfort truth spur us change it denial prioritizes comfort peoples lives  ponte las pilas por 2020 porque vamos trabajar duro ganar en texas  sea level rise looks like argue ambitious dont see glacial melt isnt waiting  fact its happening much faster rate predicted dont time argue need act  massive scale  thank you community truly coming together around garden one mother told gardening family singlehandedly made young son excited eat vegetables showed some im holding photos finished paintings showed beaches puerto rico 2nd photo im holding one current projects its landscape based photo took see screen foreground morning visited garden  art center  blown away advanced space is gardening virtual reality doors selfexpression opening new ways neighbors disabilities luis told thats important organizing isnt elections its part community life thats strapped chanclas  hit subways week census 2020  educate early  push locally census hiring now bronx  queens residents apply  past months ive discovered joy gardening its therapeutic way connect earth  food wanted learn community garden opportunities bronx  joined  little ones plant corn castle hill garden   fossil fuel companies also ship coal ash built pr often poor communities continental us pr renewables cheaper fossil fuels reason shouldnt pursuing transition outside corrupt lobbying  huge problem many communities pr wv coal waste nice word ash piles mountainlike heaps  poisons water candidates last night said addressing climate injustice distraction clean water rich  remember gop got outraged  fanned controversy pointed reagan used racism political tool keep white people poor  people color poor too well it like many racists reagan spoke behind closed doors story  anytime  good luck  whole dem field tonight  true peace absence tension presence justice thankful wide intergenerational coalition communities coming together  israeli  palestinian jewish  muslim american  around world  seeking advance peace justice  dem house different approach id say house arguably  currently structured conservative 3 due gop gerrymandering inspirational  ambitious good strategy visionary strength liability statewide turnout point stem runaway income inequality wealth begins automatically compound obscene rates extremely rich wo lifting finger  often cost low wages huge driving factor income  wealth inequality  want talk it wealth tax vs cap gains tax vs 70 marginal tax 10 millionyear ¿por que los tres havent yet dove discussion reparations great place start  green new deal decarbonizes economy ensuring leave community behind incl job transitions miners labor rights healthcare  wages calling consideration working people climate policy distraction truly unsustainable  unrealistic debating healthcare proposals perfectly goodfaith convo have define terms clear discourse theres lot folks branding essentially public option private insurance slushy mix m4a call public op public op m4a m4a immigration policy isnt containing problem its realizing opportunity  value inherent people also last time people undocumented pay taxes public goods arent gifts immigrants  pay kids schooling too medicare singlepayer healthcare thats it thats policy mccarthyism practice baselessly accusing political opponents communists unjust grounds targeting  harassment blocking action protect us elections despite official doj pleas doesnt make communist makes bad leader  whats strange rep hice lying i offered sworn testimony incl names corroborate  share committee lets keep  were going see work  youre going pretend nice me passive aggression its lifestyle  telling working class people lowskill touch insulting excuse poor wages  conditions thing inherently lowskill work labor requires skill well ppl know competentreliable serverslandscapersetc valuable  one indepth political interviews ive long time including asking questions one else asked shout   creating space  coming conversations totally unique way  hopping 815am nyc bronx  queens tune congressional update morning commute  may think too much soon setting climate goals 2030 isnt due arbitrary political rationale  its due scientific consensus simply put must draw carbon 2030 stave climate disaster levels yet unseen  climate equity means talk water discuss flint talk air discuss bx asthma talk coal fight miners pensions talk abt transitions honor native people talk economics center working people  families  green new deal switching renewables its paying attention frontline communities everyday people whose water poisoned pensions robbed  communities still vulnerable thats were releasing climate equity plan organized civil  massive nonviolent prodemocracy direct actions happening hong kong  instance expand civil liberties  demonstrate extradition bill pay attention hundreds thousands people organizing  showing  end mtg idea made cut look oversight includes many allstars congress  cummings legendary coach brings best everyone makes country better want team looked right  said i going ask plainly work peoples lives stake urgent ways oversight demanded excellence  watching every word said yes made best case incl  wanted cmte let tell story chairman  new members assigned congressional committees make case chair chairman cummings tough sat office make case oversight quite nervous  okay everyone update equifax people better deal 10 years free credit monitoring theres apparently run settlements theres anxiety people going get 16 cent checks choose 10 years credit monitoring equifax must cover it okay everyone update equifax better deal probably 10 years free credit monitoring theres apparently run settlements theres anxiety people going get 16 cent checks choose 10 years credit monitoring equifax must cover it yall think im controversial  little event equals democrats disarray gop members dropping mean republicans  riot row racket do people never write headline alliteration isnt good   everyone go get check equifax 125 nice chunk change get money pay bill sock away take day off treat yourself whatever youd like  cash check takes one minute    were fighting environmental justice pr too thank joining fight  happy friday got visited aziz weekend one reason drugs expensive pharma ceo pay often tied stock price means big pharma spends buying stocks research  dev make prescriptions cheaper its huge ponzi scheme congress needs end stock buyback  when youre 7 months new job one guy still doesnt know say name  today asked bother paying interns theyre getting experience résumé heres say that notion dismantling ice nowhere near radical destructive 2003 decision establish ice  extrajudicial enforcement agency controls blackbox network forprofit detention centers accountable one even people die  first place   ¡que viva puerto rico triumph people puerto rico unprecedented direct action successfully changed leadership demanded accountability pr made history began carving path future  ive waited tables interviewed live tv hes right going tv stressful restaurant shifts much much harder fox news correspondents couldnt last one real day hard working jobs love mock television  mucho mucho mucho amor  members congress still pass stories bella abzugs legendary tenure capitol hill heard one last week someone tried make take hat needless say stayed on  rule law means everyone treated eyes law means rich  powerful held accountable crimes anyone else includes president broke law maintain american rule law must impeached  climate crisis wait comfort politicians consequences burning planet coming situation leave children proportionate courage or lack thereof show now greta‘s right unite behind science  lobbyists  cbp detaining american citizens would feel trapped border camp guards wear face masks human odor strong allow rights violated rights far behind  it genuinely shook core notice whenever pursue large spending increases  tax cuts corporations contractors  connected its treated business usual moment consider investing similar working class people ex tuitionfree college cry its unrealistic  trumps goal uses targeted language  threatens elected officials dont agree political agenda its authoritarian behavior president sowing violence hes creating environment people get hurt  claims plausible deniability  people spoken  again rosselló must resign  yesterday held immigration town hall centering advocacy immigrant communities   thank sharing insight  story 1st dreamer elected ny assembly story inspires many  fight guarantee  healthcare  public college  student loan forgiveness  enviro protections  living wages  basic human rights dont take dime corporate money either you  jack drug prices  appoint betsy devos scam student loans  hurt immigrant kids  commissions usually bipartisan investigatory bodies deeply dive specific events areas us policy could also see proposals commissions opioid crisis income inequality  child trauma too commissions would want see congress establish proposals waiting congress one form another  introduced maría commission senate  child sep commission provision dhs improvement bill  carrying reparations commission house going need least 3 major us commissions study propose comprehensive restorative action 1 us commission hurricane maría 2 us commission child separation 3 us commission reparations 1  dc strategists seem quite eager almost wanting believe trump secret genius playing 3d racism chess theyre wrong hes simply impulsive racist one leaves party scrambling excuse bigotry  scam country  remarkable testament creativity resilience  power people puerto rico jet skis horses pots pans  body paint  isnt people making something nothing its people discovering power theyve always  climate crisis doing do american infrastructure need invests solution scale problem  help nation transition adjust prevent damage climate crisis  subway crisis time its clearly reaching breaking point people supposed able rely public transit  esp heat wave robust transparent public infrastructure investment needed ever cant continue  longer tolerate private equity groups taking chain storesstripping parts close them wall st firms fire thousands workers en masse wo severance profit its wrong  undermines basic dignity economy time fight back  something special powerful happening america pr hawaii people coming together protect dignity rights  sacred land w massive peaceful collective action something behold hawaii community bail fund  people puerto rico spoken loudly clearly world hear must stand la isla rosselló must resign  gop wants send us back back towards injustice back denial science back times women needed permission slips men back racism  wont go back move forward forward dignity people  protection planet  due decades inaction insufficient action outright denial long overdue act boldly climate crisis must pass  comprehensive plan transition fossil fuels  create tons good jobs were generation it must   cosponsored hr230 led championed  ban pesticide lets work protect kids get bill vote house floor land land land land land made me  dow chemical company gave 1 million trump‘s inauguration one chemicals known cause brain damage children conveniently wont banned trumps epa story linked  core abuses border whether cbp officers good bad people its border policies gravely dehumanizing  strip involved human decency order people violate others rights culture quickly devolve  bronx  queens  nycers serious heat wave expected sustain weekend heat indices getting high 110 degrees please get rest hydrate check neighbors know nearest cooling center is seat congress individual glory  never been never be its serving millions children people communities across country everyone deserves dignity representation america belongs us all back business today questioned acting dhs sec mcaleenan reports trump offered pardon violated us law block asylum seekers  whether cbp group threatened members congress  shared rape images still charge womenchildren  reminder people calling radical extremeleft agenda medicare living wage  labor rights k16 schooling aka public colleges 100 renewable energy fixing pipes flint hurting immigrants holding wall street accountable darkness find helpers week 100000 puerto ricans took unprecedented demonstrations hold gov accountable theyre hawaii too nyc eric garner its admins  its people rediscovering power  scared future get better started power triumph hatred division bigotry decency cannot taken granted something must create advance actively work build every day america always embodied story seek advance freedoms people try conserve privileges select few us must decide americas story weve chosen side people image source  little rock 1959 rally state capitol protesting integration central high school calling people believe democracy civil  economic rights racial justice communist long  rich history white supremacy us one preferred smears integrating schools  one main attacks segregationists used mlk jr  gop senate needs stop playing games pass 911 victims compensation fund spoke officers first responders  victims last week  oxygen others brought scans tumors  told gop gave word cant afford wait  scrip used appalachian coal corporations control workers controlling money  called coal cash used sugar plantation bosses pr too facebook establishing currency  teaming ebay uber  co alarming precedent  good news getting trump explicitly vocalize racism instead hiding behind vague suggestions words used courts evidence motivation aka tweets may used dismantle immigration policies  youre in   major house bill led  shes fighting women like mom girls like me learn  mom domestic worker  cleaned houses support family little girl grew reading books peoples staircases homework peoples dinner tables today congresswoman im proud cosponsor domestic worker bill rights  decision injustice proof criminal justice system grants families justice yet denies others heart breaks  erics mother let us follow words  example work system   youre right mr president  dont racist bone body racist mind head racist heart chest thats violate rights children tell congresswoman represents home borough go back country  authoritarians rely mass distortion reality concentrate power take advantage anyone anything meet end  gop often cries guaranteeing healthcare us force us ration it thing is were rationing care now people wait long see doctor go all bc cant afford paying cash bc insurance pricey its time   donald trump decided want president united states want president disagree hed rather see americans leave handle nations enshrined tradition dissent dont leave things love hey mr president remember bragged sexually assaulting women talking feeling breasts genitals when youre star let it imposed doe policies make harder sexual assault survivors report assault  whos squad check in  youre in  want thank every single person supports campaign 84 fundraising came small dollars havent taken single meeting corporate lobbyists term 100 time focused future thats people power changes nation  thank support see s biggest issue trumps racism doesnt go far enough  graham wants bring back 1950s mccarthyism too gop plan future were ones fighting healthcare edu good jobs  got nothing   always point thanks many people showing organize week  joining know rights canvasses sharing information social media  kept lot families together weekend midst ice raids proud everyone whos stepping protect neighbors  republican officials denounce yesterdays explicitly racist statements which easy sadly choice assume condone it extremely disturbing entire gop caucus silent agenda  its important note presidents words yday telling four american congresswomen color go back country hallmark language white supremacists trump feels comfortable leading gop outright racism concern americans know were going tomorrow thing every week fight for living wages  unions humane border healthcare  edu rights loosening grip corp lobbyists democracy stay busy defending racism weve got things do president showed white nationalism world see dispatched know rights teams show neighbors protect civil liberties ice  others local businesses asked stacks flyers too thank came know whats rub all mr president top accepting america elected us cannot accept dont fear youeither cant accept call bluff  offer positive vision country thats makes seethe angry cant conceive america includes us rely frightened america plunder wont accept nation sees healthcare right education priority especially were ones fighting it yet are angry dont believe america represent new york 14 good people minnesota elected  fights michigan families champions little girls boston 2 mr president country come from  country swear to united states given youve destroyed border inhumane camps benefit  corps profit them absolutely right corruption laid feet  kids taken families american flag left cough cages spread lice  smell mucus w bald eagle emblems emblazoned around them years now 1000s children grow tell story owe change  lights kept night depriving people humane sleep conditions cruelty point ps s voice translating didnt fluent spanishspeaking members may heard accounts firsthand people inside  stay safe cool everyone its hot out check elderly neighbors  may vulnerable without ac ny  one big reasons dont believe make decisions based what gop say bc going say anyway perfect example lets get w unapologetic agenda fights hard working people possible catch later  also hope people lay trolling  im asking honestly diverse community like mine its hard constituents understand advocating  issues impact lives considered divisive baiting people trying understand honest question  expert witness testified facial recognition encodes racial bias real consequences making many americans susceptible targeting think its relevant  adds important layer think shouldnt discuss that heres one clip recent hearing facia recognition make racial injustices worse this tech work well people color confuses innocent people criminal records  started sound alarm way facial recognition technology expanding concerning says fbi ice amazon bar consent civil liberties protection repeatedly violated top disproportionate racial impact too  best 2 know rights training canvasses filled  were adding third one bronx nyc come volunteer tomorrow 3530pm help neighbors keep safe threat presidents ice raids  also volunteer know rights canvass tomorrow 47pm volunteer  welcome multilingual vols especially helpful 200 languages spoken ny14  you nyc its time come together holding know rights canvasses tonight tomorrow help neighbors todays 630830pm   local housing community advocates already wondering whether state county officials got enough return i dont think community leaders enough families earning 20000 60000 year going sustain afford live  opposed using public money  tax giveaways build amazons hq2 queens one prime concerns driving rents working families looks like right sadly families already feeling priced arlington  heartbroken hear passing hector figueroa powerful committed labor organizer dedicated life improving lives workers 32bj across world hectors passion people devastating loss  policies grinding three ports entry practically halt called metering way completely inhumane  homan says they come port entry doesnt say admin practically closed ports asylees desperation families óscar  valeriathe father  daughter drowned did face dangerous terrain policies cruelty  hey mika  gop alleged lying accounts migrant women border particularly fact told drink toilet bowl committee staff conferred ahead time formally requesting sworn in  gop stating lying translated accounts migrants border particularly fact women drinking toilet bowl committee staff conferred ahead time requesting sworn in well said amazon quietly came nyc without needing dime public money special tax treatment jobs came without cost nyc attractive place locate incl public infra wo billions dollars corporate giveaway incentives   people come knocking open door unless signed judicial warrant check site learn handle rights 4 scenarios 7 different languages matter status is united states america  people rights know yours prepare visit learn handle  ice encounters multiple languages ice launch raids across 10 major cities sunday check neighbors  know rights remember one enter home without judicial warrant sometimes ice try show papers get house judicial warrants court 1  132 members  incl gop  independents  voted creating dept homeland security dont let people rewrite history dhsice always existed nobrainer its young agency illconceived 911  sacrificed civil liberties  like patriot act its really radical dhs 1st formed bush 17 years ago many members congress concerned  incl gop  setting ticking time bomb civil liberties erosion  abuse power discussing reorganization shouldnt question  ocasiocortezs implication that raising interest rates fear illusory inflation fed may needlessly hurt american workers powells concession point significant  thanks  appreciate that war drugs grown far beyond criminal justice system  its also evolved poverty trap impacted families today im proud work undo 1strike rules take housing opportunities away communities caught war drugs  dhs  ice flagrantly violating congressional orders said would yet    wrong oppose throwing money abusive agencies right   curious youre going defend child sexual assault seems happening watch remind sexual assault funding problem bc last checked ending holding abusers account something cant seem do  trust say dont want get caught s righteous fire kellyanne way head defending caging children  families conditions killed almost 30 people admins watch may play games peoples lives dont  being woman mean youre immune bad women genderqueer people like man doesnt mean dont role movement gender equity together think hope lost get fox news contributor realize patriarchy gender  catfight sexist term republicans use two adult women happen disagree other reason find novel exciting bc gop havent elected enough women see can fact normal occurrence functioning democracy  one devastating aspects throwing people jail lose jobs miss rent  lose home triggering cycle poverty generational consequences many dont even learn special jail exemptions theyre given rich  connected  growing food satisfying like pop outside pluck greens throw pan rinse its way better environment too gardens sequester carbon lawns plus mowing no gasoline lets bring back victory gardens  today joining pushing congress acknowledge climate emergency us isnt leading climate must lets join four leading nations  740 local governments declared climate emergency  frontline communities already impacted climate crisis  environmental injustice thats theyre named  fixing pipes flint cleaning air bronx  transitioning away pipelines reservations sets example future  hurricane sandy hit nyc 2012 femas flood maps  impact national flood insurance program   hadnt updated since 1983 government even acknowledged climate change real connected fossil fuels  severity todays flash flood has climatologically 1 chance occurring given year floods rare 100year floods expected happen regularly learned fsc hearings certain key flood maps havent updated decades  a glass water couldve beat 20yr incumbt the green dream whatever their public whatever arent quotes me they‘re speaker respect doesnt mean lack respect her means wont let everyday people dismissed  climate change intensifies flooding wildfires  extreme weather its 1 day 1 storm its them places flooding havent before 90degree days alaska june gop mock  sow confusion its home swept away gop suddenly concerned funding humanitarian crises they‘ve created lets come w actual funding package ensures person public housing drink poisoned water suffer cold winters again simple gop needs pay nycha 34b owe nycha crisis bc years gop majorities refused fund basic maintenance public housing sabatoge it nycha alone owed 34 bn vids hearings breaking horrifying neglect gop wants fund public housing  now lets go  unprecedented flooding quickly becoming new normal despite that republicans tripling fossil fuels wno plan transition them make critical infra investments need prep climate crisis day inaction puts us danger  ok everyone planning take days rest within next months sourcing ideas whats favorite us national park visit any tips visiting said park also welcome  i watched many years seen rich families held much argentinas wealth power hands government brought eight hour working day sickness pay fair wages give poor workers fair go  evita perón i know that like every woman people strength appear have  evita perón  point shouldnt even asking  demand paid least twice much  usa usa congratulations thank excellence tenacity champions spirit it proud  some teams visit pressure live there   dont believe good idea dems blindly trust trump admin many kids died custody its huge mistake admin also refuses hand docs congress whereabouts families peoples lives getting bargained  what  find strange members act though social media isnt important set millions run tv ads people see message havent dialed dollars once year  time actual job yet wed rather campaign like its 2008 public whatever called public sentiment wielding power shift actually achieve meaningful change country  bleeps happen  thank you  its honor work alongside millions people fighting education healthcare living wage rights probably spent first 10 mos primary terrified too day felt like tightrope one slip would end all fear followed aroundmoved apt courage requires fear teach handle fear help others courageous  ah yes newt  gop resorting calling liar else call liars  96 scientists agree climate change  millions americans locked war drugs  survivors ill take compliment thanks  updated  since previous one estimate cancelled veterans day military parade trump spent millions poorly attended 1 day parade days saying couldnt afford toothpaste  soap caged children ask congress military parade no trump held kids hostage secure billions abusers congress needs see that members congress asked cbp knew violently racist  sexually disturbing secret facebook group w 10000 cbp officers told us learned it looks like cbp lied reporting shows knew years big deal  cbp trying refute toilet drinking story saying toilets sinks sink cell visited wasnt functional guards told womencuban refugees  could drink bowl account corroborated members congress  pretty wild testament everyday people nyc begun vote engaged tammany hallstyle political machinery first place elections decided lawyers make millions grifting widows  orphans court  just got back visiting cbp people say trumps policies failed disagree think theyre working exactly way theyre supposed to exactly wanted happen logistical problem moral problem   republicans  cbp as would tell themselves working overtime discredit account camps however could remove entire account  claims still stand details corroborated independent 3rd parties courts inspectors  right  happy independence day american democracy unspeakable idea challenge divine right kings  aristocrats challenge structure society founders notion government people incredibly radical many ways still is  4 econ need largescale public investment spur job creation citizensimmigrants alike ideally investment transitions us sustainable economy climate  incomewise overdue rebuild american infraits going take us  immigrants it 3 border policy mentioned  its time repeal section 1325  1326 statutes admin using mindlessly throw people cages take proceedings criminal code  civil code torture accomplishes nothing 2 climate change broad consensus military activists resource strains droughts famine etc  nat disasters drivers refugees people fleeing places livable are longer get worse longer nothing thread policy approaches consider wrt immigration 1 foreign policy reinstate us humanitarian aid northern triangle people fleeing us start acting like real partner latin america increase visas intervene gops grand plan make america great again hurt children immigrants refugees thinking america isnt great  its cruel  inhumane  people dont come all america isnt america without immigrants turn away unamerican  stand bullies once gets easier following time used rights behavior towards  never get used heartless cruelty towards human beings escaping violence  despair indifference everyday americans  course prayers  work hardest honor last wish congress fmr detective luis alvarez 911 first responder  loving father 3 sons left us far soon spent last days fighting 911 victims compensation fund issues partisanship delay must pass bill soon congress reconvenes  also  maybe actually job show congressional hearing next time want talk me you ran away skipped oversight committee last week call fox friends instead  cbp officers waking women middle sleep funding problem calling migrants filthy whres funding problem threatening violence members congress funding problem no its not its far deeper systemic violent problem that 46 billion wasnt humanitarian all accountability measures facilities abuse children families didnt fix problem funded abuse dont believe billion dollar blank checks unethical abusive administrations including yours  right responding whats exposed border denying  saying im lying hard assert details shared corroborated members congress court documents migrant testimony photos released today inspector general  concentration camps according concentration camp experts people begin die due overcrowding neglect shortage resources saw three signs trip yesterday another person died yesterday deaths know about  experienced the hottest month ever recorded planet earth unless act drastically now its going get worse mean food water shelter safety need  now  many migrant women kellyanne conway touched hugged sat concrete floor with actually listened to answer none actions show doesnt believe human beings worthy basic dignity that‘s defends  muddies clear indefensible  important note many children speak indigenous languages met budding trilingual speak kiche spanish  learning english caging indigenous people hhs shelters kids get them translation lines call help  cbp pushing easily disprovable lies members congress truly nuts think week gop  dem problem solvers caucus fought eliminate accountability amendments funding wrote multibillion dollar blank check misconduct  pair  9500 current  former cbp officers part violently racist  sexually violent secret facebook group  corroborating accounts abuse  cbp couldnt control officers congressional tour else call rogue agency cant understate disturbing cbp officers openly disrespectful congressional tour officers felt comfortable violating agreements front own management  superiors tells us agency lost control officers  hey  last party went you  locked cage armed guard  drank toilet   given food poor nutritional value long gave mouth sores  cbp officers saying felt threatened  literally discussing making gofundme officer attacked tour confiscated phone armed im 54 theyre upset exposed inhumane behavior proconcentration camp  protrump protestors tried drown accounts yelled rashida tlaib pork talked facilities called joaquin castro traitor denouncing family separation heroic speaking truth vitriol  heres another photo inside taken  were trying comfort women trapped cells woman telling daughters taken  doesnt know theyve taken them held  listened them distraught officers felt brazen there mgmt telling us secure facility members congress check phones caught officers trying sneak photos laughing cbps good behavior toxic imagine treat women trapped inside  even let in women told us cbp lot cleaning up arrived moved room outside tents arrival said theyd gone 15 days wo shower  allowed start bathing 4 days ago when visit announced  members congress surrender phones todays cbp trip able get device in photo women spoke to asked permission photograph  said yes please share whats happening  meanwhile one refrain we‘ve heard people overcrowded cbp concentration camps shelters which humane places families stay together full went shelter said wasnt true all 150500 spots filled cbp made us check phones one woman slipped packet take me says shampoo told give women wash entire body nothing else womens hair falling out others gone 15 days without taking shower whats haunting women met today told uncertain terms would experience retribution telling us shared began sobbing  fear punished sickness desperation lack sleep trauma despair im way clint trump admin denying children toothpaste soap horrifying far hard understate enormity problem were talking systemic cruelty dehumanizing culture treats like animals forced cell womenbegan speaking them one described treatment hands officers psychological warfare  waking odd hours reason calling whres etc tell due lack funding ive seen inside facilities its kids its everyone people drinking toilets officers laughing front members congress brought superiors said officers stress  act sometimes accountability left 1st cbp facility see cbp officers physically sexually threatening towards me officers keeping women cells water  told drink toilets good behavior front members congress 20000 total customs  border patrol agents us 9500  almost half number  racist  sexually violent secret cbp facebook group theyre threatening violence members congress think theyre treating caged childrenfamilies  9500 cbp officers sharing memes dead migrants discussing violence sexual misconduct towards members congress earth cbps culture trusted care refugees humanely ps plans change itinerary  visit cbp station today broke secret facebook group 9500 cbp officers discussed making gofundme officers harm  rep escobar visit cbp facilities  mocked migrant deaths isnt a bad eggs violent culture  landed el paso last night several members congress tour migrant camp facilities meanwhile mcallen scene via   chip legal fund here direct actions profound solidarity like these hold enormous power change country thank  courage compassion selflessness pursuit justice  also deserving attention support 36 young jewish activists arrested today nonviolent direct action migrant conditions elizabeth nj learn advocacy support bail fund  fundraising deadline hour id like share fundraising \\u2066\\u2069 swingseater stood immigrant dignity week split show immigrant dignity shouldnt partisan issuebut human issue  and thats even take trash doubt words republicans criticize waitress evidence lacking skill take classism trash insulting capacities potential virtually every working person america the  experience thats earned bought nuanced intelligent  grounded people i‘ve ever met werent bu mit harvard events student plumbers  waitresses hung happy hour ferocious intellectual curiosity and lived context real world working people gop dismiss just waitresscooketc contain multitudes  capable  intelligent anyone classism  judging someones character income  disappointing see them appalling gop honest job always i‘m proud work restaurants also worked sen ted kennedy piloted literacy projects south bronx studied development economics w africa served educational director  international science competitions ran office too heres how  actually would make government better  worse imagine people power spent years lives actually working living wed probably healthcare living wages now  climate its easy follow – detriments following late control destiny enormously easy dont determine future seems if really its decision whether were going lead not 2 leadership difficult leadership responsibility leadership things anybody else them leadership taking risks leadership taking decisions dont know 100 outcome going be 1  6 this please tell manhattan im trying get phone calls  may shocking some someones daughter actually isnt career qualification hurts diplomatic standing president phones  world moves on us needs president working g20 bringing qualified diplomat couldnt hurt either  course statute abolished doesnt mean unfairness gone remaining life  death implications statutes  how laws enforced thats key part policy wide range issues schooling marijuana  yes immigration too dred scott landmark supreme court case found us constitution didnt give citizenship black people 1st us immigration law chinese exclusion act racebased policy upheld 1942 national origins formula lasted til ‘65 history citizenship us deeply woven history racism used legal enforcer racism us history citizenship affords power  thats citizenship african americans long denied  slaves  descendants reason abuela legal likely bc effectively illegal us immigration came except chinese us first imm law chinese exclusion act  explicit racism allowed legal grounds us immigration laws 1952  \\u2066i know many people feel hopeless ask me what do say act honor share conversation you \\u2066\\u2069 thank one leading voices climate action today  reminder camps run at profit financed private equity groups many lobby politicians imprison people wall street made human rights abuse incentivized forprofit venture  pretty awful right would make joke visiting child cbp camp  fitting given dont seem care one shred peoples lives ps watch belonged dad last  possession left me wear mark important moments  partys on  yes may white house wed happy welcome  entire tour house representatives anytime theyd like  gotta love rich irony people fondly recount stories familys last names changed ellis island relatives snuck onto boat escaping horror taking fervent antiimmigrant stances  branding innocent human beings illegal one narrative country need turn head lie immigrants takers represent weight society its wrong immigrants makers createoffer opportunity arent weight carry fact nations shoulders truly say you one least brothers me  emperor clothes gop truly plan agenda  positive vision future united states win fight unapologetically future people  incl healthcare education labor human rights  dignity its worked recent history btw  keep it got dems kill public option years ago imagine last decade w public option wish party bold gop accuses wed win more imo congressional hispanic caucus which ideologically diverse concurs officially recommending vote  senate bill us write 46 billion blank check incl military  border w accountability  verbal pinky promise trump trusted protecting immigrants must even stated need hard lines protection ink  time stay town least add amendments senate bill pass completely unamended house input seems bridge far 0 negotiation house offered crucial amendments protect children families  none even considered minority different majority senate deal lack power there house majority seat table 0 conferencing house dems 0 amendments accepted  including crucial amendments would prevent suffering enormous frustration capitulation senate minority aside majority house need use it circumstances house vote mcconnellonly bill negotiation democrats hell no thats abdication power refuse accept keep hurting kids do congress gets gold plan pick aca exchange spoiler insurance still pain consumer choice picking btwn 56 diff plans tough distinguish comparison web tool  its still confusing healthcare  insurance day  president lift finger save kids well within power  mitch mcconnell would rather cast blame anything need get board clean humanitarian bill cant write nostrings blank checks abusive facilities meeting asked why president take money agencies build little wall cant move money get kids toothpaste its bc natl emergency build wall wont declare emergency save kids  get help senate bill militarization bill mcconnell killed house bill  dropped one right recess force passage well bad job cancel vacation fly senate in pass clean humanitarian bill  stop trying squeeze crises pain mitch mcconnell killed house border  poison pill riders poison pills hes talking about protections kids  punishment inhumane facility cos gop heightening children‘s pain political gain its horrifying  taking notes share tonight   last week called concentration camps border are week since  acting director customs  border patrol resigned  bank america announced stop financing forprofit immigrant detention  private prisons words matter  today marks one year since primary election transformative year myself community overall progressive movement reflect throughout day main sentiment want share is thank you yet one reason abolish electoral college  meet machine movement  incredibly proud  every single person showed election today matter ends stunned ny politics tonight people come together beat big money elections people power fluke   wayfair workers couldnt stomach making beds cage children asked company stop ceo said no tomorrow they‘re walking out solidarity looks like  reminder everyday people real power long were brave enough use it  its wild think third way gotten along sensible dem charade long has ive met trump voters ind voters cant recall single voter ive met us ids third way voter admit youre wall st advocacy group  move on  queens residents today day vote da communities win turn high numbers lets get elected voted yet check  tell us went reminder caging kids forprofit enterprise  people profit camps finance political campaigns legislate caging want follow money geo group  corecivic big ones look lenders  private equity grps deal with  ill never forget this moment saw eyes america love becoming nation steals refugee children parents caged them kids died this date one held accountable need save kids  yes treatment bad  one thing ive learned right theyre bark stomp whine burst hyperbole  bc rely dems backing gop creates controversy dont know stick principles  doubt it heres original tweet deliberate intentional wild jump made republicans frankly often explicit purpose eliciting  manipulating pain political purposes meanwhile kids still dying  reminder member directly  explicitly compared concentration camps border holocaust liz cheney horrors holocaust went beyond use concentration camps yet camps part process also used after student loan crisis keeping people from becoming teachers  public careers buying homes  large purchases starting families educating specialized degrees result its impacting entire economy  student loans scam thats join   forgive student loans make colleges tuitionfree ps cost gop tax scam 2 trillion couldve already forgiven every student loan america billions left over  were couple girls standing front borough organizing dismantle carceral state live queens vote vote tomorrow  set reminder cant vote find voter send polls remember bush administration bullied media using devised term enhanced interrogation instead accurate term torture well waterboarding torture concentration camps journalism truth truth  absolutely zero patience completely certified cardcarrying flagwaving racists none take little tiki torches somewhere else dont give inch second sliver sunlight time day neither you last time went trip reported also met fringe austrian neonazi groups talk shop im going decline invite thank revealing transparently farright manipulates moments political gain  hey  youre gop conference chair  perhaps come collect colleague members caucus start saying quiet parts loud mr king republican party literally stripped congressional committee assignments racist even them jewish constituents made clear proudly stand caged children starved denied sleep  sanitation bye   people protesting peacefully  hence posters  firearms  call threaten violent attack militia vs others domestic terrorists  dramatic way deal sunday scaries help find therapist  bx pride speech ever gave really cued horns policy points theres place like home powerful entity trying grow system human rights abuse which is its us smallest biggest throw sand gears stop it cannot compliant child abuse judges astounded argument   reminder admin choosing round refugees seeking asylum fighting give children toothpaste soap  making people sleep dirt floors say its bc lack  know saves money putting masses people internment first place gop supported building mass concentration camps southern border kids  families dying want money  zero negotiation  spent cant that they‘ve shown get money build camps  please share info widely  make sure neighbors it home safe space others let neighbors community know  even its relax stress time plan prepare  protect neighbors  warning trump admin expected begin ice raids across country tomorrow targeting people round up time us come together  check neighbors  share know rights info  see ice report 18443631423  philadelphia oil refinery exploded morning so whats climate change isnt existential crisis disproportionately impact working class people  burn way up need solution scale crisis  president needs impeached long supports jailing children families border continue hold account it thats im calling rep mccarthy apologize aiding supporting separation children parents united states name american people its child abuse its indefensible cannot wring hands discomfort reality situation must courage see is  thank you  queens residents vote next tuesday bring revolution criminal justice  administration needs put saber pick phone diplomacy grants us peace stability  war  yesterday listened powerful testimony ms gray west virginia nurse front lines opioid crisis said we cant arrest way crisis proud pass amendment bipartisan support move away imprisonment towards healing  folks saying gloss this think its important realize cant risk depressed turnout 2020 original remark valid ask  discussion clarify  dismiss compassionate toward other silent record cory booker not owe joe biden apology pointing waxing nostalgic working segregationists insensitive he knows better really better stay quiet it  im curious  would like people call trumprun human cages according you concentration camp experts  historians wrong call it term makes feel better brutality internment detention freedom center  calling camps fit squarely academic consensus definition history kind stood injustice say will kids dying im make people feel comfortable that heroes ones stood wasnt easy kids dying cages border families put freezers  dog pounds years now people look journalists officials  everyday people stood right realtime well  fact slipped nazi never said pretty unfortunate almost unfortunate fact spent whole time wo discussing dhs freezers dog pounds missing children  human rights abuses uphold use term  ‘ repeatedly asked sec pompeos advisor constitution gives congress power declare war would say yes lieu submitted constitution record  today celebrate  day celebrate emancipation slavery united states day congress held hearing reparations massive crowd showed it tanehisi coates opening statement stirring mustwatch  whats worse congress asked dhs documents whereabouts children taken parents we‘ve asked details  records camp conditions dhs refused cooperate provide congress requested information doesnt concern  dhs ripped 1000s children parents  put cages w inhumane conditions call cells dog pounds  freezers never apologize calling camps are makes uncomfortable fight camps  nomenclature  thank you   someone didnt go twitter class one dime go dhs building camps detain children  families congressional appropriations season now means its time  we‘re voting fund federal government programs fund caging kids  families pretty simple us ran concentration camps before rounded japanese people wwii shameful history largely ignore it camps occur throughout history many refuse learn shame today obligation end them  ah yes history knows people run concentration camp systems almost always acknowledge public theyre doing  also  fact employed horrifying word exterminated coopting language oppressor tells us its you needs brush reading hope enjoy defending concentration camps wont back fighting them  video 1 year ago week  primary  fox news cycle flew concentration camp trump admin keeping children stole parents back then voicing conscience still am hey rep cheney since youre eager educate me im curious call building mass camps people detained without trial would dress dhss mass separation thousands children border parents  shrieking republicans dont know difference concentration camps death camps concentration camps considered experts the mass detention civilians without trial thats exactly administration doing concentration camps death camps important distinction one biggest lessons dark history didnt happen overnight emerged slow increasingly concerning steps acclimated public inhumane treatment administration established concentration camps southern border united states immigrants brutalized dehumanizing conditions dying hyperbole conclusion expert analysis  thank  likewise thanks  schedule drug shows promise treating ptsd severe depression opioid addiction perhaps drug morally wrong law schedule  statute its time end war drugs  right bc sucking puerto ricans  full us citizens  dry closing public schools building fossil fuel pipelines will  allowing vote vulture funds levg islands illegal debt wall st profit is old fashioned american capitalism  person working 40hweek  paid little need gov help make ends meet its person thats weight system  its company people need paid living wage stand cos rely food stamps make low wages day one really 1 10 amazons ohio employees food stamps company opened fulfillment centers state paying fulltime employees little require gov food assistance paying starvation wages means   mr president youre queens may fool rest country ill call bluff day week opening impeachment inquiry exactly must president obstructs justice advises witnesses ignore legal subpoenas  more bye  errol snapped need talk healthcare incarcerated women  people federal statutes prevent funding reproductive healthcare prisons thats wrong moment exempt some threaten healthcare us all lets repeal hyde  end inhumane system mass incarceration   mangipasta arthur ave super fresh handmade italian family owned  taqueria tlaxcalli  neerobon bangla bazaarmcgraw ave incredible  louie  ernies  top nyc pizza spot  district  looking forward it  pass bills  affordable birth control pills  dont want to  gop  bills congressional destinys child cc  ive spoken previously offices parental leave policy 12 weeks paid leave new parents  dads included first 6 months term two staff babies one expecting heres weve worked things far  good news one amendments pass bipartisan support funding treatment opioidrelated infectious diseases leg pass help many americans struck opioid crisis one didnt lays groundwork future breakthroughs sadly drug research amendment failed today im undeterred im proud even able bring vote psychedelic research house floor 30 veterans considered suicide drugs show extreme promise treating ptsd  more lets keep it  bill bipartisan support also bipartisan opposition many dem  gop alike uncomfortable letting federal researchers merely study clinical promise certain drugs  even veteran ptsd call help see shift public sentiment debate arguments didnt make much sense outright false  legal argument to take schedule study it doesnt make sense  scientific evidence help that  bunch claims marijuana  wo study claims unsupported yesterday offered amendment allow fed researchers study schedule drugs incl  mdma  ptsd  psilocybin  severe depression  ibogaine  opioid withdrawal house votes today youre supportive call rep dont assume theyll vote  let know  im preside votes again fire feeds check amendments were passing fund favorite federal programs dred scott korematsu vs united states citizens united party aside supreme court gotten things horrifyingly wrong past thats congress must preserve power independence part check  balance  yep excited sign damn shame must pass 911 victims compensation fund its procedure its showing heroes us dont sit committee first responders today would like meet me let know  one way everyday people help check see rep cosponsored bill many not check whos here member isnt bill call ask not  hey  thanks asking vcf held bipartisan press conference last weekend cosponsors  bill getting hearing judiciary committee thats key step need getting vote floor  passing house wouldnt great kinds educational opportunities available seniors single parents careerswitchers etc at say community colleges across country thing could possible tuitionfree public colleges universities  yep its cost living adjustments were also fighting living wage interns  strong staffer salaries too dc teeming w staffers whose parents subsidized lowwage or wage jobs thats partly many policies touch  democratically socialist businesses like worker coops methods like collective bargaining actually vote worker pay increase many do cant pass laws bc big money chip it like said its popular im  its fun politically popular position take consistency important workers get cost living increases thats minimum wage pegged inflation too voting cost living increases 1 reason dark  loopholes stay open punish members rely straight salary reward rely money loopholes forms selfdealing example incentivizes horrible kinds legislative looting saw gop tax scam bill yep voting cost living increases members congress may sound nice increases pressure keep dark money loopholes open makes campaign finance reform harder workers deserve cost living increases incl min wage workers  human tortured united states means one kept solitary confinement layleen polanco was shes gone  500 bail  low lvl offense  yikes ceo news media company almost full year late one laziest takes 2018 begs question else behind wrong about  bipartisan support amendment allowing expanded research psychedelics important several studies shown promise treatmentresistant ptsd severe depression  more war drugs caused much harm its time reverse it  imagine home destroyed losing child devastating flood whole crop wiped crippling communitys future someone comes says well its end world thats gops stance climate change  crowd uses free speech arguments defend bigotry anywhere  everywhere starts demand censorship key terms congressional hearings know somethings up  think lot policies support lens family  ending war drugs helps keep families together  living wage  strong worker protections frees parents invest time kids  healthcare ensures parents  babies healthier ive worked w lot kids past educational work ones act up almost always issues home otherwise esp comes elementary students suspension  detention make things worse kids need healing toolspolicy helps families  met trans constituents put rikers women told misgendered upon arrest even postsurgery forced cells men putting extreme risk its hard get treatments too layleens family deserves know happened her  folks dont get it nyc citibikes charge per 15 mins undocked picture could look like someone undocked bike  left workday flex term people use subtly showing something  connect etc ppl joke airpods flex'"
      ]
     },
     "execution_count": 99,
     "metadata": {},
     "output_type": "execute_result"
    }
   ],
   "source": [
    "tweets"
   ]
  },
  {
   "cell_type": "code",
   "execution_count": null,
   "metadata": {},
   "outputs": [],
   "source": [
    "lib_test_list = [tweets]"
   ]
  },
  {
   "cell_type": "code",
   "execution_count": 70,
   "metadata": {},
   "outputs": [],
   "source": [
    "lib_test_vecs = vectorizer.transform(lib_test_list)\n",
    "con_test_vecs = vectorizer.transform(con_test_list)"
   ]
  },
  {
   "cell_type": "code",
   "execution_count": 71,
   "metadata": {},
   "outputs": [],
   "source": [
    " = clf.predict(lib_test_vecs)"
   ]
  },
  {
   "cell_type": "code",
   "execution_count": 72,
   "metadata": {
    "scrolled": true
   },
   "outputs": [
    {
     "data": {
      "text/plain": [
       "array(['liberal'], dtype='<U12')"
      ]
     },
     "execution_count": 72,
     "metadata": {},
     "output_type": "execute_result"
    }
   ],
   "source": [
    "ya"
   ]
  },
  {
   "cell_type": "code",
   "execution_count": null,
   "metadata": {},
   "outputs": [],
   "source": []
  }
 ],
 "metadata": {
  "kernelspec": {
   "display_name": "Python 3",
   "language": "python",
   "name": "python3"
  },
  "language_info": {
   "codemirror_mode": {
    "name": "ipython",
    "version": 3
   },
   "file_extension": ".py",
   "mimetype": "text/x-python",
   "name": "python",
   "nbconvert_exporter": "python",
   "pygments_lexer": "ipython3",
   "version": "3.7.3"
  }
 },
 "nbformat": 4,
 "nbformat_minor": 2
}
