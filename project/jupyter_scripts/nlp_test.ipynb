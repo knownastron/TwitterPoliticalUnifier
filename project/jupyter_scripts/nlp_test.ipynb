{
 "cells": [
  {
   "cell_type": "code",
   "execution_count": null,
   "metadata": {},
   "outputs": [],
   "source": [
    "import sys\n",
    "sys.path.append('../')\n",
    "from SQLConnection import LocalConnection\n",
    "from SQLConnection import AWSConnection\n",
    "sys.path.append('../databases')\n",
    "import mysql_aws_credentials as aws\n",
    "from Format import Format\n",
    "import re"
   ]
  },
  {
   "cell_type": "code",
   "execution_count": null,
   "metadata": {},
   "outputs": [],
   "source": []
  },
  {
   "cell_type": "code",
   "execution_count": null,
   "metadata": {},
   "outputs": [],
   "source": []
  },
  {
   "cell_type": "code",
   "execution_count": null,
   "metadata": {},
   "outputs": [],
   "source": []
  },
  {
   "cell_type": "code",
   "execution_count": null,
   "metadata": {},
   "outputs": [],
   "source": [
    "cons_test_users = aws_conn.get_users_by_pol_label('conservative')\n",
    "libs_test_users = aws_conn.get_users_by_pol_label('liberal')\n",
    "cons_train_users = local_conn.get_users_by_pol_label('conservative')\n",
    "libs_train_users = local_conn.get_users_by_pol_label('liberal')"
   ]
  },
  {
   "cell_type": "code",
   "execution_count": null,
   "metadata": {},
   "outputs": [],
   "source": [
    "print(cons_train_users.__len__())\n",
    "print(libs_train_users.__len__())\n",
    "cons_train_users[12]"
   ]
  },
  {
   "cell_type": "code",
   "execution_count": null,
   "metadata": {},
   "outputs": [],
   "source": [
    "test_tweets = local_conn.get_all_tweets_by('sentedcruz')\n",
    "test_tweets1 = local_conn.get_all_tweets_by('aoc')"
   ]
  },
  {
   "cell_type": "code",
   "execution_count": null,
   "metadata": {},
   "outputs": [],
   "source": [
    "test_tweet = test_tweets[0][1]"
   ]
  },
  {
   "cell_type": "code",
   "execution_count": null,
   "metadata": {},
   "outputs": [],
   "source": [
    "import nltk\n",
    "nltk.download('stopwords')\n",
    "import string"
   ]
  },
  {
   "cell_type": "code",
   "execution_count": null,
   "metadata": {},
   "outputs": [],
   "source": [
    "# import nltk\n",
    "# nltk.download('stopwords')\n",
    "# import string\n",
    "# stopwords = nltk.corpus.stopwords.words('english')\n",
    "# def remove_stopwords(input_text):\n",
    "#     stopwords = set(nltk.corpus.stopwords.words('english'))\n",
    "#     stopwords.add('it\\'s')\n",
    "#     stopwords.add('w/')\n",
    "#     stopwords.add('\\'s')\n",
    "#     input_text_split = input_text.split()\n",
    "#     output_text_split = [word for word in input_text_split if word not in stopwords]\n",
    "#     return \" \".join(output_text_split)"
   ]
  },
  {
   "cell_type": "code",
   "execution_count": null,
   "metadata": {},
   "outputs": [],
   "source": []
  },
  {
   "cell_type": "code",
   "execution_count": null,
   "metadata": {
    "scrolled": false
   },
   "outputs": [],
   "source": [
    "denoised = []\n",
    "denoised1 = []\n",
    "for tweet in test_tweets:\n",
    "    denoised.append(Format.denoise_tweet(tweet[1]))\n",
    "    \n",
    "for tweet in test_tweets1:\n",
    "    denoised1.append(Format.denoise_tweet(tweet[1]))"
   ]
  },
  {
   "cell_type": "code",
   "execution_count": null,
   "metadata": {},
   "outputs": [],
   "source": [
    "tokens = []\n",
    "for i,d in enumerate(denoised):\n",
    "    tokens.extend(d.split())\n",
    "    \n",
    "tokens1 = []\n",
    "for i,d in enumerate(denoised1):\n",
    "    print(i, test_tweets1[i][1])\n",
    "    print('////')\n",
    "    print(d,'\\n')\n",
    "    tokens1.extend(d.split())"
   ]
  },
  {
   "cell_type": "code",
   "execution_count": null,
   "metadata": {},
   "outputs": [],
   "source": [
    "import collections\n",
    "count = collections.Counter(tokens)\n",
    "# count.most_common(50)"
   ]
  },
  {
   "cell_type": "code",
   "execution_count": null,
   "metadata": {},
   "outputs": [],
   "source": [
    "import collections\n",
    "count1 = collections.Counter(tokens1)\n",
    "# count1.most_common(50)"
   ]
  },
  {
   "cell_type": "code",
   "execution_count": null,
   "metadata": {},
   "outputs": [],
   "source": [
    "print(t, '\\n')\n",
    "t = Format.remove_hashtags(t)\n",
    "print(t, '\\n')\n",
    "t = Format.remove_mentions(t)\n",
    "print(t, '\\n')\n",
    "t = remove_stopwords(t)\n",
    "print(t, '\\n')\n",
    "t = Format.remove_picture_links(t)\n",
    "print(t, '\\n')\n",
    "t = t.translate(str.maketrans('','',string.punctuation + '—' + '“' + '…'))\n",
    "print(t, '\\n')\n",
    "t.split()"
   ]
  },
  {
   "cell_type": "code",
   "execution_count": null,
   "metadata": {},
   "outputs": [],
   "source": [
    "tweet_text = test_tweets[73][1]\n",
    "tweet_text"
   ]
  },
  {
   "cell_type": "code",
   "execution_count": null,
   "metadata": {},
   "outputs": [],
   "source": [
    "tweet_text = Format.remove_picture_links(tweet_text)\n",
    "print(tweet_text, '\\n')\n",
    "tweet_text = tweet_text.lower()\n",
    "print(tweet_text, '\\n')\n",
    "tweet_text = Format.remove_hashtags(tweet_text)\n",
    "print(tweet_text, '\\n')\n",
    "tweet_text = Format.remove_mentions(tweet_text)\n",
    "print(tweet_text, '\\n')\n"
   ]
  },
  {
   "cell_type": "code",
   "execution_count": null,
   "metadata": {},
   "outputs": [],
   "source": [
    "from sklearn.feature_extraction.text import TfidfVectorizer \n",
    "from sklearn.metrics import classification_report\n",
    "from sklearn import svm \n",
    "from sklearn.model_selection import train_test_split"
   ]
  },
  {
   "cell_type": "code",
   "execution_count": null,
   "metadata": {},
   "outputs": [],
   "source": [
    "cons_test_users = aws_conn.get_users_by_pol_label('conservative')\n",
    "libs_test_users = aws_conn.get_users_by_pol_label('liberal')\n",
    "cons_train_users = local_conn.get_users_by_pol_label('conservative')\n",
    "libs_train_users = local_conn.get_users_by_pol_label('liberal')"
   ]
  },
  {
   "cell_type": "code",
   "execution_count": null,
   "metadata": {},
   "outputs": [],
   "source": [
    "print(len(cons_test_users))\n",
    "print(len(libs_test_users))\n",
    "print(len(cons_train_users))\n",
    "print(len(libs_train_users))"
   ]
  },
  {
   "cell_type": "code",
   "execution_count": null,
   "metadata": {},
   "outputs": [],
   "source": [
    "# ('sentedcruz', 1074480192, '1074480192', 'conservative', None)\n",
    "corpus = []\n",
    "for i, user in enumerate(cons_train_users):\n",
    "    tweets = local_conn.get_all_tweets_by(user[0])\n",
    "    tweets = [x[1] for x in tweets]\n",
    "    tweets = \" \".join(tweets)\n",
    "    tweets = denoise_tweet(tweets)\n",
    "    corpus.append((user[0],tweets, user[3]))\n",
    "    \n",
    "for user in libs_train_users:\n",
    "    tweets = local_conn.get_all_tweets_by(user[0])\n",
    "    tweets = [x[1] for x in tweets]\n",
    "    tweets = \" \".join(tweets)\n",
    "    tweets = denoise_tweet(tweets)\n",
    "    corpus.append((user[0], tweets, user[3]))"
   ]
  },
  {
   "cell_type": "code",
   "execution_count": null,
   "metadata": {},
   "outputs": [],
   "source": [
    "for i, user in enumerate(cons_test_users):\n",
    "    tweets = aws_conn.get_all_tweets_by(user[0])\n",
    "    tweets = [x[1] for x in tweets]\n",
    "    tweets = \" \".join(tweets)\n",
    "    tweets = denoise_tweet(tweets)\n",
    "    corpus.append((user[0], tweets, user[3]))\n",
    "    \n",
    "for i, user in enumerate(libs_test_users):\n",
    "    tweets = aws_conn.get_all_tweets_by(user[0])\n",
    "    tweets = [x[1] for x in tweets]\n",
    "    tweets = \" \".join(tweets)\n",
    "    tweets = denoise_tweet(tweets)\n",
    "    corpus.append((user[0], tweets, user[3]))"
   ]
  },
  {
   "cell_type": "code",
   "execution_count": null,
   "metadata": {},
   "outputs": [],
   "source": [
    "len(corpus)\n"
   ]
  },
  {
   "cell_type": "code",
   "execution_count": null,
   "metadata": {},
   "outputs": [],
   "source": [
    "data = []\n",
    "labels = []\n",
    "for row in corpus:\n",
    "    data.append(row[1])\n",
    "    labels.append((row[0], row[2]))"
   ]
  },
  {
   "cell_type": "code",
   "execution_count": null,
   "metadata": {},
   "outputs": [],
   "source": [
    "x_train, x_test, y_train, y_test = train_test_split(data, labels, test_size = 0.1, random_state=6)"
   ]
  },
  {
   "cell_type": "code",
   "execution_count": null,
   "metadata": {},
   "outputs": [],
   "source": [
    "y_train_username = []\n",
    "y_train_label = []\n",
    "\n",
    "for y in y_train:\n",
    "    y_train_username.append(y[0])\n",
    "    y_train_label.append(y[1])"
   ]
  },
  {
   "cell_type": "code",
   "execution_count": null,
   "metadata": {},
   "outputs": [],
   "source": [
    "print(len(y_train_username))\n",
    "print(len(y_train_label))"
   ]
  },
  {
   "cell_type": "code",
   "execution_count": null,
   "metadata": {},
   "outputs": [],
   "source": []
  },
  {
   "cell_type": "code",
   "execution_count": null,
   "metadata": {},
   "outputs": [],
   "source": [
    "print(len(y_test_username))\n",
    "print(len(y_test_label))"
   ]
  },
  {
   "cell_type": "code",
   "execution_count": null,
   "metadata": {},
   "outputs": [],
   "source": [
    "# data = test_data + train_data\n",
    "# labels = test_labels + train_labels\n",
    "# x_train, x_test, y_train, y_test = train_test_split(data, labels, test_size = 0.33, random_state=42)"
   ]
  },
  {
   "cell_type": "code",
   "execution_count": null,
   "metadata": {},
   "outputs": [],
   "source": []
  },
  {
   "cell_type": "code",
   "execution_count": null,
   "metadata": {},
   "outputs": [],
   "source": [
    "# Create feature vectors \n",
    "vectorizer = TfidfVectorizer(min_df=4, max_df=0.9)\n",
    "# Train the feature vectors\n",
    "train_vectors = vectorizer.fit_transform(x_train) #(train_data)\n",
    "# Apply model on test data \n",
    "test_vectors = vectorizer.transform(x_test)#(test_data)"
   ]
  },
  {
   "cell_type": "code",
   "execution_count": null,
   "metadata": {
    "scrolled": true
   },
   "outputs": [],
   "source": [
    "# Perform classification with SVM, kernel=linear \n",
    "model = svm.SVC(kernel='linear') \n",
    "model.fit(train_vectors, y_train_label) \n",
    "prediction = model.predict(test_vectors)\n"
   ]
  },
  {
   "cell_type": "code",
   "execution_count": null,
   "metadata": {},
   "outputs": [],
   "source": [
    "print(len(prediction))"
   ]
  },
  {
   "cell_type": "code",
   "execution_count": null,
   "metadata": {
    "scrolled": false
   },
   "outputs": [],
   "source": [
    "for i, pred in enumerate(prediction):\n",
    "    if y_test_label[i] != pred:\n",
    "        print(y_test_username[i], pred)"
   ]
  },
  {
   "cell_type": "code",
   "execution_count": null,
   "metadata": {},
   "outputs": [],
   "source": [
    "print (classification_report(y_test_label, prediction))\n",
    "# print(len(y_test_label))"
   ]
  },
  {
   "cell_type": "markdown",
   "metadata": {},
   "source": [
    "# START\n"
   ]
  },
  {
   "cell_type": "code",
   "execution_count": 4,
   "metadata": {},
   "outputs": [
    {
     "name": "stderr",
     "output_type": "stream",
     "text": [
      "[nltk_data] Downloading package stopwords to\n",
      "[nltk_data]     /Users/knownastron/nltk_data...\n",
      "[nltk_data]   Package stopwords is already up-to-date!\n"
     ]
    }
   ],
   "source": [
    "import sys\n",
    "sys.path.append('../')\n",
    "from SQLConnection import LocalConnection\n",
    "from SQLConnection import AWSConnection\n",
    "sys.path.append('../databases')\n",
    "import mysql_aws_credentials as aws\n",
    "from Format import Format\n",
    "import re\n",
    "import nltk\n",
    "nltk.download('stopwords')\n",
    "import string\n",
    "import joblib\n",
    "\n",
    "from sklearn.feature_extraction.text import TfidfVectorizer \n",
    "from sklearn.metrics import classification_report\n",
    "from sklearn import svm \n",
    "from sklearn.model_selection import train_test_split"
   ]
  },
  {
   "cell_type": "code",
   "execution_count": 5,
   "metadata": {},
   "outputs": [],
   "source": [
    "local_conn = LocalConnection('../databases/main.db')\n",
    "aws_conn = AWSConnection(aws.HOST, aws.PORT, aws.DATABASE_NAME, aws.USER, aws.PASSWORD)\n",
    "\n",
    "cons_test_users = aws_conn.get_users_by_pol_label('conservative')\n",
    "libs_test_users = aws_conn.get_users_by_pol_label('liberal')\n",
    "cons_train_users = local_conn.get_users_by_pol_label('conservative')\n",
    "libs_train_users = local_conn.get_users_by_pol_label('liberal')"
   ]
  },
  {
   "cell_type": "code",
   "execution_count": 10,
   "metadata": {},
   "outputs": [],
   "source": [
    "corpus = []\n",
    "#add all tweet data to corpu\n",
    "for i, user in enumerate(cons_train_users):\n",
    "    tweets = local_conn.get_all_tweets_by(user[0])\n",
    "    tweets = [x[1] for x in tweets] #extract just the tweet text\n",
    "    tweets = \" \".join(tweets) #join all tweets into one big blob\n",
    "    tweets = Format.denoise_tweet(tweets)\n",
    "    corpus.append((user[0], tweets, user[3])) #usernames, tweet blob, label\n",
    "    \n",
    "for user in libs_train_users:\n",
    "    tweets = local_conn.get_all_tweets_by(user[0])\n",
    "    tweets = [x[1] for x in tweets]\n",
    "    tweets = \" \".join(tweets)\n",
    "    tweets = Format.denoise_tweet(tweets)\n",
    "    corpus.append((user[0], tweets, user[3]))"
   ]
  },
  {
   "cell_type": "code",
   "execution_count": 11,
   "metadata": {},
   "outputs": [],
   "source": [
    "for i, user in enumerate(cons_test_users):\n",
    "    tweets = aws_conn.get_all_tweets_by(user[0])\n",
    "    tweets = [x[1] for x in tweets]\n",
    "    tweets = \" \".join(tweets) #join all tweets into one big blob\n",
    "    tweets = Format.denoise_tweet(tweets)\n",
    "    corpus.append((user[0], tweets, user[3]))\n",
    "    \n",
    "for i, user in enumerate(libs_test_users):\n",
    "    tweets = aws_conn.get_all_tweets_by(user[0])\n",
    "    tweets = [x[1] for x in tweets]\n",
    "    tweets = \" \".join(tweets)\n",
    "    tweets = Format.denoise_tweet(tweets)\n",
    "    corpus.append((user[0], tweets, user[3]))"
   ]
  },
  {
   "cell_type": "code",
   "execution_count": 12,
   "metadata": {},
   "outputs": [],
   "source": [
    "data = []\n",
    "labels = []\n",
    "for row in corpus:\n",
    "    data.append(row[1])\n",
    "    labels.append((row[0], row[2]))"
   ]
  },
  {
   "cell_type": "code",
   "execution_count": 13,
   "metadata": {},
   "outputs": [
    {
     "name": "stdout",
     "output_type": "stream",
     "text": [
      "629\n"
     ]
    }
   ],
   "source": [
    "print(len(data))"
   ]
  },
  {
   "cell_type": "code",
   "execution_count": 87,
   "metadata": {},
   "outputs": [],
   "source": [
    "x_train, x_test, y_train, y_test = train_test_split(data, labels, test_size = 0.10, random_state=8)"
   ]
  },
  {
   "cell_type": "code",
   "execution_count": 88,
   "metadata": {},
   "outputs": [],
   "source": [
    "#create lists of usernames and labels for training and test data\n",
    "y_train_username = []\n",
    "y_train_label = []\n",
    "\n",
    "for y in y_train:\n",
    "    y_train_username.append(y[0])\n",
    "    y_train_label.append(y[1])\n",
    "    \n",
    "y_test_username = []\n",
    "y_test_label = []\n",
    "\n",
    "for y in y_test:\n",
    "    y_test_username.append(y[0])\n",
    "    y_test_label.append(y[1])"
   ]
  },
  {
   "cell_type": "code",
   "execution_count": 89,
   "metadata": {},
   "outputs": [],
   "source": [
    "# Create feature vectors \n",
    "vectorizer = TfidfVectorizer(min_df=4, max_df=0.9)\n",
    "# Train the feature vectors\n",
    "train_vectors = vectorizer.fit_transform(x_train) #(train_data)\n",
    "# Apply model on test data \n",
    "test_vectors = vectorizer.transform(x_test)#(test_data)"
   ]
  },
  {
   "cell_type": "code",
   "execution_count": 90,
   "metadata": {},
   "outputs": [],
   "source": [
    "# Perform classification with SVM, kernel=linear \n",
    "model = svm.SVC(kernel='linear') \n",
    "model.fit(train_vectors, y_train_label) \n",
    "prediction = model.predict(test_vectors)"
   ]
  },
  {
   "cell_type": "code",
   "execution_count": 91,
   "metadata": {
    "scrolled": true
   },
   "outputs": [
    {
     "name": "stdout",
     "output_type": "stream",
     "text": [
      "              precision    recall  f1-score   support\n",
      "\n",
      "conservative       0.97      1.00      0.98        32\n",
      "     liberal       1.00      0.97      0.98        31\n",
      "\n",
      "    accuracy                           0.98        63\n",
      "   macro avg       0.98      0.98      0.98        63\n",
      "weighted avg       0.98      0.98      0.98        63\n",
      "\n"
     ]
    }
   ],
   "source": [
    "print (classification_report(y_test_label, prediction))"
   ]
  },
  {
   "cell_type": "code",
   "execution_count": 86,
   "metadata": {},
   "outputs": [
    {
     "name": "stdout",
     "output_type": "stream",
     "text": [
      "emmaogreen conservative\n",
      "mariodb liberal\n",
      "yashar conservative\n",
      "maggienyt conservative\n",
      "senatorcollins liberal\n",
      "buzzfeedben conservative\n"
     ]
    }
   ],
   "source": [
    "for i, pred in enumerate(prediction):\n",
    "    if y_test_label[i] != pred:\n",
    "        print(y_test_username[i], pred)"
   ]
  },
  {
   "cell_type": "code",
   "execution_count": 20,
   "metadata": {},
   "outputs": [],
   "source": [
    "# joblib.dump(model, 'NLP_political_classifier.pkl')\n",
    "# joblib.dump(vectorizer, 'tfid_vectorizer.pkl')\n",
    "# NB_spam_model = open('NB_spam_model.pkl','rb')\n",
    "# clf = joblib.load(NB_spam_model)"
   ]
  },
  {
   "cell_type": "code",
   "execution_count": 21,
   "metadata": {},
   "outputs": [],
   "source": [
    "nlp_model = open('NLP_political_classifier.pkl','rb')\n",
    "clf = joblib.load(nlp_model)\n",
    "\n",
    "vectorizer_object = open('tfid_vectorizer.pkl', 'rb')\n",
    "vectorizer = joblib.load(vectorizer_object)\n",
    "\n"
   ]
  },
  {
   "cell_type": "code",
   "execution_count": 69,
   "metadata": {},
   "outputs": [],
   "source": [
    "con_test_str = 'america is the land of the free home of the brave god bless'\n",
    "lib_test_str = 'lgbt rights union living wage'#'union living wage racism white people lgbt'\n",
    "lib_test_list = [Format.denoise_tweet(lib_test_str)]\n",
    "con_test_list = [Format.denoise_tweet(con_test_str)]"
   ]
  },
  {
   "cell_type": "code",
   "execution_count": null,
   "metadata": {},
   "outputs": [],
   "source": []
  },
  {
   "cell_type": "code",
   "execution_count": 94,
   "metadata": {},
   "outputs": [],
   "source": [
    "tweets = aws_conn.get_all_tweets_by('cenkuygur')\n",
    "tweets = [x[1] for x in tweets]\n",
    "tweets = \" \".join(tweets)\n",
    "tweets = Format.denoise_tweet(tweets)"
   ]
  },
  {
   "cell_type": "code",
   "execution_count": 95,
   "metadata": {},
   "outputs": [
    {
     "data": {
      "text/plain": [
       "'im tired bragging obama picked him essentially coin toss would appeal white voters more could easily evan bayh case anyone think biden would stage let alone leading field   right accuse negative records criminal justice reform played politics peoples lives back then redemption helping pass criminal justice reform scientists said bomb middle earth going go soon would question whether something imagine republican politicians said shouldnt anything donors bomb industry wish pipehitting outsider debate called central problem politics corporate donors buying politicians leading problems discussing  admitted made mistake believing bush iraq essential problem throughout career always believes republicans surprised every time dont right thing minimum thats dangerous naïveté lot empty fireworks debate think everyone essentially lost pick winner id say  im amused collective outrage media anyone would challenge s record especially left dont challenge facts like record deportations cant believe anyone would audacity take establishment deity want give credit giving outlet progressive voices seems consider national crime discuss leftwing critique president obama progressives within democratic party easier time getting almost network two presidential candidates colorado say policy popular understand demonstrably false also saying something basis fact im sure lifetime taking corporate donations nothing it  love it  bad guy movie could followers see it thats sad lackey thirdrate villain basically rooting penguin  compare contrast reaction iran venezuela trump let north korea get away anything other insulting personally whereas transgression two oilrich countries seen immediately bringing us brink war  future republican party past  identity politics beat minorities demonize outsiders stoke fear hatred way since southern strategy  theyre never going change stories corporate media wish true  media trying wish republican party one based decency  ideological differences want neutral badly point covering anything retrograde white nationalist party absurd  form political correctness  im sure corporate democrats also announce staff changes soon oh right wont  best tag team since road warriors love progressives work together circle wagons looks like   great job exposing  record criminal justice debate pretty picture especially galling elites laugh smoked marijuana took away freedom thousands people crime gabbard goes tv talk anyone ask red herring harris threw syria eliot spitzer stepped prosecuted people transgression committed come accountability harris this another young white male rightwing mass shooter start profiling absolute certainty number domestic terrorists muslims would national hysteria now real thing police work extremist groups rightwing extremists  guns  trump demagoguery  nonstop massacres see republicans finally gathered courage take real problem causing mass shootings video games say straight face cashing checks gun industry limit craven be  signs  progressive wing party complete seems like threat rather words console country shooter talked fake news problem trump shooting doubling shooters message might literally read encouraging people likewise so leading contenders president couldnt bothered figure shootings weekend speaking publicly them said houston michigan  said toledo part showing empathy bothering get right jd scholtens campaign announcement via would epic moment joy exhilaration crisp november night donald trump steve king toppled make happen  cesar sayoc sentenced 20 years anyone doubt muslim targeted prominent republicans country would gotten life sentence imagine letting guy  ever even release innocent muslims gitmo like whole internet become deceptive mainstream media headlines are theyve forever false equivalency political correctness protect  heres 13 years ago literally yelling thing  2020 candidates respond el paso ohio mass shootings  the young turks panel republicans congress full retreat  no bribery highlights whats disgusting republican party completely corrupt  works donors thats pass federal background checks even though 97 us favor them notice touchy crooks get mention donors  finally hero minute democrat starts mention republican or corporate democratic donors theyll instantly become massively popular people sick corruption thats got touchy tweetthe donor class runs country  hilarious why let us buy politicians private dare try find bribed government officials donors swamp reason republican party still exists deeply unpopular positions corruption  love smell republican panic morning minute expose corruption  show bribing them flip out show bought politicians terrorist  democracy let rich bribe politicians  keep info secret  countdown trying pressure apologizing this source power also corruption democrats apologize this hope them 96 americans think politicians controlled donors stand ground  thanks  thanks everyone else enjoyed new show agitprop sign  want watch whole show become member  want upgrade membership higher level go  want donate support show network   vs  democracy workplace ignorant rightwingers let quote beginning  a well regulated militia necessary security free state mass shooters look like wellregulated militia trouble reading dullard says identity politics meant distract class issues largely right says democrats it dangerously wrong president  fox news demonize latinos someone massacres latinos thats identity politics called final solution muslims  called migrants cockroaches cant find courage call bigot theyve abdicated duty journalists theyre political correctness instead factual correctness soften image rightwing   says would move marijuana schedule 2 very bold thats cant  moral cowardice keep imprisoning millions people equivalent beer also politically stupid legalizing polls 65  rightwing bigot called final solution jews almost anyone else talk say denouncing jews different standard muslims even nyt thinks big deal call extermination  classic establishment media using identity politics blindly shield establishment democrats challenger also black weird reporter bother checking even weirder feels need defend incumbents  morgan harper going today justice coming newest candidate challenging incumbent taken 2 million corporate money last eight years comes whole new squad aoc 8pm et  hilarious  disturbing were show today 7pm et  im turkey originally  super proud american dont take critique slavery personally weird assumption let alone went first place  rightwingers complaining this its called free markets look it also love shaming donors highlights corrupt system thanks getting party started  keep private prisons could financial incentive lock since wont minorities side keep private insurance companies thatll financial incentive treat family members get sick sounds amazing   said i alone protect you put aside absurdity statement anyone really believe delivered that youre honest youd admit spectacular failure count even massacres watch so think military cops  fire department let alone social security  medicare privatized youre rich enough fire department let burn death almost want guys country see quickly youd turn north korea  mean like 2 trillion dollar tax cut rich  perfect crook apprentice trump views celebrity gets set precedent pardoning corrupt politicians gee wonder would want precedent  looks like democrats finally moving forward impeachment inquiry hallelujah saying longer standing way merciful her anyway ill take it start literally poor kids bright talented white kids oooops gaffe far  leaked fbi documents reveal bureaus priorities trump   fact fbi thinks socalled black extremists bigger threat white supremacist extremists unbelievable perfect example deepseated racism facts fbi acknowledges domestic terrorism committed white supremacist extremists internal documents cant name one attack socalled black extremists idiotracist thinks facts black people extreme  looked original tweet would see thats exact story broke yesterday internal fbi documents  matter many facts show guys feelings wanting racist overpowers whatever little logic have  young turks cenk uygur republicans want king president less american us  officials jeffrey epstein happened commit suicide suicide watch officials happened bring lee harvey oswald unprotected right front jack ruby two things agree on 1 government investigation epsteins death run progressive like clintons trumps and like us wed fair 2 full name the conveniently dead jeffrey epstein agree tapes prison jeffrey epstein kept destroyed turn missing every official involved way district attorney southern district new york governor cuomo fired one hosts called couple weeks ago hasan piker 725 year could know prison careful certainly known  hasan piker 725 afterward prison known keeping detainee alive number one priority least would obviously sow great distrust government even really suicide  might greatest tweet time  im sick nonsense socalled fact checks constantly say technically progressives right dont agree policy choices something balance thousand lies tells daily  progressive candidates better plan breaking people like  otherwise corporate democrats going sell us  work mcconnell kill progressive policies dont care bennet sweet guy hes screwing american workers  now much money theyre going spend buying politicians try prevent this journalist doesnt call help billionaires get away essence bribing politicians its called corruption  yes unarmed black man shot back read autopsy report running away close harming him train cops act like cowards thats exactly theyll do idea wilsons life danger ridiculous horseshit  literally least qualified person make comment one us history less mentally fit president you brag daily little know world figured complicated topics like healthcare  north korea yet  st louis post dispatch a sixth shot hit forearm traveled back arm inner arm scuffle car michael brown ran away shot distance likely scenario got shot turned around  got shot again  heres fellowship netflixs the family 2019  via weve continued see white supremacy grow us since deadly unite right rally charlottesville  via point 2007 hillary clinton polling way ahead barack obama among africanamerican voters changed iowa even joe lieberman leading field 2003 wellknown political figure lead means nothing  also hillary clinton lost donald trump bernie sanders  rule one ever get trouble purposely provoked rightwing focus initital transgessors trying blame reacted slur misses point criticizing cuomo rewards bad guys actions sometimes people ask im going make hosts apologize alex jones broke set rnc hell answer stand ground rightwing loves offend people  pretend feelings hurt joke almost started nuclear war someone called dotard later fell love said nice things you least qualified person earth talk this  way donald trump original godfather dad thought total incompetent loser constantly bail trouble bankruptcies reason trump insecure much dad yelled dummy  baby  interesting point weirdest nonpopulist nonprogressive reformer love focus money politics weird disdain grassroots bizarre disconnect  members press really think received type coverage candidates significantly negative really really believe that deluded trump supporters love  candidates obvious sanders gotten way worse coverage so bias there im appreciative warren coverage rest media cant see that theyre biased sanders cant see straight gave way much credit earlier really establishment hack hillary runnerup everyone declared presumptive nominee didnt believe call sense entitlement unbelievably hypocritical  mr eyeroll kind vitriol open hatred towards  still claiming youre biased him progressives honest perspective establishment hacks like pretend biased perspective objective  perfect example  said straight face hillary treated presumptive nominee 2016 runnerup 2008 thats baghdad bob level mendacity delusion  know works house representatives elected represent us representative people dare government socalled democracy shut peoples representatives came help  today said fox news has said things supported white supremacy important democrats across spectrum speak clear voice this good side brother cenk uygur defends cuomo dont get blame person started altercation  lunatics like sunday talk shows i mean   progressives almost never asked on dont know people washington know were likely progressive president soon  defining ethos conservatism  rich worthy poor bums made choice poor so deserve problems rich deserve tax cuts empathy trait share sociopaths  people see later kellyanne conway say you idiots much clearer could been sent husband publicly question presidents mental health sos world trump lost mind one anything it  heres get monster steve king office   wow 6pm et  experts saying hyoid bone far commonly broken strangulations rather hangings every guard warden prison overseeing epstein immediately get security personnel assigned them protection right now new shock poll iowa shows elizabeth warren trouncing joe biden doubledigits  via comes biden fade progressives soon top two bernie sanders israels ban omar tlaib maybe decline billions billions us gives  via boss guy president embarrassment take decades country live down kind child writes this thought advocate free speech at least racists think silenced political opinions  young turks ken klippenstein documents expose fbi equivalence black white extremism antimuslim bigot thinks bds movement wrong virtue signaling shocker thinks permanent occupation palestine totally fine give shit people theyre muslims know irredeemable ones bill get rightwing buddies fellow bigots like come talk muslims different religion hopeless makes  thats caged like animals occupied go cry people bother  speaking circuit fees college campuses politically correct go cuddle fun help spread hate people hey you care pretending care free speech get paid go agree israel  trump shut muslim women ever dare challenge us like rightwing douche become care something affects you im sure mind saying im politically incorrect oh wait fun punching down someone punch back please tell feelings hurt need safe space thats weak right thats point hate equally im atheists thinks religions 100 wrong bill maher sam harris single islam worse why pretend muslims irredeemable justify occupying forever  show tonight every person panel agreed sarcastically said palestinians that completely peaceful people found occupied everyone msm agree treat palesinians subhuman attribute violent nature them  know group might clash portland includes neonazis concern that busy pretending ally israel worry nazis home  say dont money average american worker understand lie is its past time demand higher wages multibillion dollar corporations  ironically tweet fire  so designate rightwing groups actually encouraging massacres throughout country terrorists want call antifacsist ideology terrorism arrest anyone want left people surprised call guy fascist  trump tweets almost always projection so lets check one 1 mental wreck yep 2 unstable nut job yep 3 grossincompetence yep 4 wife driving crazy get divorced ohh interesting young turks panel democratic donors stick gaffeprone biden warren sanders next line  nypd crying day daniel pantaleo fired choking innocent black man death medical examiner said chokehold cause death complain morale low  going ok cant kill innocent black men say cant jobs anymore interpretation job im thrilled cant that pouty little children cant kill indiscriminately anymore shut job one protect people every debate drops significantly pollls  couple weeks later hes back up why voters see eyes like see media goes work rehabilitating  pounding propaganda hes electable everyone commenting startling admission bidens policies suck even important exact argument hillary clinton supporters used still woken reality establishment candidate less electable  fox news guest claims muslim reps tlaib omar suffer grotesque holocaust envy  via reply dr qanta ahmed tonights show hope least gets paid well 6pm et saying fine people side neonazis chanting the jews replace us says jews america disloyal ignorant were really debate whether call fascist let alone antisemite little funny guy born muslim tell guy born jewish matt youre little naive antisemitism hateful stereotypes jews core rightwing extremism 58 religious attacks us jews trump believes stereotypes realized people frustrated trump era its obvious ignorance selfishness fear  hatred trump  its media wont fully acknowledge it its gaslighting whole country its something debated young turks shreds kamala harris waffling ‘medicare all stance ‘fake progressive  via so span 24 hours cancelled trip denmark wont sell greenland declared second coming god cabinet assembled consider  imagine called second coming god the king israel would evangelicals reacted still support trump course will show never cared christianity thing unites hatred others  cenk uygur unleashes trump campaign spox trumps flipflops gun control hes corrupt  via tonights show 805pm et address offensive comments made another platform always said conversation appropriate way deal controversial comments live discussion tonight cenk uygur rails media using political correctness cover gops insanity  via bernie sanders gets attacked making welcome change medicare  via seth moulton dropped presidential race seth hardly knew ye no really hardly knew ye yet another conservativemoderate democrat voters remotely interested in yet media pundits undeterred continue insist voters love moderate dems making endless string antisemitic comments president asked tropes used said its head its antisemitic head else would antisemitic trump said hes considering dropping isis fighters middle europe canceled trip denmark let buy greenland  said google manipulated 16 million votes 2016 election were supposed go pretending insane dizzying rate insanity trump isnt going make end term thing crashes point car careening control driver control faculties buckle up brace impact 1 sucks ojs biggest problem right now 2 didnt anything him  3 im fascinated guys ojs fantasy football league  according  actually suggested nuking hurricanes advisers bother try talk it wow really cabinet convene  president certifiably insane reporter question presidents mental fitness point political correctness rather factual correctness order hurt feelings republicans  voters theyre discussing obvious issue president mentally well rational reason demand russia readmitted g7 someone love god look business ties russia competent democrat prosecutor country its money stupid shocking sarcasm believe poll course doesnt says progressives taken lead democratic race  tied  so nate must somehow explain away like result  cnns toobin dismisses rinkydink new poll showing biden down kind joke  via speaking jokes guys hilarious see biased are trying wish away numbers ana kasparian democrats want someone whos going make republican party bend will   raising money hold climate crisis town hall dnc hold were hit 40000 announced couple hours ago need get 100k make happen  wonderfully ironic guy compared immigrants infestation actual infestation problem prefer luxury resorts werent captured  dummy thanks publicizing even more   flipped poll showing  taking lead biden methinks doth protest much see freaking polls show opposite result gentleman bias showing  said go denmark leader said mean things him says take 22m help amazon fires said mean things him rightwing leaders incredibly weak  fragile politician laughs newark water protestors faces vmas via brace impact washington progressives going win  washington post  good news thats exactly were working on weve already raised 123k make happen people want theyre ones financing it wed love participation democrats learn use power anyone alabama gop actually introduces motion democrats vote expel every member alabama republican delegation house disgusting people favor child molesters congress  undercovered story refuses ask donald trumps tax returns chair ways means cmt ask trumps ny tax returns  it one congress helps trump more constituents livid love audience much going change world them created us nothing whatever asked created including strongest progressives history congress together were going create change like one ever seen theres reason settle democrats work corporate interests let alone fossil fuel industry perfectly good alternative excellent chance winning corporate democrats aid abet republicans  block progressive legislation  senate democrats campaign arm pressuring consultants work leading progressive candidate colorado  astounding hilarious rightwingers think dumb agree 99 worlds scientists conservative days america means celebrate ignorance believe science honestly stupid thats huge percentage right now    showdown tonights show 68pm et show youtube tonight watch roku xumo youtube tv pluto tyt members also watch  john still job end show  i tell truth hard rich man enter kingdom heaven tell you easier camel go eye needle rich man enter kingdom god matthew 192326  another mass shooting one also texas everyone armed teeth course never stop politicians stop taking money nra either live new reality nonstop massacres end corruption heres easy pledge help end mass shootings means never vote politician takes money nra gun manufacturers lobbyists politicians want vote gun regulations stop taking money fine end corruption first mainstream media white washes horrors status quo potential problems change might bring unacceptable nightmares current system considered real problems worth solving  people debating whether hes painfully unintelligent starting lose mind both limited mind looks like deteriorating  biden warren sanders  everyone else via wonder anyone predicted earlier course  i heartbroken crying people state texas tired dying people texas  status quo texas unacceptable action needed said  mean word it whatever tells instead prediction tries set trump tv leaves office one way another recruits absolute craziest dingbats fringes fox news like   quickly devolves quasifascist channel humiliating failure small donors cut many democratic candidates back rich  read opposed candidates people think funny president drew weather service map sharpie lie people storm going  thats fullblown mental people getting  president mentally unstable must removed form office would republican democratic party done anything trump drawn national weather service map crayon instead sharpie anything thatll move politicians take legal action protect country obviously mentally ill man im sorry think misspelled corrupt corporate wing democratic party instead quote said loathes democratic party thats obviously irrational working democratic presidential campaign couldnt possibly meant that  young turks cenk uygur trump broke law sharpie  trump failed american workers even without trade war  elizabeth warren endorses texas us rep henry cuellars democratic primary challenger  via warren backs justice democrat primarying rep cuellar texas  things love firing 1 endless anarchy manchild president 2 depth bolton going backstab trump now going serious gop gop crime 3 neocons crying difficult its going start unnecessary war now s outrageous lies spectacular john bolton exact opposite left universally loathed progressives definition dick cheney would left   elizabeth warren trump secretary defense spent seven years head lobbyist raytheon  partly almost progressive policy positions overwhelmingly popular hence moderate real world dc comic universe fringe leftist positions unfortunately thats world nate lives in  foxs varney warns president elizabeth warren would force corporate profits go workers customers  via favorite warning time predictions obvious hindsight  go again told soon corporate interests thought actually chance win would turn fury going easy media race are look lengths people go get candidates focus existential issue thats must climate debate democrats please help make happen here  obvious everyone sad little petulant child  remember lot audience republican perverts love idea voted roy moore get excited trump aroused daughter rush knows audience  knows theyll intrigued idea underage picturesthats made up  love creative confess might created lottery way emphasizes freedom dividend interesting media say seemed angry opening statement americans thats breath fresh air fights average american obvious juxtaposition standard politicians there go again every sentence noun verb   coming aggressively greed status quo perfect debate going perfectly progressives far establishment candidates saying cant big changes  passionate oppression corporate status quo  calmly explaining progressive positions better  team decided praising attacking better strategy talking policy candidates naming plans medicare fill blank acknowledgement deeply popular anyone doubt fun candidate hes groove third  love hes race offering completely different perspective im highly amused establishment candidates like  say dont want fighting within democratic party immediately attack progressives dont mean unity mean compliance excellent job far toughest questions debate moderators usually aggressive questions progressives shes fair tough everybody  receive tremendous credit getting criminal justice reform passed republicans charge thats talk thats taking action  many rehearsed answers rehearsed one liners its coming across coy fake now wonderful courage saying take away ar15s  ak47s great job its important different voices primaries  perfect answer gun control real problem isnt convincing people  90 americans already want background checks real problem corruption money takes name  bribes  backs point gun control saying issue corruption issues politicians take money bribes corporations special interests thats corruption definition answer best explanation democratic socialism absurd compare venezuela bernie right closest canada norway actually standing average american play much better media thinks im midwest least persuasive argument ever vote presidential candidate its great keeps going back real problem  money politics shes absolutely right real reason were anything climate change 76 americans already believe  sometimes people snicker proposals thats theyre paying attention dont agree well thought out excellent idea its shameful candidates havent already agreed it lets note asked comments giving damn happened africanamericans 300 years ago biden talked playing record players kids good answer doubt media recognize crushed tonight its dont like him its dont understand power populism fullthroated and sorethroated defense average american going resonate snarky attacks democracy dollars idiots establishment support wholesale corruption politics reality proposal one best policies 2020 election cycle empowers real people compete big money donors  beto absolutely right this lot rightwing become terrorists threatening murder every time disagree you people idea often leftwing get death threats crazed rightwingers its used try terrorize silence  liked challenges biden especially calling hypocrisy taking credit everything obama well disowning wrong '"
      ]
     },
     "execution_count": 95,
     "metadata": {},
     "output_type": "execute_result"
    }
   ],
   "source": [
    "tweets"
   ]
  },
  {
   "cell_type": "code",
   "execution_count": null,
   "metadata": {},
   "outputs": [],
   "source": [
    "lib_test_list = [tweets]"
   ]
  },
  {
   "cell_type": "code",
   "execution_count": 70,
   "metadata": {},
   "outputs": [],
   "source": [
    "lib_test_vecs = vectorizer.transform(lib_test_list)\n",
    "con_test_vecs = vectorizer.transform(con_test_list)"
   ]
  },
  {
   "cell_type": "code",
   "execution_count": 71,
   "metadata": {},
   "outputs": [],
   "source": [
    " = clf.predict(lib_test_vecs)"
   ]
  },
  {
   "cell_type": "code",
   "execution_count": 72,
   "metadata": {
    "scrolled": true
   },
   "outputs": [
    {
     "data": {
      "text/plain": [
       "array(['liberal'], dtype='<U12')"
      ]
     },
     "execution_count": 72,
     "metadata": {},
     "output_type": "execute_result"
    }
   ],
   "source": [
    "ya"
   ]
  },
  {
   "cell_type": "code",
   "execution_count": null,
   "metadata": {},
   "outputs": [],
   "source": []
  }
 ],
 "metadata": {
  "kernelspec": {
   "display_name": "Python 3",
   "language": "python",
   "name": "python3"
  },
  "language_info": {
   "codemirror_mode": {
    "name": "ipython",
    "version": 3
   },
   "file_extension": ".py",
   "mimetype": "text/x-python",
   "name": "python",
   "nbconvert_exporter": "python",
   "pygments_lexer": "ipython3",
   "version": "3.7.3"
  }
 },
 "nbformat": 4,
 "nbformat_minor": 2
}
