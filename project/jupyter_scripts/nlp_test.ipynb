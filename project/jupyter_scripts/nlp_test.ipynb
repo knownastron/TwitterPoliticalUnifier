{
 "cells": [
  {
   "cell_type": "code",
   "execution_count": null,
   "metadata": {},
   "outputs": [],
   "source": [
    "import sys\n",
    "sys.path.append('../')\n",
    "from SQLConnection import LocalConnection\n",
    "from SQLConnection import AWSConnection\n",
    "sys.path.append('../databases')\n",
    "import mysql_aws_credentials as aws\n",
    "from Format import Format\n",
    "import re"
   ]
  },
  {
   "cell_type": "code",
   "execution_count": null,
   "metadata": {},
   "outputs": [],
   "source": [
    "cons_test_users = aws_conn.get_users_by_pol_label('conservative')\n",
    "libs_test_users = aws_conn.get_users_by_pol_label('liberal')\n",
    "cons_train_users = local_conn.get_users_by_pol_label('conservative')\n",
    "libs_train_users = local_conn.get_users_by_pol_label('liberal')"
   ]
  },
  {
   "cell_type": "code",
   "execution_count": null,
   "metadata": {},
   "outputs": [],
   "source": [
    "print(cons_train_users.__len__())\n",
    "print(libs_train_users.__len__())\n",
    "cons_train_users[12]"
   ]
  },
  {
   "cell_type": "code",
   "execution_count": null,
   "metadata": {},
   "outputs": [],
   "source": [
    "test_tweets = local_conn.get_all_tweets_by('sentedcruz')\n",
    "test_tweets1 = local_conn.get_all_tweets_by('aoc')"
   ]
  },
  {
   "cell_type": "code",
   "execution_count": null,
   "metadata": {},
   "outputs": [],
   "source": [
    "test_tweet = test_tweets[0][1]"
   ]
  },
  {
   "cell_type": "code",
   "execution_count": null,
   "metadata": {},
   "outputs": [],
   "source": [
    "import nltk\n",
    "nltk.download('stopwords')\n",
    "import string"
   ]
  },
  {
   "cell_type": "code",
   "execution_count": null,
   "metadata": {
    "scrolled": false
   },
   "outputs": [],
   "source": [
    "denoised = []\n",
    "denoised1 = []\n",
    "for tweet in test_tweets:\n",
    "    denoised.append(Format.denoise_tweet(tweet[1]))\n",
    "    \n",
    "for tweet in test_tweets1:\n",
    "    denoised1.append(Format.denoise_tweet(tweet[1]))"
   ]
  },
  {
   "cell_type": "code",
   "execution_count": null,
   "metadata": {},
   "outputs": [],
   "source": [
    "tokens = []\n",
    "for i,d in enumerate(denoised):\n",
    "    tokens.extend(d.split())\n",
    "    \n",
    "tokens1 = []\n",
    "for i,d in enumerate(denoised1):\n",
    "    print(i, test_tweets1[i][1])\n",
    "    print('////')\n",
    "    print(d,'\\n')\n",
    "    tokens1.extend(d.split())"
   ]
  },
  {
   "cell_type": "code",
   "execution_count": null,
   "metadata": {},
   "outputs": [],
   "source": [
    "import collections\n",
    "count = collections.Counter(tokens)\n",
    "# count.most_common(50)"
   ]
  },
  {
   "cell_type": "code",
   "execution_count": null,
   "metadata": {},
   "outputs": [],
   "source": [
    "import collections\n",
    "count1 = collections.Counter(tokens1)\n",
    "# count1.most_common(50)"
   ]
  },
  {
   "cell_type": "code",
   "execution_count": null,
   "metadata": {},
   "outputs": [],
   "source": [
    "print(t, '\\n')\n",
    "t = Format.remove_hashtags(t)\n",
    "print(t, '\\n')\n",
    "t = Format.remove_mentions(t)\n",
    "print(t, '\\n')\n",
    "t = remove_stopwords(t)\n",
    "print(t, '\\n')\n",
    "t = Format.remove_picture_links(t)\n",
    "print(t, '\\n')\n",
    "t = t.translate(str.maketrans('','',string.punctuation + '—' + '“' + '…'))\n",
    "print(t, '\\n')\n",
    "t.split()"
   ]
  },
  {
   "cell_type": "code",
   "execution_count": null,
   "metadata": {},
   "outputs": [],
   "source": [
    "tweet_text = test_tweets[73][1]\n",
    "tweet_text"
   ]
  },
  {
   "cell_type": "code",
   "execution_count": null,
   "metadata": {},
   "outputs": [],
   "source": [
    "tweet_text = Format.remove_picture_links(tweet_text)\n",
    "print(tweet_text, '\\n')\n",
    "tweet_text = tweet_text.lower()\n",
    "print(tweet_text, '\\n')\n",
    "tweet_text = Format.remove_hashtags(tweet_text)\n",
    "print(tweet_text, '\\n')\n",
    "tweet_text = Format.remove_mentions(tweet_text)\n",
    "print(tweet_text, '\\n')\n"
   ]
  },
  {
   "cell_type": "code",
   "execution_count": null,
   "metadata": {},
   "outputs": [],
   "source": [
    "from sklearn.feature_extraction.text import TfidfVectorizer \n",
    "from sklearn.metrics import classification_report\n",
    "from sklearn import svm \n",
    "from sklearn.model_selection import train_test_split"
   ]
  },
  {
   "cell_type": "code",
   "execution_count": null,
   "metadata": {},
   "outputs": [],
   "source": [
    "cons_test_users = aws_conn.get_users_by_pol_label('conservative')\n",
    "libs_test_users = aws_conn.get_users_by_pol_label('liberal')\n",
    "cons_train_users = local_conn.get_users_by_pol_label('conservative')\n",
    "libs_train_users = local_conn.get_users_by_pol_label('liberal')"
   ]
  },
  {
   "cell_type": "code",
   "execution_count": null,
   "metadata": {},
   "outputs": [],
   "source": [
    "print(len(cons_test_users))\n",
    "print(len(libs_test_users))\n",
    "print(len(cons_train_users))\n",
    "print(len(libs_train_users))"
   ]
  },
  {
   "cell_type": "code",
   "execution_count": null,
   "metadata": {},
   "outputs": [],
   "source": [
    "# ('sentedcruz', 1074480192, '1074480192', 'conservative', None)\n",
    "corpus = []\n",
    "for i, user in enumerate(cons_train_users):\n",
    "    tweets = local_conn.get_all_tweets_by(user[0])\n",
    "    tweets = [x[1] for x in tweets]\n",
    "    tweets = \" \".join(tweets)\n",
    "    tweets = denoise_tweet(tweets)\n",
    "    corpus.append((user[0],tweets, user[3]))\n",
    "    \n",
    "for user in libs_train_users:\n",
    "    tweets = local_conn.get_all_tweets_by(user[0])\n",
    "    tweets = [x[1] for x in tweets]\n",
    "    tweets = \" \".join(tweets)\n",
    "    tweets = denoise_tweet(tweets)\n",
    "    corpus.append((user[0], tweets, user[3]))"
   ]
  },
  {
   "cell_type": "code",
   "execution_count": null,
   "metadata": {},
   "outputs": [],
   "source": [
    "for i, user in enumerate(cons_test_users):\n",
    "    tweets = aws_conn.get_all_tweets_by(user[0])\n",
    "    tweets = [x[1] for x in tweets]\n",
    "    tweets = \" \".join(tweets)\n",
    "    tweets = denoise_tweet(tweets)\n",
    "    corpus.append((user[0], tweets, user[3]))\n",
    "    \n",
    "for i, user in enumerate(libs_test_users):\n",
    "    tweets = aws_conn.get_all_tweets_by(user[0])\n",
    "    tweets = [x[1] for x in tweets]\n",
    "    tweets = \" \".join(tweets)\n",
    "    tweets = denoise_tweet(tweets)\n",
    "    corpus.append((user[0], tweets, user[3]))"
   ]
  },
  {
   "cell_type": "code",
   "execution_count": null,
   "metadata": {},
   "outputs": [],
   "source": [
    "len(corpus)\n"
   ]
  },
  {
   "cell_type": "code",
   "execution_count": null,
   "metadata": {},
   "outputs": [],
   "source": [
    "data = []\n",
    "labels = []\n",
    "for row in corpus:\n",
    "    data.append(row[1])\n",
    "    labels.append((row[0], row[2]))"
   ]
  },
  {
   "cell_type": "code",
   "execution_count": null,
   "metadata": {},
   "outputs": [],
   "source": [
    "x_train, x_test, y_train, y_test = train_test_split(data, labels, test_size = 0.1, random_state=6)"
   ]
  },
  {
   "cell_type": "code",
   "execution_count": null,
   "metadata": {},
   "outputs": [],
   "source": [
    "y_train_username = []\n",
    "y_train_label = []\n",
    "\n",
    "for y in y_train:\n",
    "    y_train_username.append(y[0])\n",
    "    y_train_label.append(y[1])"
   ]
  },
  {
   "cell_type": "code",
   "execution_count": null,
   "metadata": {},
   "outputs": [],
   "source": [
    "print(len(y_train_username))\n",
    "print(len(y_train_label))"
   ]
  },
  {
   "cell_type": "code",
   "execution_count": null,
   "metadata": {},
   "outputs": [],
   "source": []
  },
  {
   "cell_type": "code",
   "execution_count": null,
   "metadata": {},
   "outputs": [],
   "source": [
    "print(len(y_test_username))\n",
    "print(len(y_test_label))"
   ]
  },
  {
   "cell_type": "code",
   "execution_count": null,
   "metadata": {},
   "outputs": [],
   "source": [
    "# data = test_data + train_data\n",
    "# labels = test_labels + train_labels\n",
    "# x_train, x_test, y_train, y_test = train_test_split(data, labels, test_size = 0.33, random_state=42)"
   ]
  },
  {
   "cell_type": "code",
   "execution_count": null,
   "metadata": {},
   "outputs": [],
   "source": []
  },
  {
   "cell_type": "code",
   "execution_count": null,
   "metadata": {},
   "outputs": [],
   "source": [
    "# Create feature vectors \n",
    "vectorizer = TfidfVectorizer(min_df=4, max_df=0.9)\n",
    "# Train the feature vectors\n",
    "train_vectors = vectorizer.fit_transform(x_train) #(train_data)\n",
    "# Apply model on test data \n",
    "test_vectors = vectorizer.transform(x_test)#(test_data)"
   ]
  },
  {
   "cell_type": "code",
   "execution_count": null,
   "metadata": {
    "scrolled": true
   },
   "outputs": [],
   "source": [
    "# Perform classification with SVM, kernel=linear \n",
    "model = svm.SVC(kernel='linear') \n",
    "model.fit(train_vectors, y_train_label) \n",
    "prediction = model.predict(test_vectors)\n"
   ]
  },
  {
   "cell_type": "code",
   "execution_count": null,
   "metadata": {},
   "outputs": [],
   "source": [
    "print(len(prediction))"
   ]
  },
  {
   "cell_type": "code",
   "execution_count": null,
   "metadata": {
    "scrolled": false
   },
   "outputs": [],
   "source": [
    "for i, pred in enumerate(prediction):\n",
    "    if y_test_label[i] != pred:\n",
    "        print(y_test_username[i], pred)"
   ]
  },
  {
   "cell_type": "code",
   "execution_count": null,
   "metadata": {},
   "outputs": [],
   "source": [
    "print (classification_report(y_test_label, prediction))\n",
    "# print(len(y_test_label))"
   ]
  },
  {
   "cell_type": "markdown",
   "metadata": {},
   "source": [
    "# START\n"
   ]
  },
  {
   "cell_type": "code",
   "execution_count": 1,
   "metadata": {},
   "outputs": [
    {
     "name": "stderr",
     "output_type": "stream",
     "text": [
      "[nltk_data] Downloading package stopwords to\n",
      "[nltk_data]     /Users/knownastron/nltk_data...\n",
      "[nltk_data]   Package stopwords is already up-to-date!\n",
      "[nltk_data] Downloading package stopwords to\n",
      "[nltk_data]     /Users/knownastron/nltk_data...\n",
      "[nltk_data]   Package stopwords is already up-to-date!\n"
     ]
    }
   ],
   "source": [
    "import sys\n",
    "sys.path.append('../')\n",
    "from SQLConnection import LocalConnection\n",
    "from SQLConnection import AWSConnection\n",
    "sys.path.append('../databases')\n",
    "import mysql_aws_credentials as aws\n",
    "from Format import Format\n",
    "import re\n",
    "import nltk\n",
    "nltk.download('stopwords')\n",
    "import string\n",
    "import joblib\n",
    "\n",
    "from sklearn.feature_extraction.text import TfidfVectorizer \n",
    "from sklearn.metrics import classification_report\n",
    "from sklearn import svm \n",
    "from sklearn.model_selection import train_test_split"
   ]
  },
  {
   "cell_type": "code",
   "execution_count": 2,
   "metadata": {},
   "outputs": [],
   "source": [
    "# local_conn = LocalConnection('../databases/main.db')\n",
    "aws_conn = AWSConnection(aws.HOST, aws.PORT, aws.DATABASE_NAME, aws.USER, aws.PASSWORD)\n",
    "\n",
    "cons_test_users = aws_conn.get_users_by_pol_label('conservative')\n",
    "libs_test_users = aws_conn.get_users_by_pol_label('liberal')\n",
    "all_users = cons_test_users + libs_test_users\n"
   ]
  },
  {
   "cell_type": "code",
   "execution_count": null,
   "metadata": {},
   "outputs": [],
   "source": []
  },
  {
   "cell_type": "code",
   "execution_count": 3,
   "metadata": {},
   "outputs": [
    {
     "name": "stdout",
     "output_type": "stream",
     "text": [
      "1 2 3 4 5 6 7 8 9 10 11 12 13 14 15 16 17 18 19 20 21 22 23 24 25 26 27 28 29 30 31 32 33 34 35 36 37 38 39 40 41 42 43 44 45 46 47 48 49 50 51 52 53 54 55 56 57 58 59 60 61 62 63 64 65 66 67 68 69 70 71 72 73 74 75 76 77 78 79 80 81 82 83 84 85 86 87 88 89 90 91 92 93 94 95 96 97 98 99 100 101 102 103 104 105 106 107 108 109 110 111 112 113 114 115 116 117 118 119 120 121 122 123 124 125 126 127 128 129 130 131 132 133 134 135 136 137 138 139 140 141 142 143 144 145 146 147 148 149 150 151 152 153 154 155 156 157 158 159 160 161 162 163 164 165 166 167 168 169 170 171 172 173 174 175 176 177 178 179 180 181 182 183 184 185 186 187 188 189 190 191 192 193 194 195 196 197 198 199 200 201 202 203 204 205 206 207 208 209 210 211 212 213 214 215 216 217 218 219 220 221 222 223 224 225 226 227 228 229 230 231 232 233 234 235 236 237 238 239 240 241 242 243 244 245 246 247 248 249 250 251 252 253 254 255 256 257 258 259 260 261 262 263 264 265 266 267 268 269 270 271 272 273 274 275 276 277 278 279 280 281 282 283 284 285 286 287 288 289 290 291 292 293 294 295 296 297 298 299 300 301 302 303 304 305 306 307 308 309 310 311 312 313 314 315 316 317 318 319 320 321 322 323 324 325 326 327 328 329 330 331 332 333 334 335 336 337 338 339 340 341 342 343 344 345 346 347 348 349 350 351 352 353 354 355 356 357 358 359 360 361 362 363 364 365 366 367 368 369 370 371 372 373 374 375 376 377 378 379 380 381 382 383 384 385 386 387 388 389 390 391 392 393 394 395 396 397 398 399 400 401 402 403 404 405 406 407 408 409 410 411 412 413 414 415 416 417 418 419 420 421 422 423 424 425 426 427 428 429 430 431 432 433 434 435 436 437 438 439 440 441 442 443 444 445 446 447 448 449 450 451 452 453 454 455 456 457 458 459 460 461 462 463 464 465 466 467 468 469 470 471 472 473 474 475 476 477 478 479 480 481 482 483 484 485 486 487 488 489 490 491 492 493 494 495 496 497 498 499 500 501 502 503 504 505 506 507 508 509 510 511 512 513 514 515 516 517 518 519 520 521 522 523 524 525 526 527 528 529 530 531 532 533 534 535 536 537 538 539 540 541 542 543 544 545 546 547 548 549 550 551 552 553 554 555 556 557 558 559 560 561 562 563 564 565 566 567 568 569 570 571 572 573 574 575 576 577 578 579 580 581 582 583 584 585 586 587 588 589 590 591 592 593 594 595 596 597 598 599 600 601 602 603 604 605 606 607 608 609 610 611 612 613 614 615 616 617 618 619 620 621 622 623 624 625 626 627 628 629 630 "
     ]
    }
   ],
   "source": [
    "# corpus = []\n",
    "# for i, user in enumerate(all_users):\n",
    "#     print(i + 1, end=' ')\n",
    "#     tweets = aws_conn.get_all_tweets_by(user[0])\n",
    "#     tweets = [x[1] for x in tweets]\n",
    "#     tweets = \" \".join(tweets) #join all tweets into one big blob\n",
    "#     tweets = Format.denoise_tweet(tweets)\n",
    "#     corpus.append((user[0], tweets, user[3]))"
   ]
  },
  {
   "cell_type": "code",
   "execution_count": 5,
   "metadata": {},
   "outputs": [
    {
     "data": {
      "text/plain": [
       "['corpus.pkl']"
      ]
     },
     "execution_count": 5,
     "metadata": {},
     "output_type": "execute_result"
    }
   ],
   "source": [
    "# joblib.dump(corpus, 'corpus.pkl')"
   ]
  },
  {
   "cell_type": "code",
   "execution_count": 10,
   "metadata": {},
   "outputs": [],
   "source": [
    "corpus_object = open('corpus.pkl','rb')\n",
    "corpus = joblib.load(corpus_object)\n"
   ]
  },
  {
   "cell_type": "code",
   "execution_count": 11,
   "metadata": {},
   "outputs": [
    {
     "name": "stdout",
     "output_type": "stream",
     "text": [
      "630\n"
     ]
    }
   ],
   "source": [
    "print(len(corpus))"
   ]
  },
  {
   "cell_type": "code",
   "execution_count": 12,
   "metadata": {},
   "outputs": [],
   "source": [
    "data = []\n",
    "labels = []\n",
    "for row in corpus:\n",
    "    data.append(row[1])\n",
    "    labels.append((row[0], row[2])) #username and label"
   ]
  },
  {
   "cell_type": "code",
   "execution_count": 13,
   "metadata": {},
   "outputs": [],
   "source": [
    "# corpus"
   ]
  },
  {
   "cell_type": "code",
   "execution_count": 14,
   "metadata": {},
   "outputs": [
    {
     "name": "stdout",
     "output_type": "stream",
     "text": [
      "630\n"
     ]
    }
   ],
   "source": [
    "print(len(data))"
   ]
  },
  {
   "cell_type": "code",
   "execution_count": 15,
   "metadata": {},
   "outputs": [],
   "source": [
    "x_train, x_test, y_train, y_test = train_test_split(data, labels, test_size = 0.33, random_state=8)"
   ]
  },
  {
   "cell_type": "code",
   "execution_count": 16,
   "metadata": {},
   "outputs": [],
   "source": [
    "#create lists of usernames and labels for training and test data\n",
    "y_train_username = []\n",
    "y_train_label = []\n",
    "\n",
    "for y in y_train:\n",
    "    y_train_username.append(y[0])\n",
    "    y_train_label.append(y[1])\n",
    "    \n",
    "y_test_username = []\n",
    "y_test_label = []\n",
    "\n",
    "for y in y_test:\n",
    "    y_test_username.append(y[0])\n",
    "    y_test_label.append(y[1])"
   ]
  },
  {
   "cell_type": "code",
   "execution_count": 17,
   "metadata": {},
   "outputs": [],
   "source": [
    "# Create feature vectors \n",
    "vectorizer = TfidfVectorizer(min_df=4, max_df=0.9)\n",
    "# Train the feature vectors\n",
    "train_vectors = vectorizer.fit_transform(x_train) #(train_data)\n",
    "# Apply model on test data \n",
    "test_vectors = vectorizer.transform(x_test) #(test_data)"
   ]
  },
  {
   "cell_type": "code",
   "execution_count": 18,
   "metadata": {},
   "outputs": [
    {
     "data": {
      "text/plain": [
       "<208x14569 sparse matrix of type '<class 'numpy.float64'>'\n",
       "\twith 332994 stored elements in Compressed Sparse Row format>"
      ]
     },
     "execution_count": 18,
     "metadata": {},
     "output_type": "execute_result"
    }
   ],
   "source": [
    "test_vectors"
   ]
  },
  {
   "cell_type": "code",
   "execution_count": 31,
   "metadata": {},
   "outputs": [],
   "source": [
    "# Perform classification with SVM, kernel=rbf \n",
    "model_rbf = svm.SVC(kernel='rbf', gamma=1, C=50) \n",
    "model_rbf.fit(train_vectors, y_train_label) \n",
    "prediction_rbf = model_rbf.predict(test_vectors)"
   ]
  },
  {
   "cell_type": "code",
   "execution_count": 32,
   "metadata": {},
   "outputs": [
    {
     "name": "stdout",
     "output_type": "stream",
     "text": [
      "              precision    recall  f1-score   support\n",
      "\n",
      "conservative       0.89      0.98      0.93       102\n",
      "     liberal       0.98      0.89      0.93       106\n",
      "\n",
      "    accuracy                           0.93       208\n",
      "   macro avg       0.94      0.93      0.93       208\n",
      "weighted avg       0.94      0.93      0.93       208\n",
      "\n"
     ]
    }
   ],
   "source": [
    "print(classification_report(y_test_label, prediction_rbf))"
   ]
  },
  {
   "cell_type": "code",
   "execution_count": 22,
   "metadata": {
    "scrolled": true
   },
   "outputs": [
    {
     "name": "stdout",
     "output_type": "stream",
     "text": [
      "atrios conservative\n",
      "eleanornorton conservative\n",
      "repbrianfitz liberal\n",
      "deray conservative\n",
      "mudede conservative\n",
      "senatorcollins liberal\n",
      "yashar conservative\n",
      "repaoc conservative\n",
      "senatorsinema conservative\n",
      "reprichmond conservative\n",
      "staceyplaskett conservative\n",
      "repschrader conservative\n",
      "yamiche conservative\n",
      "wonkroom conservative\n",
      "senrickscott liberal\n",
      "senatemajldr conservative\n",
      "neonflag conservative\n",
      "benniegthompson conservative\n",
      "repdelgado conservative\n",
      "moelleithee conservative\n",
      "buzzfeedben conservative\n",
      "sanfordbishop conservative\n",
      "sendougjones conservative\n",
      "repkendrahorn conservative\n",
      "chrislhayes conservative\n",
      "noahpinion conservative\n"
     ]
    }
   ],
   "source": [
    "for i, pred in enumerate(prediction_rbf):\n",
    "    if y_test_label[i] != pred:\n",
    "        print(y_test_username[i], pred)"
   ]
  },
  {
   "cell_type": "code",
   "execution_count": 25,
   "metadata": {},
   "outputs": [],
   "source": [
    "# Perform classification with SVM, kernel=linear \n",
    "model_linear = svm.SVC(kernel='linear') \n",
    "model_linear.fit(train_vectors, y_train_label) \n",
    "prediction_linear = model_linear.predict(test_vectors)"
   ]
  },
  {
   "cell_type": "code",
   "execution_count": null,
   "metadata": {
    "scrolled": false
   },
   "outputs": [],
   "source": []
  },
  {
   "cell_type": "code",
   "execution_count": 26,
   "metadata": {},
   "outputs": [
    {
     "name": "stdout",
     "output_type": "stream",
     "text": [
      "              precision    recall  f1-score   support\n",
      "\n",
      "conservative       0.93      0.97      0.95       102\n",
      "     liberal       0.97      0.92      0.95       106\n",
      "\n",
      "    accuracy                           0.95       208\n",
      "   macro avg       0.95      0.95      0.95       208\n",
      "weighted avg       0.95      0.95      0.95       208\n",
      "\n"
     ]
    }
   ],
   "source": [
    "print(classification_report(y_test_label, prediction_linear))"
   ]
  },
  {
   "cell_type": "code",
   "execution_count": null,
   "metadata": {},
   "outputs": [],
   "source": [
    "for i, pred in enumerate(prediction):\n",
    "    if y_test_label[i] != pred:\n",
    "        print(y_test_username[i], pred)"
   ]
  },
  {
   "cell_type": "markdown",
   "metadata": {},
   "source": [
    "# END"
   ]
  },
  {
   "cell_type": "code",
   "execution_count": null,
   "metadata": {},
   "outputs": [],
   "source": [
    "# joblib.dump(model, 'NLP_political_classifier.pkl')\n",
    "# joblib.dump(vectorizer, 'tfid_vectorizer.pkl')"
   ]
  },
  {
   "cell_type": "code",
   "execution_count": null,
   "metadata": {},
   "outputs": [],
   "source": []
  },
  {
   "cell_type": "code",
   "execution_count": null,
   "metadata": {},
   "outputs": [],
   "source": [
    "# nlp_model1 = open('NLP_political_classifier.pkl','rb')\n",
    "# clf1 = joblib.load(nlp_model1)\n",
    "\n",
    "# vectorizer_object1 = open('tfid_vectorizer.pkl', 'rb')\n",
    "# vectorizer1 = joblib.load(vectorizer_object1)\n",
    "\n",
    "vectorizer1 = vectorizer"
   ]
  },
  {
   "cell_type": "code",
   "execution_count": null,
   "metadata": {},
   "outputs": [],
   "source": [
    "con_test_str = 'america is the land of the free home of the brave god bless'\n",
    "lib_test_str = 'undocumented refugee climate change racism white people'\n",
    "con_test_list = [Format.denoise_tweet(con_test_str)]\n",
    "lib_test_list = [Format.denoise_tweet(lib_test_str)]\n",
    "con_vecs = vectorizer1.transform(con_test_list)\n",
    "lib_vecs = vectorizer1.transform(lib_test_list)"
   ]
  },
  {
   "cell_type": "code",
   "execution_count": null,
   "metadata": {},
   "outputs": [],
   "source": [
    "prediction_con = model_rbf.predict(con_vecs)\n",
    "prediction_lib = model_rbf.predict(lib_vecs)"
   ]
  },
  {
   "cell_type": "code",
   "execution_count": null,
   "metadata": {},
   "outputs": [],
   "source": [
    "print(prediction_con)\n",
    "print(prediction_lib)"
   ]
  },
  {
   "cell_type": "code",
   "execution_count": null,
   "metadata": {},
   "outputs": [],
   "source": [
    "tweets = aws_conn.get_all_tweets_by('aoc')\n",
    "tweets = [x[1] for x in tweets]\n",
    "tweets = \" \".join(tweets)\n",
    "tweets = Format.denoise_tweet(tweets)"
   ]
  },
  {
   "cell_type": "code",
   "execution_count": null,
   "metadata": {},
   "outputs": [],
   "source": [
    "tweets"
   ]
  },
  {
   "cell_type": "code",
   "execution_count": null,
   "metadata": {},
   "outputs": [],
   "source": [
    "lib_test_list = [tweets]"
   ]
  },
  {
   "cell_type": "code",
   "execution_count": null,
   "metadata": {},
   "outputs": [],
   "source": [
    "lib_test_vecs = vectorizer.transform(lib_test_list)\n",
    "con_test_vecs = vectorizer.transform(con_test_list)"
   ]
  },
  {
   "cell_type": "code",
   "execution_count": null,
   "metadata": {},
   "outputs": [],
   "source": [
    "ya = model.predict(lib_test_vecs)"
   ]
  },
  {
   "cell_type": "code",
   "execution_count": null,
   "metadata": {
    "scrolled": true
   },
   "outputs": [],
   "source": [
    "ya"
   ]
  },
  {
   "cell_type": "code",
   "execution_count": null,
   "metadata": {},
   "outputs": [],
   "source": []
  }
 ],
 "metadata": {
  "kernelspec": {
   "display_name": "Python 3",
   "language": "python",
   "name": "python3"
  },
  "language_info": {
   "codemirror_mode": {
    "name": "ipython",
    "version": 3
   },
   "file_extension": ".py",
   "mimetype": "text/x-python",
   "name": "python",
   "nbconvert_exporter": "python",
   "pygments_lexer": "ipython3",
   "version": "3.7.3"
  }
 },
 "nbformat": 4,
 "nbformat_minor": 2
}
