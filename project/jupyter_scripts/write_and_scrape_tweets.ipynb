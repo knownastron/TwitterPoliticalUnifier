{
 "cells": [
  {
   "cell_type": "code",
   "execution_count": null,
   "metadata": {},
   "outputs": [],
   "source": [
    "import sys\n",
    "sys.path.append('../')\n",
    "import TwitterScraper as ts\n",
    "from SQLConnection import AWSConnection\n",
    "from TwitterConnection import TwitterConnection\n",
    "sys.path.append('../databases')\n",
    "import mysql_aws_credentials as aws\n"
   ]
  },
  {
   "cell_type": "code",
   "execution_count": null,
   "metadata": {},
   "outputs": [],
   "source": [
    "accounts = ['rustyrockets']\n",
    "\n",
    "# filename = './text_files/conservative_accounts.txt'\n",
    "# file = open(filename, 'r')\n",
    "\n",
    "# for line in file:\n",
    "#     line = line.rstrip()\n",
    "#     if line != '':\n",
    "#         accounts.append(line.rstrip().lower())\n",
    "        \n",
    "#Set up twitter scraper\n",
    "rate_delay = 0\n",
    "error_delay = 5\n",
    "max_tweets = 10\n",
    "twit = ts.TwitterSearchImpl(rate_delay, error_delay, max_tweets)\n",
    "\n",
    "#set up database connection\n",
    "db_name = './databases/main.db'\n",
    "db_conn = AWSConnection(aws.HOST, aws.PORT, aws.DATABASE_NAME, aws.USER, aws.PASSWORD)"
   ]
  },
  {
   "cell_type": "code",
   "execution_count": null,
   "metadata": {},
   "outputs": [],
   "source": [
    "ya = db_conn.get_all_tweets_by('aoc')"
   ]
  },
  {
   "cell_type": "code",
   "execution_count": null,
   "metadata": {},
   "outputs": [],
   "source": [
    "aws.DATABASE_NAME"
   ]
  },
  {
   "cell_type": "code",
   "execution_count": null,
   "metadata": {},
   "outputs": [],
   "source": [
    "ya[0]"
   ]
  },
  {
   "cell_type": "code",
   "execution_count": null,
   "metadata": {},
   "outputs": [],
   "source": [
    "type(ya[0][3])\n"
   ]
  },
  {
   "cell_type": "code",
   "execution_count": null,
   "metadata": {},
   "outputs": [],
   "source": [
    "rate_delay = 0\n",
    "error_delay = 5\n",
    "max_tweets = 220\n",
    "\n",
    "\n",
    "twit = ts.TwitterSearchImpl(200)"
   ]
  },
  {
   "cell_type": "code",
   "execution_count": null,
   "metadata": {},
   "outputs": [],
   "source": [
    "tweets = twit.search('from:' + accounts[0])"
   ]
  },
  {
   "cell_type": "code",
   "execution_count": null,
   "metadata": {},
   "outputs": [],
   "source": [
    "tweets = twit.get_tweets()\n",
    "tweets[0].keys()\n",
    "tweets = tweets[:200]"
   ]
  },
  {
   "cell_type": "code",
   "execution_count": null,
   "metadata": {},
   "outputs": [],
   "source": [
    "print(tweets[0]['user_id'])\n",
    "print(tweets[0]['user_screen_name'])\n",
    "print(tweets[0]['created_at'])"
   ]
  },
  {
   "cell_type": "code",
   "execution_count": null,
   "metadata": {},
   "outputs": [],
   "source": [
    "print(len(tweets))"
   ]
  },
  {
   "cell_type": "code",
   "execution_count": null,
   "metadata": {},
   "outputs": [],
   "source": [
    "twit_conn = TwitterConnection()"
   ]
  },
  {
   "cell_type": "code",
   "execution_count": null,
   "metadata": {},
   "outputs": [],
   "source": [
    "users_with_ids = twit_conn.get_user_ids(accounts)"
   ]
  },
  {
   "cell_type": "code",
   "execution_count": null,
   "metadata": {},
   "outputs": [],
   "source": [
    "users_with_ids[:5]"
   ]
  },
  {
   "cell_type": "code",
   "execution_count": null,
   "metadata": {},
   "outputs": [],
   "source": [
    "twit_conn.print_used_rate_limit_status()"
   ]
  },
  {
   "cell_type": "code",
   "execution_count": null,
   "metadata": {},
   "outputs": [],
   "source": [
    "account = users_with_ids[0]\n",
    "account"
   ]
  },
  {
   "cell_type": "code",
   "execution_count": null,
   "metadata": {},
   "outputs": [],
   "source": [
    "username = account\n",
    "search_query = 'from: ' + account[0]\n",
    "print(search_query)\n",
    "db_conn.write_new_user((username, int(account[1]), account[1], 'liberal', None))"
   ]
  },
  {
   "cell_type": "code",
   "execution_count": null,
   "metadata": {},
   "outputs": [],
   "source": [
    "twit.search(search_query)\n",
    "tweets = twit.get_tweets()"
   ]
  },
  {
   "cell_type": "code",
   "execution_count": null,
   "metadata": {},
   "outputs": [],
   "source": [
    "tweets[:2]"
   ]
  },
  {
   "cell_type": "code",
   "execution_count": null,
   "metadata": {},
   "outputs": [],
   "source": [
    "twit.clear_tweets()"
   ]
  },
  {
   "cell_type": "code",
   "execution_count": null,
   "metadata": {},
   "outputs": [],
   "source": [
    "for tweet in tweets:\n",
    "    db_conn.write_tweet((tweet['tweet_id'], tweet['text'], tweet['user_screen_name'].lower(), tweet['created_at']))"
   ]
  },
  {
   "cell_type": "code",
   "execution_count": null,
   "metadata": {},
   "outputs": [],
   "source": [
    "ya = []\n",
    "for i in range(888):\n",
    "    ya.append(i+2)\n",
    "    "
   ]
  },
  {
   "cell_type": "markdown",
   "metadata": {},
   "source": [
    "# START\n"
   ]
  },
  {
   "cell_type": "code",
   "execution_count": null,
   "metadata": {},
   "outputs": [],
   "source": [
    "import sys\n",
    "sys.path.append('../')\n",
    "from TwitterScraper import TwitterSearchImpl\n",
    "from SQLConnection import AWSConnection\n",
    "from TwitterConnection import TwitterConnection\n",
    "sys.path.append('../databases')\n",
    "import mysql_aws_credentials as aws\n",
    "\n",
    "accounts = []\n",
    "\n",
    "filename = '../text_files/liberal_accounts.txt'\n",
    "file = open(filename, 'r')\n",
    "for line in file:\n",
    "    line = line.rstrip()\n",
    "    if line != '':\n",
    "        accounts.append(line.rstrip().lower())\n",
    "\n",
    "accounts = []\n",
    "\n",
    "#Set up tweepy connection\n",
    "twit_conn = TwitterConnection()\n",
    "users_with_ids = twit_conn.get_user_ids(accounts)\n",
    "\n"
   ]
  },
  {
   "cell_type": "code",
   "execution_count": null,
   "metadata": {},
   "outputs": [],
   "source": [
    "print(users_with_ids)"
   ]
  },
  {
   "cell_type": "code",
   "execution_count": null,
   "metadata": {},
   "outputs": [],
   "source": [
    "#Set up twitter scraper\n",
    "rate_delay = 0\n",
    "error_delay = 5\n",
    "max_tweets = 220\n",
    "twit = TwitterSearchImpl(rate_delay, error_delay, max_tweets)"
   ]
  },
  {
   "cell_type": "code",
   "execution_count": null,
   "metadata": {},
   "outputs": [],
   "source": [
    "#set up database connection\n",
    "db_conn = AWSConnection(aws.HOST, aws.PORT, aws.DATABASE_NAME, aws.USER, aws.PASSWORD)"
   ]
  },
  {
   "cell_type": "code",
   "execution_count": null,
   "metadata": {},
   "outputs": [],
   "source": [
    "# write user, scrape tweets, write tweets for each user\n",
    "political_label = 'liberal'\n",
    "tweets = []\n",
    "for i, account in enumerate(users_with_ids):\n",
    "    print(str(i+1) +'/' + str(len(accounts)), account)\n",
    "    username = account[0].lower()\n",
    "    search_query = 'from:' + username\n",
    "    print((username, int(account[1]), account[1], political_label, None))\n",
    "    db_conn.write_new_user(username, int(account[1]), account[1],  political_label, None)\n",
    "    \n",
    "    twit.search(search_query)\n",
    "    tweets = twit.get_tweets()\n",
    "    print(\"Number of tweets:\", len(tweets))\n",
    "    db_conn.write_tweets(tweets)\n",
    "    twit.clear_tweets()"
   ]
  },
  {
   "cell_type": "markdown",
   "metadata": {},
   "source": [
    "# END"
   ]
  },
  {
   "cell_type": "code",
   "execution_count": null,
   "metadata": {},
   "outputs": [],
   "source": [
    "db_conn.write_new_user('knownastron', 123, '123', 'libertarian', None)"
   ]
  },
  {
   "cell_type": "code",
   "execution_count": null,
   "metadata": {},
   "outputs": [],
   "source": [
    "tweets[0]"
   ]
  },
  {
   "cell_type": "code",
   "execution_count": null,
   "metadata": {},
   "outputs": [],
   "source": [
    "filename = '../text_files/con_reps.txt'\n",
    "num_tweets = 500\n",
    "label = 'conservative'\n",
    "\n",
    "\n",
    "file = open(filename, 'r')\n",
    "    \n",
    "accounts = []\n",
    "for line in file:\n",
    "    line = line.rstrip()\n",
    "    if line != '':\n",
    "        accounts.append(line.rstrip().lower())\n",
    "accounts = ['RealDonaldTrump']\n",
    "#scrape 50 at a time, tweepy can only get twitter handles for 50 users at a time\n",
    "start = 0\n",
    "end = 50\n",
    "while start < len(accounts):\n",
    "    sliced_accounts = accounts[start:end]\n",
    "    start += 50\n",
    "    end += 50\n",
    "    #Set up tweepy connection\n",
    "    twit_conn = tc.TwitterConnection()\n",
    "    users_with_ids = twit_conn.get_user_ids(sliced_accounts)\n",
    "\n",
    "    #Set up twitter scraper\n",
    "    rate_delay = 0\n",
    "    error_delay = 5\n",
    "    twit = ts.TwitterSearchImpl(rate_delay, error_delay, num_tweets)\n",
    "\n",
    "    #set up database connection\n",
    "    db_name = '../databases/main.db'\n",
    "    db_conn = dc.DatabaseConnection(db_name)\n",
    "\n",
    "\n",
    "\n",
    "    for i, account in enumerate(users_with_ids):\n",
    "        print(str(i+1) +'/' + str(len(accounts)), account)\n",
    "        username = account[0].lower()\n",
    "        search_query = 'from:' + username\n",
    "#         db_conn.write_new_user((username, int(account[1]), account[1], label, None))\n",
    "\n",
    "        twit.search(search_query)\n",
    "        tweets = twit.get_tweets()\n",
    "        print(\"Number of tweets:\", len(tweets))\n",
    "#             for tweet in tweets:\n",
    "#                 tweet_text = f.format_tweet_text(tweet['text'])\n",
    "#                 db_conn.write_tweet((tweet['tweet_id'], tweet_text, tweet['user_screen_name'].lower(), tweet['created_at']))\n",
    "        twit.clear_tweets()"
   ]
  },
  {
   "cell_type": "code",
   "execution_count": null,
   "metadata": {},
   "outputs": [],
   "source": [
    "print(len(tweets))"
   ]
  },
  {
   "cell_type": "code",
   "execution_count": null,
   "metadata": {},
   "outputs": [],
   "source": [
    "import sys\n",
    "sys.path.append('../')\n",
    "import TwitterScraper as ts\n",
    "import DatabaseConnection as dc\n",
    "import TwitterConnection as tc\n",
    "import format as f\n",
    "\n",
    "def write_tweets(filename, num_tweets, label):\n",
    "    file = open(filename, 'r')\n",
    "    \n",
    "    accounts = []\n",
    "    for line in file:\n",
    "        line = line.rstrip()\n",
    "        if line != '':\n",
    "            accounts.append(line.rstrip().lower())\n",
    "    \n",
    "    #scrape 50 at a time, tweepy can only get twitter handles for 50 users at a time\n",
    "    start = 0\n",
    "    end = 50\n",
    "    while start < len(accounts):\n",
    "        sliced_accounts = accounts[start:end]\n",
    "        #Set up tweepy connection\n",
    "        twit_conn = tc.TwitterConnection()\n",
    "        users_with_ids = twit_conn.get_user_ids(sliced_accounts)\n",
    "\n",
    "        #Set up twitter scraper\n",
    "        rate_delay = 0\n",
    "        error_delay = 5\n",
    "        max_tweets = num_tweets\n",
    "        twit = ts.TwitterSearchImpl(rate_delay, error_delay, max_tweets)\n",
    "\n",
    "        #set up database connection\n",
    "        db_name = '../databases/main.db'\n",
    "        db_conn = dc.DatabaseConnection(db_name)\n",
    "\n",
    "\n",
    "\n",
    "        for i, account in enumerate(users_with_ids):\n",
    "            print(str(i+1) +'/' + str(len(accounts)), account)\n",
    "            username = account[0].lower()\n",
    "            search_query = 'from:' + username\n",
    "            db_conn.write_new_user((username, int(account[1]), account[1], label, None))\n",
    "\n",
    "            twit.search(search_query)\n",
    "            tweets = twit.get_tweets()\n",
    "            print(\"Number of tweets:\", len(tweets))\n",
    "            if len(tweets) < num_tweets:\n",
    "                print('-------------------')\n",
    "                print(\"NOT ENOUGH TWEETS:\", account)\n",
    "                print('-------------------')\n",
    "                continue\n",
    "            for tweet in tweets:\n",
    "                tweet_text = f.format_tweet_text(tweet['text'])\n",
    "                db_conn.write_tweet((tweet['tweet_id'], tweet_text, tweet['user_screen_name'].lower(), tweet['created_at']))\n",
    "            twit.clear_tweets()\n",
    "        start += 50\n",
    "        end += 50"
   ]
  },
  {
   "cell_type": "code",
   "execution_count": null,
   "metadata": {},
   "outputs": [],
   "source": [
    "write_tweets('../text_files/con_reps.txt', 500, 'conservative')"
   ]
  },
  {
   "cell_type": "code",
   "execution_count": null,
   "metadata": {},
   "outputs": [],
   "source": []
  }
 ],
 "metadata": {
  "kernelspec": {
   "display_name": "Python 3",
   "language": "python",
   "name": "python3"
  },
  "language_info": {
   "codemirror_mode": {
    "name": "ipython",
    "version": 3
   },
   "file_extension": ".py",
   "mimetype": "text/x-python",
   "name": "python",
   "nbconvert_exporter": "python",
   "pygments_lexer": "ipython3",
   "version": "3.7.3"
  }
 },
 "nbformat": 4,
 "nbformat_minor": 2
}
