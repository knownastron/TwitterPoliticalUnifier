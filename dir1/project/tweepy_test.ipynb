{
 "cells": [
  {
   "cell_type": "code",
   "execution_count": 67,
   "metadata": {},
   "outputs": [],
   "source": [
    "from tweepy import API\n",
    "from tweepy import OAuthHandler\n",
    "import requests\n",
    "import re\n",
    " \n",
    "import twitter_functions as tf\n",
    "import format\n",
    "import twitter_credentials\n",
    " \n",
    "\n",
    "    \n"
   ]
  },
  {
   "cell_type": "code",
   "execution_count": 3,
   "metadata": {},
   "outputs": [],
   "source": [
    "# set up api auth\n",
    "auth = OAuthHandler(twitter_credentials.CONSUMER_KEY, twitter_credentials.CONSUMER_SECRET)\n",
    "auth.set_access_token(twitter_credentials.ACCESS_TOKEN, twitter_credentials.ACCESS_TOKEN_SECRET)                          \n",
    "api = API(auth)"
   ]
  },
  {
   "cell_type": "code",
   "execution_count": 4,
   "metadata": {},
   "outputs": [],
   "source": [
    "favorites = api.favorites('@knownastron') # "
   ]
  },
  {
   "cell_type": "code",
   "execution_count": 10,
   "metadata": {},
   "outputs": [],
   "source": [
    "test_fav = favorites[0].__dict__"
   ]
  },
  {
   "cell_type": "code",
   "execution_count": 11,
   "metadata": {},
   "outputs": [
    {
     "data": {
      "text/plain": [
       "tweepy.models.ResultSet"
      ]
     },
     "execution_count": 11,
     "metadata": {},
     "output_type": "execute_result"
    }
   ],
   "source": [
    "type(favorites)"
   ]
  },
  {
   "cell_type": "code",
   "execution_count": 13,
   "metadata": {},
   "outputs": [
    {
     "data": {
      "text/plain": [
       "dict_keys(['_api', '_json', 'created_at', 'id', 'id_str', 'text', 'truncated', 'entities', 'source', 'source_url', 'in_reply_to_status_id', 'in_reply_to_status_id_str', 'in_reply_to_user_id', 'in_reply_to_user_id_str', 'in_reply_to_screen_name', 'author', 'user', 'geo', 'coordinates', 'place', 'contributors', 'is_quote_status', 'retweet_count', 'favorite_count', 'favorited', 'retweeted', 'lang'])"
      ]
     },
     "execution_count": 13,
     "metadata": {},
     "output_type": "execute_result"
    }
   ],
   "source": [
    "test_fav.keys()"
   ]
  },
  {
   "cell_type": "code",
   "execution_count": 18,
   "metadata": {},
   "outputs": [
    {
     "data": {
      "text/plain": [
       "'leronniee'"
      ]
     },
     "execution_count": 18,
     "metadata": {},
     "output_type": "execute_result"
    }
   ],
   "source": [
    "test_fav['author'].screen_name"
   ]
  },
  {
   "cell_type": "code",
   "execution_count": 20,
   "metadata": {},
   "outputs": [
    {
     "data": {
      "text/plain": [
       "'leronniee'"
      ]
     },
     "execution_count": 20,
     "metadata": {},
     "output_type": "execute_result"
    }
   ],
   "source": [
    "favorites[0].author.screen_name"
   ]
  },
  {
   "cell_type": "code",
   "execution_count": 23,
   "metadata": {},
   "outputs": [],
   "source": [
    "def get_usernames_of_favorited_tweets_by(username):\n",
    "    favs_result_set = api.favorites(username)\n",
    "    usernames = []\n",
    "    for fav in favs_result_set:\n",
    "        usernames.append(fav.author.screen_name)\n",
    "    return usernames\n",
    "    "
   ]
  },
  {
   "cell_type": "code",
   "execution_count": 25,
   "metadata": {},
   "outputs": [
    {
     "name": "stdout",
     "output_type": "stream",
     "text": [
      "RashidaTlaib\n",
      "MoveOn\n",
      "ZamTheWriter\n",
      "matthewstoller\n",
      "LSCtweets\n",
      "thefortunesoc\n",
      "Public_Citizen\n",
      "SeeMiaRoll\n",
      "KyleKulinski\n",
      "colbertlateshow\n",
      "EFFanning\n",
      "RashidaTlaib\n",
      "RashidaTlaib\n",
      "AC360\n",
      "allinwithchris\n",
      "RawStory\n",
      "jbf1755\n",
      "BernieSanders\n",
      "jonfavs\n",
      "PodSaveAmerica\n"
     ]
    }
   ],
   "source": [
    "get_usernames_of_favorited_tweets_by('@AOC')"
   ]
  },
  {
   "cell_type": "code",
   "execution_count": 65,
   "metadata": {},
   "outputs": [],
   "source": [
    "ya1 = ya[10].__dict__"
   ]
  },
  {
   "cell_type": "code",
   "execution_count": 48,
   "metadata": {
    "scrolled": true
   },
   "outputs": [
    {
     "name": "stdout",
     "output_type": "stream",
     "text": [
      "0 why would anyone sensible want bernie sanders as president? the man doesn’t understand so many things???\n",
      "leronniee\n",
      "1 https://t.co/5disYyTfl7\n",
      "IvankaTrump\n",
      "2 Part two https://t.co/uwMS3coImL\n",
      "sophkokott13\n",
      "3 But adding bananas into my diet, I have no Charlie horses anymore.\n",
      "lisa_jillian\n",
      "4 Clipse will always be my favorite group, coke rap at it's purest, nobody does it better\n",
      "Malpalcolm\n",
      "5 I really just want to post something about kevin o'leary and Justin tredeau on Facebook and watch people fight it out in the comments! 😂\n",
      "HarleyJRS\n",
      "6 Jeez this guy has no chill haha #BRIT2017 https://t.co/UHAceTl8ej\n",
      "ethamauno\n",
      "7 We’re back in the tank in 6 minutes! #SharkTank @ABCSharkTank\n",
      "BarbaraCorcoran\n",
      "8 It's that time again...\n",
      "\n",
      "https://t.co/cJO6pcNU84\n",
      "SamHarrisOrg\n",
      "9 @knownastron perhaps you should try harder\n",
      "devon_aulie\n",
      "10 @K_Loran12 https://t.co/pXbbKQAe4M\n",
      "HarleyJRS\n",
      "11 When @K_Loran12 cuts you from the indoor ball team without even tell you so you pray to satan that he tears his ACL… https://t.co/OrKjHkiGa6\n",
      "HarleyJRS\n",
      "12 The US presidential debates are so much more entertaining than Canada’s PM debates.. #trumpmywalls\n",
      "RandHantoosh\n",
      "13 This is awesome. I was inspired by the way Bird played (even tho I hated to admit it back then) and have a hip repl… https://t.co/PAf6dOrdbG\n",
      "bballbreakdown\n",
      "14 If I was a US citizen, I would 100% vote Donald trump. I'm not joking either. @knownastron\n",
      "faizfayyaz\n",
      "15 Pour one out for the unsent messages at LB5Q.... It was a noble try #whereisbuddy https://t.co/tfXMPNDetF\n",
      "chipotleval\n",
      "16 Not wanting to go to sleep on a Sunday because it means Monday will come faster\n",
      "sophkokott13\n",
      "17 Yeah, as if we don’t know you that you were involved in the millions of deaths and misplaced persons, yeah #Iseeyou\n",
      "RandHantoosh\n",
      "18 When Hilary Clinton feels the guilt of 9/11 and is forced to leave memorial. el oh el. #IseeYou\n",
      "RandHantoosh\n",
      "19 \"Did they gay you up yet?\"- my mom on my gender studies class\n",
      "mikewillmad3it\n"
     ]
    }
   ],
   "source": [
    "for i, fav in enumerate(favorites):\n",
    "    cur_fav = fav.__dict__\n",
    "    print(i, cur_fav['text'])\n",
    "    print(cur_fav['user'].screen_name)"
   ]
  },
  {
   "cell_type": "code",
   "execution_count": 67,
   "metadata": {},
   "outputs": [
    {
     "data": {
      "text/plain": [
       "User(_api=<tweepy.api.API object at 0x10645d780>, _json={'id': 86344052, 'id_str': '86344052', 'name': 'BBALLBREAKDOWN', 'screen_name': 'bballbreakdown', 'location': 'Los Angeles', 'description': 'Sports Fans, Coach Nick here. The most popular channel dedicated to @NBA Analysis. LIVE In Game Tweets. For my monthly membership: https://t.co/2yoBcoJUEh', 'url': 'https://t.co/vHdSnE6SrZ', 'entities': {'url': {'urls': [{'url': 'https://t.co/vHdSnE6SrZ', 'expanded_url': 'http://youtube.com/bballbreakdown', 'display_url': 'youtube.com/bballbreakdown', 'indices': [0, 23]}]}, 'description': {'urls': [{'url': 'https://t.co/2yoBcoJUEh', 'expanded_url': 'http://bballbreakdown.com', 'display_url': 'bballbreakdown.com', 'indices': [131, 154]}]}}, 'protected': False, 'followers_count': 110860, 'friends_count': 1988, 'listed_count': 2846, 'created_at': 'Fri Oct 30 16:14:17 +0000 2009', 'favourites_count': 9843, 'utc_offset': None, 'time_zone': None, 'geo_enabled': True, 'verified': False, 'statuses_count': 289171, 'lang': None, 'contributors_enabled': False, 'is_translator': False, 'is_translation_enabled': False, 'profile_background_color': 'C0DEED', 'profile_background_image_url': 'http://abs.twimg.com/images/themes/theme1/bg.png', 'profile_background_image_url_https': 'https://abs.twimg.com/images/themes/theme1/bg.png', 'profile_background_tile': False, 'profile_image_url': 'http://pbs.twimg.com/profile_images/1058828695815606272/5YA-op5Q_normal.jpg', 'profile_image_url_https': 'https://pbs.twimg.com/profile_images/1058828695815606272/5YA-op5Q_normal.jpg', 'profile_banner_url': 'https://pbs.twimg.com/profile_banners/86344052/1541027841', 'profile_link_color': '0084B4', 'profile_sidebar_border_color': 'C0DEED', 'profile_sidebar_fill_color': 'DDEEF6', 'profile_text_color': '333333', 'profile_use_background_image': True, 'has_extended_profile': False, 'default_profile': False, 'default_profile_image': False, 'following': True, 'follow_request_sent': False, 'notifications': False, 'translator_type': 'none'}, id=86344052, id_str='86344052', name='BBALLBREAKDOWN', screen_name='bballbreakdown', location='Los Angeles', description='Sports Fans, Coach Nick here. The most popular channel dedicated to @NBA Analysis. LIVE In Game Tweets. For my monthly membership: https://t.co/2yoBcoJUEh', url='https://t.co/vHdSnE6SrZ', entities={'url': {'urls': [{'url': 'https://t.co/vHdSnE6SrZ', 'expanded_url': 'http://youtube.com/bballbreakdown', 'display_url': 'youtube.com/bballbreakdown', 'indices': [0, 23]}]}, 'description': {'urls': [{'url': 'https://t.co/2yoBcoJUEh', 'expanded_url': 'http://bballbreakdown.com', 'display_url': 'bballbreakdown.com', 'indices': [131, 154]}]}}, protected=False, followers_count=110860, friends_count=1988, listed_count=2846, created_at=datetime.datetime(2009, 10, 30, 16, 14, 17), favourites_count=9843, utc_offset=None, time_zone=None, geo_enabled=True, verified=False, statuses_count=289171, lang=None, contributors_enabled=False, is_translator=False, is_translation_enabled=False, profile_background_color='C0DEED', profile_background_image_url='http://abs.twimg.com/images/themes/theme1/bg.png', profile_background_image_url_https='https://abs.twimg.com/images/themes/theme1/bg.png', profile_background_tile=False, profile_image_url='http://pbs.twimg.com/profile_images/1058828695815606272/5YA-op5Q_normal.jpg', profile_image_url_https='https://pbs.twimg.com/profile_images/1058828695815606272/5YA-op5Q_normal.jpg', profile_banner_url='https://pbs.twimg.com/profile_banners/86344052/1541027841', profile_link_color='0084B4', profile_sidebar_border_color='C0DEED', profile_sidebar_fill_color='DDEEF6', profile_text_color='333333', profile_use_background_image=True, has_extended_profile=False, default_profile=False, default_profile_image=False, following=True, follow_request_sent=False, notifications=False, translator_type='none')"
      ]
     },
     "execution_count": 67,
     "metadata": {},
     "output_type": "execute_result"
    }
   ],
   "source": [
    "favorites[13].__dict__['author']"
   ]
  },
  {
   "cell_type": "code",
   "execution_count": null,
   "metadata": {},
   "outputs": [],
   "source": []
  },
  {
   "cell_type": "code",
   "execution_count": 68,
   "metadata": {},
   "outputs": [
    {
     "data": {
      "text/plain": [
       "'When @K_Loran12 cuts you from the indoor ball team without even tell you so you pray to satan that he tears his ACL… https://t.co/OrKjHkiGa6'"
      ]
     },
     "execution_count": 68,
     "metadata": {},
     "output_type": "execute_result"
    }
   ],
   "source": [
    "ya1['text']"
   ]
  },
  {
   "cell_type": "code",
   "execution_count": 69,
   "metadata": {},
   "outputs": [],
   "source": [
    "author = ya1['author'].__dict__"
   ]
  },
  {
   "cell_type": "code",
   "execution_count": 70,
   "metadata": {},
   "outputs": [
    {
     "data": {
      "text/plain": [
       "'Harley Sinclair'"
      ]
     },
     "execution_count": 70,
     "metadata": {},
     "output_type": "execute_result"
    }
   ],
   "source": [
    "author['name']"
   ]
  },
  {
   "cell_type": "code",
   "execution_count": 71,
   "metadata": {},
   "outputs": [],
   "source": [
    "statuses = api.statuses_lookup(['1162180754371223552'])"
   ]
  },
  {
   "cell_type": "code",
   "execution_count": 72,
   "metadata": {},
   "outputs": [],
   "source": [
    "status = statuses[0].__dict__"
   ]
  },
  {
   "cell_type": "code",
   "execution_count": 73,
   "metadata": {},
   "outputs": [
    {
     "name": "stdout",
     "output_type": "stream",
     "text": [
      "_api\n",
      "_json\n",
      "created_at\n",
      "id\n",
      "id_str\n",
      "text\n",
      "truncated\n",
      "entities\n",
      "source\n",
      "source_url\n",
      "in_reply_to_status_id\n",
      "in_reply_to_status_id_str\n",
      "in_reply_to_user_id\n",
      "in_reply_to_user_id_str\n",
      "in_reply_to_screen_name\n",
      "author\n",
      "user\n",
      "geo\n",
      "coordinates\n",
      "place\n",
      "contributors\n",
      "is_quote_status\n",
      "retweet_count\n",
      "favorite_count\n",
      "favorited\n",
      "retweeted\n",
      "lang\n"
     ]
    }
   ],
   "source": [
    "for key in status.keys():\n",
    "    print(key)"
   ]
  },
  {
   "cell_type": "code",
   "execution_count": 74,
   "metadata": {},
   "outputs": [
    {
     "data": {
      "text/plain": [
       "User(_api=<tweepy.api.API object at 0x10645d780>, _json={'id': 1361039156, 'id_str': '1361039156', 'name': '🌹 Malcolm Percocets', 'screen_name': 'Malpalcolm', 'location': '', 'description': '', 'url': None, 'entities': {'description': {'urls': []}}, 'protected': False, 'followers_count': 160, 'friends_count': 298, 'listed_count': 0, 'created_at': 'Thu Apr 18 04:46:19 +0000 2013', 'favourites_count': 29280, 'utc_offset': None, 'time_zone': None, 'geo_enabled': False, 'verified': False, 'statuses_count': 8454, 'lang': None, 'contributors_enabled': False, 'is_translator': False, 'is_translation_enabled': False, 'profile_background_color': '00C24E', 'profile_background_image_url': 'http://abs.twimg.com/images/themes/theme1/bg.png', 'profile_background_image_url_https': 'https://abs.twimg.com/images/themes/theme1/bg.png', 'profile_background_tile': False, 'profile_image_url': 'http://pbs.twimg.com/profile_images/1160784093715546112/4539-AID_normal.jpg', 'profile_image_url_https': 'https://pbs.twimg.com/profile_images/1160784093715546112/4539-AID_normal.jpg', 'profile_banner_url': 'https://pbs.twimg.com/profile_banners/1361039156/1508813690', 'profile_link_color': 'A899F4', 'profile_sidebar_border_color': '000000', 'profile_sidebar_fill_color': 'DDEEF6', 'profile_text_color': '333333', 'profile_use_background_image': True, 'has_extended_profile': False, 'default_profile': False, 'default_profile_image': False, 'following': True, 'follow_request_sent': False, 'notifications': False, 'translator_type': 'none'}, id=1361039156, id_str='1361039156', name='🌹 Malcolm Percocets', screen_name='Malpalcolm', location='', description='', url=None, entities={'description': {'urls': []}}, protected=False, followers_count=160, friends_count=298, listed_count=0, created_at=datetime.datetime(2013, 4, 18, 4, 46, 19), favourites_count=29280, utc_offset=None, time_zone=None, geo_enabled=False, verified=False, statuses_count=8454, lang=None, contributors_enabled=False, is_translator=False, is_translation_enabled=False, profile_background_color='00C24E', profile_background_image_url='http://abs.twimg.com/images/themes/theme1/bg.png', profile_background_image_url_https='https://abs.twimg.com/images/themes/theme1/bg.png', profile_background_tile=False, profile_image_url='http://pbs.twimg.com/profile_images/1160784093715546112/4539-AID_normal.jpg', profile_image_url_https='https://pbs.twimg.com/profile_images/1160784093715546112/4539-AID_normal.jpg', profile_banner_url='https://pbs.twimg.com/profile_banners/1361039156/1508813690', profile_link_color='A899F4', profile_sidebar_border_color='000000', profile_sidebar_fill_color='DDEEF6', profile_text_color='333333', profile_use_background_image=True, has_extended_profile=False, default_profile=False, default_profile_image=False, following=True, follow_request_sent=False, notifications=False, translator_type='none')"
      ]
     },
     "execution_count": 74,
     "metadata": {},
     "output_type": "execute_result"
    }
   ],
   "source": [
    "status['user']"
   ]
  },
  {
   "cell_type": "code",
   "execution_count": 170,
   "metadata": {},
   "outputs": [],
   "source": [
    "def getText(text):\n",
    "    \"\"\"Replace some text\n",
    "    \"\"\"\n",
    "    text = text.replace(\"\\n\", \" \")\n",
    "    text = text.replace(\"http\", \" http\")\n",
    "    text = text.replace(\"pic.twitter\", \" pic.twitter\")\n",
    "    return text\n",
    "\n",
    "import format\n",
    "\n",
    "def getTextOfTweets(username, num_tweets):\n",
    "    '''\n",
    "    Gets all the texts of a tweet:\n",
    "    - uses formatText\n",
    "    - does not include retweets\n",
    "    '''\n",
    "    tweet_texts = []\n",
    "    for status in Cursor(api.user_timeline, screen_name=username, tweet_mode=\"extended\").items(num_tweets):\n",
    "        if status.full_text[:2] == 'RT':\n",
    "            continue\n",
    "        tweet_texts.append(format.formatTweetText(status.full_text))\n",
    "    return tweet_texts"
   ]
  },
  {
   "cell_type": "code",
   "execution_count": 171,
   "metadata": {},
   "outputs": [
    {
     "data": {
      "text/plain": [
       "['I’m not mad, Jon  I’m just... Disappointed.  Now give me your car keys You’re grounded',\n",
       " 'And you’ve beaten some of the best, but nobody believes a word you say.',\n",
       " 'Check out my new sponsor: The Athletic! Use the link https://t.co/JaPa0WBi2j for a special monthly rate at only $2.99 per month for the year.  That’s a 40% savings!    Only available for my listeners!”    https://t.co/rK4upyfI5n and https://t.co/qhG31rpPRZ',\n",
       " '-We’ll BOTH be tellin’ stories about our past glories in a barber-shop when we’re 75 But You’ll be tellin’ yours in a PRISON Barber-Shop, I’m guessin’']"
      ]
     },
     "execution_count": 171,
     "metadata": {},
     "output_type": "execute_result"
    }
   ],
   "source": [
    "get_text_of_tweets('@chaelsonnen', 5)"
   ]
  },
  {
   "cell_type": "code",
   "execution_count": 148,
   "metadata": {},
   "outputs": [],
   "source": [
    "muh_list = []\n",
    "ya_list = []"
   ]
  },
  {
   "cell_type": "code",
   "execution_count": 135,
   "metadata": {},
   "outputs": [],
   "source": [
    "tweets = api.user_timeline('@knownastron', count=200, tweet_mode='extended')"
   ]
  },
  {
   "cell_type": "code",
   "execution_count": 149,
   "metadata": {},
   "outputs": [],
   "source": [
    "from tweepy import Cursor\n",
    "for status in Cursor(api.user_timeline, screen_name='@knownastron', tweet_mode=\"extended\").items(200):\n",
    "    ya_list.append(status)"
   ]
  },
  {
   "cell_type": "code",
   "execution_count": 150,
   "metadata": {},
   "outputs": [
    {
     "data": {
      "text/plain": [
       "0"
      ]
     },
     "execution_count": 150,
     "metadata": {},
     "output_type": "execute_result"
    }
   ],
   "source": [
    "len(muh_list)"
   ]
  },
  {
   "cell_type": "code",
   "execution_count": 151,
   "metadata": {},
   "outputs": [],
   "source": [
    "for i,status in enumerate(muh_list):\n",
    "    print(i, status.full_text, '\\n')"
   ]
  },
  {
   "cell_type": "code",
   "execution_count": null,
   "metadata": {},
   "outputs": [],
   "source": []
  },
  {
   "cell_type": "code",
   "execution_count": null,
   "metadata": {},
   "outputs": [],
   "source": []
  },
  {
   "cell_type": "code",
   "execution_count": 118,
   "metadata": {},
   "outputs": [],
   "source": [
    "tweets1 = tweets[2].__dict__"
   ]
  },
  {
   "cell_type": "code",
   "execution_count": 172,
   "metadata": {},
   "outputs": [
    {
     "data": {
      "text/plain": [
       "'Biggest crowd EVER, according to Arena people. Thousands outside trying to get in. Place was packed! Radical Left Dems &amp; their Partner, LameStream Media, saying Arena empty. Check out pictures. Fake News. The Enemy of the People! https://t.co/KkZWspM93a'"
      ]
     },
     "execution_count": 172,
     "metadata": {},
     "output_type": "execute_result"
    }
   ],
   "source": [
    "tweets1['full_text']"
   ]
  },
  {
   "cell_type": "code",
   "execution_count": 178,
   "metadata": {},
   "outputs": [],
   "source": [
    "follower_list = []"
   ]
  },
  {
   "cell_type": "code",
   "execution_count": 186,
   "metadata": {},
   "outputs": [],
   "source": [
    "def get_followers(username):\n",
    "    follower_list = []\n",
    "    for follower in Cursor(api.followers, screen_name=username).items():\n",
    "        follower_list.append(follower.screen_name)\n",
    "    return follower_list\n",
    "\n",
    "    \n",
    "    "
   ]
  },
  {
   "cell_type": "code",
   "execution_count": 38,
   "metadata": {},
   "outputs": [],
   "source": [
    "resources = api.rate_limit_status()['resources']"
   ]
  },
  {
   "cell_type": "code",
   "execution_count": 40,
   "metadata": {},
   "outputs": [
    {
     "data": {
      "text/plain": [
       "{'/lists/list': {'limit': 15, 'remaining': 15, 'reset': 1566421165},\n",
       " '/lists/memberships': {'limit': 75, 'remaining': 75, 'reset': 1566421165},\n",
       " '/lists/subscribers/show': {'limit': 15,\n",
       "  'remaining': 15,\n",
       "  'reset': 1566421165},\n",
       " '/lists/members': {'limit': 900, 'remaining': 900, 'reset': 1566421165},\n",
       " '/lists/subscriptions': {'limit': 15, 'remaining': 15, 'reset': 1566421165},\n",
       " '/lists/show': {'limit': 75, 'remaining': 75, 'reset': 1566421165},\n",
       " '/lists/ownerships': {'limit': 15, 'remaining': 15, 'reset': 1566421165},\n",
       " '/lists/subscribers': {'limit': 180, 'remaining': 180, 'reset': 1566421165},\n",
       " '/lists/members/show': {'limit': 15, 'remaining': 15, 'reset': 1566421165},\n",
       " '/lists/statuses': {'limit': 900, 'remaining': 900, 'reset': 1566421165}}"
      ]
     },
     "execution_count": 40,
     "metadata": {},
     "output_type": "execute_result"
    }
   ],
   "source": [
    "resources['lists']"
   ]
  },
  {
   "cell_type": "code",
   "execution_count": 50,
   "metadata": {},
   "outputs": [
    {
     "name": "stdout",
     "output_type": "stream",
     "text": [
      "/application/rate_limit_status 180 169\n",
      "/favorites/list 75 74\n"
     ]
    }
   ],
   "source": [
    "resource_type = resources.keys()\n",
    "for key in resources:\n",
    "    resource_group = resources[key]\n",
    "    for key1 in resource_group:\n",
    "        limit_info = resource_group[key1]\n",
    "        if limit_info['remaining'] < limit_info['limit']:\n",
    "            print(key1, limit_info['limit'], limit_info['remaining'])\n"
   ]
  },
  {
   "cell_type": "code",
   "execution_count": null,
   "metadata": {},
   "outputs": [],
   "source": []
  },
  {
   "cell_type": "code",
   "execution_count": 30,
   "metadata": {},
   "outputs": [],
   "source": [
    "def get_liked_list(tweet_id):\n",
    "    # get the data of likers                                                                                                 \n",
    "    r = requests.get('https://twitter.com/i/activity/favorited_popup?id='+tweet_id)\n",
    "    r = requests.get('https://twitter.com/i/activity/favorited_popup?id='+tweet_id)\n",
    "    # use the grep in order to get the retweeters\n",
    "    text = r.text\n",
    "    likers = re.findall('div class=\\\\\\\\\"account  js-actionable-user js-profile-popup-actionable \\\\\\\\\" data-screen-name=\\\\\\\\\"\\(.+?)\\\\\\\\\" data-user-id=\\\\\\\\\"', text)\n",
    "    likers = re.findall('div class=\\\\\\\\\"account  js-actionable-user js-profile-popup-actionable \\\\\\\\\" data-screen-name=\\\\\\\\\"(.+?)\\\\\\\\\" data-user-id=\\\\\\\\\"', text)\n",
    "    \n",
    "    return likers"
   ]
  },
  {
   "cell_type": "code",
   "execution_count": 31,
   "metadata": {},
   "outputs": [
    {
     "ename": "AttributeError",
     "evalue": "'Response' object has no attribute 'findall'",
     "output_type": "error",
     "traceback": [
      "\u001b[0;31m---------------------------------------------------------------------------\u001b[0m",
      "\u001b[0;31mAttributeError\u001b[0m                            Traceback (most recent call last)",
      "\u001b[0;32m<ipython-input-31-44c607bca769>\u001b[0m in \u001b[0;36m<module>\u001b[0;34m\u001b[0m\n\u001b[0;32m----> 1\u001b[0;31m \u001b[0mget_liked_list\u001b[0m\u001b[0;34m(\u001b[0m\u001b[0;34m'1163869223610912770'\u001b[0m\u001b[0;34m)\u001b[0m\u001b[0;34m\u001b[0m\u001b[0;34m\u001b[0m\u001b[0m\n\u001b[0m",
      "\u001b[0;32m<ipython-input-30-07457688f97b>\u001b[0m in \u001b[0;36mget_liked_list\u001b[0;34m(tweet_id)\u001b[0m\n\u001b[1;32m      5\u001b[0m     \u001b[0;31m# use the grep in order to get the retweeters\u001b[0m\u001b[0;34m\u001b[0m\u001b[0;34m\u001b[0m\u001b[0;34m\u001b[0m\u001b[0m\n\u001b[1;32m      6\u001b[0m     \u001b[0mtext\u001b[0m \u001b[0;34m=\u001b[0m \u001b[0mr\u001b[0m\u001b[0;34m.\u001b[0m\u001b[0mtext\u001b[0m\u001b[0;34m\u001b[0m\u001b[0;34m\u001b[0m\u001b[0m\n\u001b[0;32m----> 7\u001b[0;31m     likers = r.findall('div class=\\\\\\\\\"account  js-actionable-user js-profile-popup-actionable \\\\\\\\\" data-screen-name=\\\\\\\\\"\\\n\u001b[0m\u001b[1;32m      8\u001b[0m         (.+?)\\\\\\\\\" data-user-id=\\\\\\\\\"', text)\n\u001b[1;32m      9\u001b[0m \u001b[0;34m\u001b[0m\u001b[0m\n",
      "\u001b[0;31mAttributeError\u001b[0m: 'Response' object has no attribute 'findall'"
     ]
    }
   ],
   "source": [
    "get_liked_list('1163869223610912770')"
   ]
  },
  {
   "cell_type": "code",
   "execution_count": 28,
   "metadata": {},
   "outputs": [],
   "source": [
    "def get_retweeters_list(username, tweet_id):\n",
    "    # get the data of retweets\n",
    "    r = requests.get('https://twitter.com/i/activity/_popup?id='+tweet_id)\n",
    "    # use the grep in order to get the retweeters\n",
    "    text = r.text\n",
    "    x = re.findall('div class=\\\\\\\\\"account  js-actionable-user js-profile-popup-actionable \\\\\\\\\" data-screen-name=\\\\\\\\\"(.+?)\\\\\\\\\" data-user-id=\\\\\\\\\"', text)\n",
    "    return x"
   ]
  },
  {
   "cell_type": "code",
   "execution_count": 32,
   "metadata": {},
   "outputs": [
    {
     "data": {
      "text/plain": [
       "['TrumpTrain_1',\n",
       " 'KCpartyof5',\n",
       " 'JBTonightShow',\n",
       " 'PhaedrusAnimus',\n",
       " 'Cutchens',\n",
       " 'Mar00624162',\n",
       " 'dodger48',\n",
       " 'momuar42',\n",
       " 'santinotucci69',\n",
       " 'NetteDonnelly',\n",
       " 'masurkar',\n",
       " 'AndyDav12993766',\n",
       " 'sylobe',\n",
       " 'karaokemomo1',\n",
       " 'dustinherrick1',\n",
       " 'coffee4binky',\n",
       " 'Faux_Pearl',\n",
       " 'olivealoe',\n",
       " 'happy_dog2017',\n",
       " 'misterpitney',\n",
       " 'DakotaSioux2',\n",
       " '12billpen',\n",
       " 'ElrealMartinG',\n",
       " 'bebetatro',\n",
       " 'MrsArboe']"
      ]
     },
     "execution_count": 32,
     "metadata": {},
     "output_type": "execute_result"
    }
   ],
   "source": [
    "get_retweeters_list('ya','1163836348819750912')"
   ]
  },
  {
   "cell_type": "code",
   "execution_count": 51,
   "metadata": {},
   "outputs": [],
   "source": [
    "tweet_url = 'https://twitter.com/AOC/status/1151868495824642049'"
   ]
  },
  {
   "cell_type": "code",
   "execution_count": 52,
   "metadata": {},
   "outputs": [],
   "source": [
    "index_of_twitter = split_url.index('twitter.com')\n",
    "username = format.format_username(split_url[index_of_twitter + 1])\n",
    "tweet_id = split_url[index_of_twitter + 3]"
   ]
  },
  {
   "cell_type": "code",
   "execution_count": 53,
   "metadata": {},
   "outputs": [
    {
     "data": {
      "text/plain": [
       "['https:', '', 'twitter.com', 'AOC', 'status', '1151868495824642049']"
      ]
     },
     "execution_count": 53,
     "metadata": {},
     "output_type": "execute_result"
    }
   ],
   "source": []
  },
  {
   "cell_type": "code",
   "execution_count": 58,
   "metadata": {},
   "outputs": [
    {
     "data": {
      "text/plain": [
       "'1151868495824642049'"
      ]
     },
     "execution_count": 58,
     "metadata": {},
     "output_type": "execute_result"
    }
   ],
   "source": [
    "username = format.format_username(split_url[3])\n",
    "tweet_id = split_url[5]\n",
    "tweet_id"
   ]
  },
  {
   "cell_type": "code",
   "execution_count": 60,
   "metadata": {},
   "outputs": [],
   "source": [
    "index_of_twitter = split_url.index('twitter.com')\n",
    "username = format.format_username(split_url[index_of_twitter + 1])\n",
    "tweet_id = split_url[index_of_twitter + 3]"
   ]
  },
  {
   "cell_type": "code",
   "execution_count": 62,
   "metadata": {},
   "outputs": [
    {
     "data": {
      "text/plain": [
       "'1151868495824642049'"
      ]
     },
     "execution_count": 62,
     "metadata": {},
     "output_type": "execute_result"
    }
   ],
   "source": [
    "tweet_id"
   ]
  },
  {
   "cell_type": "code",
   "execution_count": 63,
   "metadata": {},
   "outputs": [],
   "source": [
    "def get_username_and_tweet_id(url):\n",
    "    split_url = url.split('/')\n",
    "    index_of_twitter = split_url.index('twitter.com')\n",
    "    username = format.format_username(split_url[index_of_twitter + 1])\n",
    "    tweet_id = split_url[index_of_twitter + 3]"
   ]
  },
  {
   "cell_type": "code",
   "execution_count": 64,
   "metadata": {},
   "outputs": [],
   "source": []
  },
  {
   "cell_type": "code",
   "execution_count": 68,
   "metadata": {},
   "outputs": [],
   "source": [
    "twit_conn = tf.TwitterConnection()"
   ]
  },
  {
   "cell_type": "code",
   "execution_count": 100,
   "metadata": {},
   "outputs": [
    {
     "ename": "RateLimitError",
     "evalue": "[{'message': 'Rate limit exceeded', 'code': 88}]",
     "output_type": "error",
     "traceback": [
      "\u001b[0;31m---------------------------------------------------------------------------\u001b[0m",
      "\u001b[0;31mRateLimitError\u001b[0m                            Traceback (most recent call last)",
      "\u001b[0;32m<ipython-input-100-9c07f6b8fdf8>\u001b[0m in \u001b[0;36m<module>\u001b[0;34m\u001b[0m\n\u001b[0;32m----> 1\u001b[0;31m \u001b[0mfollowers\u001b[0m \u001b[0;34m=\u001b[0m \u001b[0mtwit_conn\u001b[0m\u001b[0;34m.\u001b[0m\u001b[0mget_followers\u001b[0m\u001b[0;34m(\u001b[0m\u001b[0;34m'@AOC'\u001b[0m\u001b[0;34m)\u001b[0m\u001b[0;34m\u001b[0m\u001b[0;34m\u001b[0m\u001b[0m\n\u001b[0m",
      "\u001b[0;32m~/Documents/knownastron/capstone/project/twitter_functions.py\u001b[0m in \u001b[0;36mget_followers\u001b[0;34m(self, username)\u001b[0m\n\u001b[1;32m     38\u001b[0m         \u001b[0mGet\u001b[0m \u001b[0mlist\u001b[0m \u001b[0mof\u001b[0m \u001b[0mfollower\u001b[0m\u001b[0;31m'\u001b[0m\u001b[0ms\u001b[0m \u001b[0musernames\u001b[0m\u001b[0;34m\u001b[0m\u001b[0;34m\u001b[0m\u001b[0m\n\u001b[1;32m     39\u001b[0m         '''\n\u001b[0;32m---> 40\u001b[0;31m         \u001b[0mfollower_list\u001b[0m \u001b[0;34m=\u001b[0m \u001b[0;34m[\u001b[0m\u001b[0;34m]\u001b[0m\u001b[0;34m\u001b[0m\u001b[0;34m\u001b[0m\u001b[0m\n\u001b[0m\u001b[1;32m     41\u001b[0m         \u001b[0mitems\u001b[0m \u001b[0;34m=\u001b[0m \u001b[0mCursor\u001b[0m\u001b[0;34m(\u001b[0m\u001b[0mself\u001b[0m\u001b[0;34m.\u001b[0m\u001b[0mapi\u001b[0m\u001b[0;34m.\u001b[0m\u001b[0mfollowers\u001b[0m\u001b[0;34m,\u001b[0m \u001b[0mscreen_name\u001b[0m\u001b[0;34m=\u001b[0m\u001b[0musername\u001b[0m\u001b[0;34m)\u001b[0m\u001b[0;34m.\u001b[0m\u001b[0mitems\u001b[0m\u001b[0;34m(\u001b[0m\u001b[0;36m20\u001b[0m\u001b[0;34m)\u001b[0m\u001b[0;34m\u001b[0m\u001b[0;34m\u001b[0m\u001b[0m\n\u001b[1;32m     42\u001b[0m \u001b[0;34m\u001b[0m\u001b[0m\n",
      "\u001b[0;32m/usr/local/lib/python3.7/site-packages/tweepy/cursor.py\u001b[0m in \u001b[0;36m__next__\u001b[0;34m(self)\u001b[0m\n\u001b[1;32m     45\u001b[0m \u001b[0;34m\u001b[0m\u001b[0m\n\u001b[1;32m     46\u001b[0m     \u001b[0;32mdef\u001b[0m \u001b[0m__next__\u001b[0m\u001b[0;34m(\u001b[0m\u001b[0mself\u001b[0m\u001b[0;34m)\u001b[0m\u001b[0;34m:\u001b[0m\u001b[0;34m\u001b[0m\u001b[0;34m\u001b[0m\u001b[0m\n\u001b[0;32m---> 47\u001b[0;31m         \u001b[0;32mreturn\u001b[0m \u001b[0mself\u001b[0m\u001b[0;34m.\u001b[0m\u001b[0mnext\u001b[0m\u001b[0;34m(\u001b[0m\u001b[0;34m)\u001b[0m\u001b[0;34m\u001b[0m\u001b[0;34m\u001b[0m\u001b[0m\n\u001b[0m\u001b[1;32m     48\u001b[0m \u001b[0;34m\u001b[0m\u001b[0m\n\u001b[1;32m     49\u001b[0m     \u001b[0;32mdef\u001b[0m \u001b[0mnext\u001b[0m\u001b[0;34m(\u001b[0m\u001b[0mself\u001b[0m\u001b[0;34m)\u001b[0m\u001b[0;34m:\u001b[0m\u001b[0;34m\u001b[0m\u001b[0;34m\u001b[0m\u001b[0m\n",
      "\u001b[0;32m/usr/local/lib/python3.7/site-packages/tweepy/cursor.py\u001b[0m in \u001b[0;36mnext\u001b[0;34m(self)\u001b[0m\n\u001b[1;32m    193\u001b[0m         \u001b[0;32mif\u001b[0m \u001b[0mself\u001b[0m\u001b[0;34m.\u001b[0m\u001b[0mcurrent_page\u001b[0m \u001b[0;32mis\u001b[0m \u001b[0;32mNone\u001b[0m \u001b[0;32mor\u001b[0m \u001b[0mself\u001b[0m\u001b[0;34m.\u001b[0m\u001b[0mpage_index\u001b[0m \u001b[0;34m==\u001b[0m \u001b[0mlen\u001b[0m\u001b[0;34m(\u001b[0m\u001b[0mself\u001b[0m\u001b[0;34m.\u001b[0m\u001b[0mcurrent_page\u001b[0m\u001b[0;34m)\u001b[0m \u001b[0;34m-\u001b[0m \u001b[0;36m1\u001b[0m\u001b[0;34m:\u001b[0m\u001b[0;34m\u001b[0m\u001b[0;34m\u001b[0m\u001b[0m\n\u001b[1;32m    194\u001b[0m             \u001b[0;31m# Reached end of current page, get the next page...\u001b[0m\u001b[0;34m\u001b[0m\u001b[0;34m\u001b[0m\u001b[0;34m\u001b[0m\u001b[0m\n\u001b[0;32m--> 195\u001b[0;31m             \u001b[0mself\u001b[0m\u001b[0;34m.\u001b[0m\u001b[0mcurrent_page\u001b[0m \u001b[0;34m=\u001b[0m \u001b[0mself\u001b[0m\u001b[0;34m.\u001b[0m\u001b[0mpage_iterator\u001b[0m\u001b[0;34m.\u001b[0m\u001b[0mnext\u001b[0m\u001b[0;34m(\u001b[0m\u001b[0;34m)\u001b[0m\u001b[0;34m\u001b[0m\u001b[0;34m\u001b[0m\u001b[0m\n\u001b[0m\u001b[1;32m    196\u001b[0m             \u001b[0mself\u001b[0m\u001b[0;34m.\u001b[0m\u001b[0mpage_index\u001b[0m \u001b[0;34m=\u001b[0m \u001b[0;34m-\u001b[0m\u001b[0;36m1\u001b[0m\u001b[0;34m\u001b[0m\u001b[0;34m\u001b[0m\u001b[0m\n\u001b[1;32m    197\u001b[0m         \u001b[0mself\u001b[0m\u001b[0;34m.\u001b[0m\u001b[0mpage_index\u001b[0m \u001b[0;34m+=\u001b[0m \u001b[0;36m1\u001b[0m\u001b[0;34m\u001b[0m\u001b[0;34m\u001b[0m\u001b[0m\n",
      "\u001b[0;32m/usr/local/lib/python3.7/site-packages/tweepy/cursor.py\u001b[0m in \u001b[0;36mnext\u001b[0;34m(self)\u001b[0m\n\u001b[1;32m     71\u001b[0m         data, cursors = self.method(cursor=self.next_cursor,\n\u001b[1;32m     72\u001b[0m                                     \u001b[0;34m*\u001b[0m\u001b[0mself\u001b[0m\u001b[0;34m.\u001b[0m\u001b[0margs\u001b[0m\u001b[0;34m,\u001b[0m\u001b[0;34m\u001b[0m\u001b[0;34m\u001b[0m\u001b[0m\n\u001b[0;32m---> 73\u001b[0;31m                                     **self.kargs)\n\u001b[0m\u001b[1;32m     74\u001b[0m         \u001b[0mself\u001b[0m\u001b[0;34m.\u001b[0m\u001b[0mprev_cursor\u001b[0m\u001b[0;34m,\u001b[0m \u001b[0mself\u001b[0m\u001b[0;34m.\u001b[0m\u001b[0mnext_cursor\u001b[0m \u001b[0;34m=\u001b[0m \u001b[0mcursors\u001b[0m\u001b[0;34m\u001b[0m\u001b[0;34m\u001b[0m\u001b[0m\n\u001b[1;32m     75\u001b[0m         \u001b[0;32mif\u001b[0m \u001b[0mlen\u001b[0m\u001b[0;34m(\u001b[0m\u001b[0mdata\u001b[0m\u001b[0;34m)\u001b[0m \u001b[0;34m==\u001b[0m \u001b[0;36m0\u001b[0m\u001b[0;34m:\u001b[0m\u001b[0;34m\u001b[0m\u001b[0;34m\u001b[0m\u001b[0m\n",
      "\u001b[0;32m/usr/local/lib/python3.7/site-packages/tweepy/binder.py\u001b[0m in \u001b[0;36m_call\u001b[0;34m(*args, **kwargs)\u001b[0m\n\u001b[1;32m    248\u001b[0m                 \u001b[0;32mreturn\u001b[0m \u001b[0mmethod\u001b[0m\u001b[0;34m\u001b[0m\u001b[0;34m\u001b[0m\u001b[0m\n\u001b[1;32m    249\u001b[0m             \u001b[0;32melse\u001b[0m\u001b[0;34m:\u001b[0m\u001b[0;34m\u001b[0m\u001b[0;34m\u001b[0m\u001b[0m\n\u001b[0;32m--> 250\u001b[0;31m                 \u001b[0;32mreturn\u001b[0m \u001b[0mmethod\u001b[0m\u001b[0;34m.\u001b[0m\u001b[0mexecute\u001b[0m\u001b[0;34m(\u001b[0m\u001b[0;34m)\u001b[0m\u001b[0;34m\u001b[0m\u001b[0;34m\u001b[0m\u001b[0m\n\u001b[0m\u001b[1;32m    251\u001b[0m         \u001b[0;32mfinally\u001b[0m\u001b[0;34m:\u001b[0m\u001b[0;34m\u001b[0m\u001b[0;34m\u001b[0m\u001b[0m\n\u001b[1;32m    252\u001b[0m             \u001b[0mmethod\u001b[0m\u001b[0;34m.\u001b[0m\u001b[0msession\u001b[0m\u001b[0;34m.\u001b[0m\u001b[0mclose\u001b[0m\u001b[0;34m(\u001b[0m\u001b[0;34m)\u001b[0m\u001b[0;34m\u001b[0m\u001b[0;34m\u001b[0m\u001b[0m\n",
      "\u001b[0;32m/usr/local/lib/python3.7/site-packages/tweepy/binder.py\u001b[0m in \u001b[0;36mexecute\u001b[0;34m(self)\u001b[0m\n\u001b[1;32m    229\u001b[0m \u001b[0;34m\u001b[0m\u001b[0m\n\u001b[1;32m    230\u001b[0m                 \u001b[0;32mif\u001b[0m \u001b[0mis_rate_limit_error_message\u001b[0m\u001b[0;34m(\u001b[0m\u001b[0merror_msg\u001b[0m\u001b[0;34m)\u001b[0m\u001b[0;34m:\u001b[0m\u001b[0;34m\u001b[0m\u001b[0;34m\u001b[0m\u001b[0m\n\u001b[0;32m--> 231\u001b[0;31m                     \u001b[0;32mraise\u001b[0m \u001b[0mRateLimitError\u001b[0m\u001b[0;34m(\u001b[0m\u001b[0merror_msg\u001b[0m\u001b[0;34m,\u001b[0m \u001b[0mresp\u001b[0m\u001b[0;34m)\u001b[0m\u001b[0;34m\u001b[0m\u001b[0;34m\u001b[0m\u001b[0m\n\u001b[0m\u001b[1;32m    232\u001b[0m                 \u001b[0;32melse\u001b[0m\u001b[0;34m:\u001b[0m\u001b[0;34m\u001b[0m\u001b[0;34m\u001b[0m\u001b[0m\n\u001b[1;32m    233\u001b[0m                     \u001b[0;32mraise\u001b[0m \u001b[0mTweepError\u001b[0m\u001b[0;34m(\u001b[0m\u001b[0merror_msg\u001b[0m\u001b[0;34m,\u001b[0m \u001b[0mresp\u001b[0m\u001b[0;34m,\u001b[0m \u001b[0mapi_code\u001b[0m\u001b[0;34m=\u001b[0m\u001b[0mapi_error_code\u001b[0m\u001b[0;34m)\u001b[0m\u001b[0;34m\u001b[0m\u001b[0;34m\u001b[0m\u001b[0m\n",
      "\u001b[0;31mRateLimitError\u001b[0m: [{'message': 'Rate limit exceeded', 'code': 88}]"
     ]
    }
   ],
   "source": [
    "followers = twit_conn.get_followers('@AOC')"
   ]
  },
  {
   "cell_type": "code",
   "execution_count": 101,
   "metadata": {},
   "outputs": [
    {
     "name": "stdout",
     "output_type": "stream",
     "text": [
      "/application/rate_limit_status 180 171 2019-08-21 21:05:28\n",
      "/followers/list 15 0 2019-08-21 21:04:58\n"
     ]
    }
   ],
   "source": [
    "twit_conn.print_used_rate_limit_status()"
   ]
  },
  {
   "cell_type": "code",
   "execution_count": null,
   "metadata": {},
   "outputs": [],
   "source": []
  }
 ],
 "metadata": {
  "kernelspec": {
   "display_name": "Python 3",
   "language": "python",
   "name": "python3"
  },
  "language_info": {
   "codemirror_mode": {
    "name": "ipython",
    "version": 3
   },
   "file_extension": ".py",
   "mimetype": "text/x-python",
   "name": "python",
   "nbconvert_exporter": "python",
   "pygments_lexer": "ipython3",
   "version": "3.7.3"
  }
 },
 "nbformat": 4,
 "nbformat_minor": 2
}
